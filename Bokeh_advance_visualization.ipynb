{
 "cells": [
  {
   "cell_type": "code",
   "execution_count": 2,
   "metadata": {},
   "outputs": [],
   "source": [
    "import bokeh"
   ]
  },
  {
   "cell_type": "code",
   "execution_count": 3,
   "metadata": {},
   "outputs": [],
   "source": [
    "from bokeh.io import output_notebook, show\n",
    "from bokeh.plotting import figure"
   ]
  },
  {
   "cell_type": "code",
   "execution_count": 4,
   "metadata": {},
   "outputs": [
    {
     "data": {
      "text/html": [
       "\n",
       "    <div class=\"bk-root\">\n",
       "        <a href=\"https://bokeh.pydata.org\" target=\"_blank\" class=\"bk-logo bk-logo-small bk-logo-notebook\"></a>\n",
       "        <span id=\"1001\">Loading BokehJS ...</span>\n",
       "    </div>"
      ]
     },
     "metadata": {},
     "output_type": "display_data"
    },
    {
     "data": {
      "application/javascript": [
       "\n",
       "(function(root) {\n",
       "  function now() {\n",
       "    return new Date();\n",
       "  }\n",
       "\n",
       "  var force = true;\n",
       "\n",
       "  if (typeof root._bokeh_onload_callbacks === \"undefined\" || force === true) {\n",
       "    root._bokeh_onload_callbacks = [];\n",
       "    root._bokeh_is_loading = undefined;\n",
       "  }\n",
       "\n",
       "  var JS_MIME_TYPE = 'application/javascript';\n",
       "  var HTML_MIME_TYPE = 'text/html';\n",
       "  var EXEC_MIME_TYPE = 'application/vnd.bokehjs_exec.v0+json';\n",
       "  var CLASS_NAME = 'output_bokeh rendered_html';\n",
       "\n",
       "  /**\n",
       "   * Render data to the DOM node\n",
       "   */\n",
       "  function render(props, node) {\n",
       "    var script = document.createElement(\"script\");\n",
       "    node.appendChild(script);\n",
       "  }\n",
       "\n",
       "  /**\n",
       "   * Handle when an output is cleared or removed\n",
       "   */\n",
       "  function handleClearOutput(event, handle) {\n",
       "    var cell = handle.cell;\n",
       "\n",
       "    var id = cell.output_area._bokeh_element_id;\n",
       "    var server_id = cell.output_area._bokeh_server_id;\n",
       "    // Clean up Bokeh references\n",
       "    if (id != null && id in Bokeh.index) {\n",
       "      Bokeh.index[id].model.document.clear();\n",
       "      delete Bokeh.index[id];\n",
       "    }\n",
       "\n",
       "    if (server_id !== undefined) {\n",
       "      // Clean up Bokeh references\n",
       "      var cmd = \"from bokeh.io.state import curstate; print(curstate().uuid_to_server['\" + server_id + \"'].get_sessions()[0].document.roots[0]._id)\";\n",
       "      cell.notebook.kernel.execute(cmd, {\n",
       "        iopub: {\n",
       "          output: function(msg) {\n",
       "            var id = msg.content.text.trim();\n",
       "            if (id in Bokeh.index) {\n",
       "              Bokeh.index[id].model.document.clear();\n",
       "              delete Bokeh.index[id];\n",
       "            }\n",
       "          }\n",
       "        }\n",
       "      });\n",
       "      // Destroy server and session\n",
       "      var cmd = \"import bokeh.io.notebook as ion; ion.destroy_server('\" + server_id + \"')\";\n",
       "      cell.notebook.kernel.execute(cmd);\n",
       "    }\n",
       "  }\n",
       "\n",
       "  /**\n",
       "   * Handle when a new output is added\n",
       "   */\n",
       "  function handleAddOutput(event, handle) {\n",
       "    var output_area = handle.output_area;\n",
       "    var output = handle.output;\n",
       "\n",
       "    // limit handleAddOutput to display_data with EXEC_MIME_TYPE content only\n",
       "    if ((output.output_type != \"display_data\") || (!output.data.hasOwnProperty(EXEC_MIME_TYPE))) {\n",
       "      return\n",
       "    }\n",
       "\n",
       "    var toinsert = output_area.element.find(\".\" + CLASS_NAME.split(' ')[0]);\n",
       "\n",
       "    if (output.metadata[EXEC_MIME_TYPE][\"id\"] !== undefined) {\n",
       "      toinsert[toinsert.length - 1].firstChild.textContent = output.data[JS_MIME_TYPE];\n",
       "      // store reference to embed id on output_area\n",
       "      output_area._bokeh_element_id = output.metadata[EXEC_MIME_TYPE][\"id\"];\n",
       "    }\n",
       "    if (output.metadata[EXEC_MIME_TYPE][\"server_id\"] !== undefined) {\n",
       "      var bk_div = document.createElement(\"div\");\n",
       "      bk_div.innerHTML = output.data[HTML_MIME_TYPE];\n",
       "      var script_attrs = bk_div.children[0].attributes;\n",
       "      for (var i = 0; i < script_attrs.length; i++) {\n",
       "        toinsert[toinsert.length - 1].firstChild.setAttribute(script_attrs[i].name, script_attrs[i].value);\n",
       "      }\n",
       "      // store reference to server id on output_area\n",
       "      output_area._bokeh_server_id = output.metadata[EXEC_MIME_TYPE][\"server_id\"];\n",
       "    }\n",
       "  }\n",
       "\n",
       "  function register_renderer(events, OutputArea) {\n",
       "\n",
       "    function append_mime(data, metadata, element) {\n",
       "      // create a DOM node to render to\n",
       "      var toinsert = this.create_output_subarea(\n",
       "        metadata,\n",
       "        CLASS_NAME,\n",
       "        EXEC_MIME_TYPE\n",
       "      );\n",
       "      this.keyboard_manager.register_events(toinsert);\n",
       "      // Render to node\n",
       "      var props = {data: data, metadata: metadata[EXEC_MIME_TYPE]};\n",
       "      render(props, toinsert[toinsert.length - 1]);\n",
       "      element.append(toinsert);\n",
       "      return toinsert\n",
       "    }\n",
       "\n",
       "    /* Handle when an output is cleared or removed */\n",
       "    events.on('clear_output.CodeCell', handleClearOutput);\n",
       "    events.on('delete.Cell', handleClearOutput);\n",
       "\n",
       "    /* Handle when a new output is added */\n",
       "    events.on('output_added.OutputArea', handleAddOutput);\n",
       "\n",
       "    /**\n",
       "     * Register the mime type and append_mime function with output_area\n",
       "     */\n",
       "    OutputArea.prototype.register_mime_type(EXEC_MIME_TYPE, append_mime, {\n",
       "      /* Is output safe? */\n",
       "      safe: true,\n",
       "      /* Index of renderer in `output_area.display_order` */\n",
       "      index: 0\n",
       "    });\n",
       "  }\n",
       "\n",
       "  // register the mime type if in Jupyter Notebook environment and previously unregistered\n",
       "  if (root.Jupyter !== undefined) {\n",
       "    var events = require('base/js/events');\n",
       "    var OutputArea = require('notebook/js/outputarea').OutputArea;\n",
       "\n",
       "    if (OutputArea.prototype.mime_types().indexOf(EXEC_MIME_TYPE) == -1) {\n",
       "      register_renderer(events, OutputArea);\n",
       "    }\n",
       "  }\n",
       "\n",
       "  \n",
       "  if (typeof (root._bokeh_timeout) === \"undefined\" || force === true) {\n",
       "    root._bokeh_timeout = Date.now() + 5000;\n",
       "    root._bokeh_failed_load = false;\n",
       "  }\n",
       "\n",
       "  var NB_LOAD_WARNING = {'data': {'text/html':\n",
       "     \"<div style='background-color: #fdd'>\\n\"+\n",
       "     \"<p>\\n\"+\n",
       "     \"BokehJS does not appear to have successfully loaded. If loading BokehJS from CDN, this \\n\"+\n",
       "     \"may be due to a slow or bad network connection. Possible fixes:\\n\"+\n",
       "     \"</p>\\n\"+\n",
       "     \"<ul>\\n\"+\n",
       "     \"<li>re-rerun `output_notebook()` to attempt to load from CDN again, or</li>\\n\"+\n",
       "     \"<li>use INLINE resources instead, as so:</li>\\n\"+\n",
       "     \"</ul>\\n\"+\n",
       "     \"<code>\\n\"+\n",
       "     \"from bokeh.resources import INLINE\\n\"+\n",
       "     \"output_notebook(resources=INLINE)\\n\"+\n",
       "     \"</code>\\n\"+\n",
       "     \"</div>\"}};\n",
       "\n",
       "  function display_loaded() {\n",
       "    var el = document.getElementById(\"1001\");\n",
       "    if (el != null) {\n",
       "      el.textContent = \"BokehJS is loading...\";\n",
       "    }\n",
       "    if (root.Bokeh !== undefined) {\n",
       "      if (el != null) {\n",
       "        el.textContent = \"BokehJS \" + root.Bokeh.version + \" successfully loaded.\";\n",
       "      }\n",
       "    } else if (Date.now() < root._bokeh_timeout) {\n",
       "      setTimeout(display_loaded, 100)\n",
       "    }\n",
       "  }\n",
       "\n",
       "\n",
       "  function run_callbacks() {\n",
       "    try {\n",
       "      root._bokeh_onload_callbacks.forEach(function(callback) {\n",
       "        if (callback != null)\n",
       "          callback();\n",
       "      });\n",
       "    } finally {\n",
       "      delete root._bokeh_onload_callbacks\n",
       "    }\n",
       "    console.debug(\"Bokeh: all callbacks have finished\");\n",
       "  }\n",
       "\n",
       "  function load_libs(css_urls, js_urls, callback) {\n",
       "    if (css_urls == null) css_urls = [];\n",
       "    if (js_urls == null) js_urls = [];\n",
       "\n",
       "    root._bokeh_onload_callbacks.push(callback);\n",
       "    if (root._bokeh_is_loading > 0) {\n",
       "      console.debug(\"Bokeh: BokehJS is being loaded, scheduling callback at\", now());\n",
       "      return null;\n",
       "    }\n",
       "    if (js_urls == null || js_urls.length === 0) {\n",
       "      run_callbacks();\n",
       "      return null;\n",
       "    }\n",
       "    console.debug(\"Bokeh: BokehJS not loaded, scheduling load and callback at\", now());\n",
       "    root._bokeh_is_loading = css_urls.length + js_urls.length;\n",
       "\n",
       "    function on_load() {\n",
       "      root._bokeh_is_loading--;\n",
       "      if (root._bokeh_is_loading === 0) {\n",
       "        console.debug(\"Bokeh: all BokehJS libraries/stylesheets loaded\");\n",
       "        run_callbacks()\n",
       "      }\n",
       "    }\n",
       "\n",
       "    function on_error() {\n",
       "      console.error(\"failed to load \" + url);\n",
       "    }\n",
       "\n",
       "    for (var i = 0; i < css_urls.length; i++) {\n",
       "      var url = css_urls[i];\n",
       "      const element = document.createElement(\"link\");\n",
       "      element.onload = on_load;\n",
       "      element.onerror = on_error;\n",
       "      element.rel = \"stylesheet\";\n",
       "      element.type = \"text/css\";\n",
       "      element.href = url;\n",
       "      console.debug(\"Bokeh: injecting link tag for BokehJS stylesheet: \", url);\n",
       "      document.body.appendChild(element);\n",
       "    }\n",
       "\n",
       "    for (var i = 0; i < js_urls.length; i++) {\n",
       "      var url = js_urls[i];\n",
       "      var element = document.createElement('script');\n",
       "      element.onload = on_load;\n",
       "      element.onerror = on_error;\n",
       "      element.async = false;\n",
       "      element.src = url;\n",
       "      console.debug(\"Bokeh: injecting script tag for BokehJS library: \", url);\n",
       "      document.head.appendChild(element);\n",
       "    }\n",
       "  };var element = document.getElementById(\"1001\");\n",
       "  if (element == null) {\n",
       "    console.error(\"Bokeh: ERROR: autoload.js configured with elementid '1001' but no matching script tag was found. \")\n",
       "    return false;\n",
       "  }\n",
       "\n",
       "  function inject_raw_css(css) {\n",
       "    const element = document.createElement(\"style\");\n",
       "    element.appendChild(document.createTextNode(css));\n",
       "    document.body.appendChild(element);\n",
       "  }\n",
       "\n",
       "  var js_urls = [\"https://cdn.pydata.org/bokeh/release/bokeh-1.3.4.min.js\", \"https://cdn.pydata.org/bokeh/release/bokeh-widgets-1.3.4.min.js\", \"https://cdn.pydata.org/bokeh/release/bokeh-tables-1.3.4.min.js\", \"https://cdn.pydata.org/bokeh/release/bokeh-gl-1.3.4.min.js\"];\n",
       "  var css_urls = [];\n",
       "\n",
       "  var inline_js = [\n",
       "    function(Bokeh) {\n",
       "      Bokeh.set_log_level(\"info\");\n",
       "    },\n",
       "    \n",
       "    function(Bokeh) {\n",
       "      \n",
       "    },\n",
       "    function(Bokeh) {} // ensure no trailing comma for IE\n",
       "  ];\n",
       "\n",
       "  function run_inline_js() {\n",
       "    \n",
       "    if ((root.Bokeh !== undefined) || (force === true)) {\n",
       "      for (var i = 0; i < inline_js.length; i++) {\n",
       "        inline_js[i].call(root, root.Bokeh);\n",
       "      }if (force === true) {\n",
       "        display_loaded();\n",
       "      }} else if (Date.now() < root._bokeh_timeout) {\n",
       "      setTimeout(run_inline_js, 100);\n",
       "    } else if (!root._bokeh_failed_load) {\n",
       "      console.log(\"Bokeh: BokehJS failed to load within specified timeout.\");\n",
       "      root._bokeh_failed_load = true;\n",
       "    } else if (force !== true) {\n",
       "      var cell = $(document.getElementById(\"1001\")).parents('.cell').data().cell;\n",
       "      cell.output_area.append_execute_result(NB_LOAD_WARNING)\n",
       "    }\n",
       "\n",
       "  }\n",
       "\n",
       "  if (root._bokeh_is_loading === 0) {\n",
       "    console.debug(\"Bokeh: BokehJS loaded, going straight to plotting\");\n",
       "    run_inline_js();\n",
       "  } else {\n",
       "    load_libs(css_urls, js_urls, function() {\n",
       "      console.debug(\"Bokeh: BokehJS plotting callback run at\", now());\n",
       "      run_inline_js();\n",
       "    });\n",
       "  }\n",
       "}(window));"
      ],
      "application/vnd.bokehjs_load.v0+json": "\n(function(root) {\n  function now() {\n    return new Date();\n  }\n\n  var force = true;\n\n  if (typeof root._bokeh_onload_callbacks === \"undefined\" || force === true) {\n    root._bokeh_onload_callbacks = [];\n    root._bokeh_is_loading = undefined;\n  }\n\n  \n\n  \n  if (typeof (root._bokeh_timeout) === \"undefined\" || force === true) {\n    root._bokeh_timeout = Date.now() + 5000;\n    root._bokeh_failed_load = false;\n  }\n\n  var NB_LOAD_WARNING = {'data': {'text/html':\n     \"<div style='background-color: #fdd'>\\n\"+\n     \"<p>\\n\"+\n     \"BokehJS does not appear to have successfully loaded. If loading BokehJS from CDN, this \\n\"+\n     \"may be due to a slow or bad network connection. Possible fixes:\\n\"+\n     \"</p>\\n\"+\n     \"<ul>\\n\"+\n     \"<li>re-rerun `output_notebook()` to attempt to load from CDN again, or</li>\\n\"+\n     \"<li>use INLINE resources instead, as so:</li>\\n\"+\n     \"</ul>\\n\"+\n     \"<code>\\n\"+\n     \"from bokeh.resources import INLINE\\n\"+\n     \"output_notebook(resources=INLINE)\\n\"+\n     \"</code>\\n\"+\n     \"</div>\"}};\n\n  function display_loaded() {\n    var el = document.getElementById(\"1001\");\n    if (el != null) {\n      el.textContent = \"BokehJS is loading...\";\n    }\n    if (root.Bokeh !== undefined) {\n      if (el != null) {\n        el.textContent = \"BokehJS \" + root.Bokeh.version + \" successfully loaded.\";\n      }\n    } else if (Date.now() < root._bokeh_timeout) {\n      setTimeout(display_loaded, 100)\n    }\n  }\n\n\n  function run_callbacks() {\n    try {\n      root._bokeh_onload_callbacks.forEach(function(callback) {\n        if (callback != null)\n          callback();\n      });\n    } finally {\n      delete root._bokeh_onload_callbacks\n    }\n    console.debug(\"Bokeh: all callbacks have finished\");\n  }\n\n  function load_libs(css_urls, js_urls, callback) {\n    if (css_urls == null) css_urls = [];\n    if (js_urls == null) js_urls = [];\n\n    root._bokeh_onload_callbacks.push(callback);\n    if (root._bokeh_is_loading > 0) {\n      console.debug(\"Bokeh: BokehJS is being loaded, scheduling callback at\", now());\n      return null;\n    }\n    if (js_urls == null || js_urls.length === 0) {\n      run_callbacks();\n      return null;\n    }\n    console.debug(\"Bokeh: BokehJS not loaded, scheduling load and callback at\", now());\n    root._bokeh_is_loading = css_urls.length + js_urls.length;\n\n    function on_load() {\n      root._bokeh_is_loading--;\n      if (root._bokeh_is_loading === 0) {\n        console.debug(\"Bokeh: all BokehJS libraries/stylesheets loaded\");\n        run_callbacks()\n      }\n    }\n\n    function on_error() {\n      console.error(\"failed to load \" + url);\n    }\n\n    for (var i = 0; i < css_urls.length; i++) {\n      var url = css_urls[i];\n      const element = document.createElement(\"link\");\n      element.onload = on_load;\n      element.onerror = on_error;\n      element.rel = \"stylesheet\";\n      element.type = \"text/css\";\n      element.href = url;\n      console.debug(\"Bokeh: injecting link tag for BokehJS stylesheet: \", url);\n      document.body.appendChild(element);\n    }\n\n    for (var i = 0; i < js_urls.length; i++) {\n      var url = js_urls[i];\n      var element = document.createElement('script');\n      element.onload = on_load;\n      element.onerror = on_error;\n      element.async = false;\n      element.src = url;\n      console.debug(\"Bokeh: injecting script tag for BokehJS library: \", url);\n      document.head.appendChild(element);\n    }\n  };var element = document.getElementById(\"1001\");\n  if (element == null) {\n    console.error(\"Bokeh: ERROR: autoload.js configured with elementid '1001' but no matching script tag was found. \")\n    return false;\n  }\n\n  function inject_raw_css(css) {\n    const element = document.createElement(\"style\");\n    element.appendChild(document.createTextNode(css));\n    document.body.appendChild(element);\n  }\n\n  var js_urls = [\"https://cdn.pydata.org/bokeh/release/bokeh-1.3.4.min.js\", \"https://cdn.pydata.org/bokeh/release/bokeh-widgets-1.3.4.min.js\", \"https://cdn.pydata.org/bokeh/release/bokeh-tables-1.3.4.min.js\", \"https://cdn.pydata.org/bokeh/release/bokeh-gl-1.3.4.min.js\"];\n  var css_urls = [];\n\n  var inline_js = [\n    function(Bokeh) {\n      Bokeh.set_log_level(\"info\");\n    },\n    \n    function(Bokeh) {\n      \n    },\n    function(Bokeh) {} // ensure no trailing comma for IE\n  ];\n\n  function run_inline_js() {\n    \n    if ((root.Bokeh !== undefined) || (force === true)) {\n      for (var i = 0; i < inline_js.length; i++) {\n        inline_js[i].call(root, root.Bokeh);\n      }if (force === true) {\n        display_loaded();\n      }} else if (Date.now() < root._bokeh_timeout) {\n      setTimeout(run_inline_js, 100);\n    } else if (!root._bokeh_failed_load) {\n      console.log(\"Bokeh: BokehJS failed to load within specified timeout.\");\n      root._bokeh_failed_load = true;\n    } else if (force !== true) {\n      var cell = $(document.getElementById(\"1001\")).parents('.cell').data().cell;\n      cell.output_area.append_execute_result(NB_LOAD_WARNING)\n    }\n\n  }\n\n  if (root._bokeh_is_loading === 0) {\n    console.debug(\"Bokeh: BokehJS loaded, going straight to plotting\");\n    run_inline_js();\n  } else {\n    load_libs(css_urls, js_urls, function() {\n      console.debug(\"Bokeh: BokehJS plotting callback run at\", now());\n      run_inline_js();\n    });\n  }\n}(window));"
     },
     "metadata": {},
     "output_type": "display_data"
    }
   ],
   "source": [
    "output_notebook()\n"
   ]
  },
  {
   "cell_type": "code",
   "execution_count": 5,
   "metadata": {},
   "outputs": [],
   "source": [
    "p = figure(plot_width=450, plot_height=350)"
   ]
  },
  {
   "cell_type": "code",
   "execution_count": 6,
   "metadata": {},
   "outputs": [
    {
     "name": "stderr",
     "output_type": "stream",
     "text": [
      "WARNING:bokeh.core.validation.check:W-1000 (MISSING_RENDERERS): Plot has no renderers: Figure(id='1002', ...)\n"
     ]
    },
    {
     "data": {
      "text/html": [
       "\n",
       "\n",
       "\n",
       "\n",
       "\n",
       "\n",
       "  <div class=\"bk-root\" id=\"847e8aa3-691e-4470-8e35-6a02ba9fb183\" data-root-id=\"1002\"></div>\n"
      ]
     },
     "metadata": {},
     "output_type": "display_data"
    },
    {
     "data": {
      "application/javascript": [
       "(function(root) {\n",
       "  function embed_document(root) {\n",
       "    \n",
       "  var docs_json = {\"fe3aafd2-aecd-47f9-a54e-81e185b9598a\":{\"roots\":{\"references\":[{\"attributes\":{\"below\":[{\"id\":\"1011\",\"type\":\"LinearAxis\"}],\"center\":[{\"id\":\"1015\",\"type\":\"Grid\"},{\"id\":\"1020\",\"type\":\"Grid\"}],\"left\":[{\"id\":\"1016\",\"type\":\"LinearAxis\"}],\"plot_height\":350,\"plot_width\":450,\"title\":{\"id\":\"1035\",\"type\":\"Title\"},\"toolbar\":{\"id\":\"1027\",\"type\":\"Toolbar\"},\"x_range\":{\"id\":\"1003\",\"type\":\"DataRange1d\"},\"x_scale\":{\"id\":\"1007\",\"type\":\"LinearScale\"},\"y_range\":{\"id\":\"1005\",\"type\":\"DataRange1d\"},\"y_scale\":{\"id\":\"1009\",\"type\":\"LinearScale\"}},\"id\":\"1002\",\"subtype\":\"Figure\",\"type\":\"Plot\"},{\"attributes\":{\"formatter\":{\"id\":\"1038\",\"type\":\"BasicTickFormatter\"},\"ticker\":{\"id\":\"1017\",\"type\":\"BasicTicker\"}},\"id\":\"1016\",\"type\":\"LinearAxis\"},{\"attributes\":{\"dimension\":1,\"ticker\":{\"id\":\"1017\",\"type\":\"BasicTicker\"}},\"id\":\"1020\",\"type\":\"Grid\"},{\"attributes\":{\"callback\":null},\"id\":\"1003\",\"type\":\"DataRange1d\"},{\"attributes\":{},\"id\":\"1017\",\"type\":\"BasicTicker\"},{\"attributes\":{},\"id\":\"1009\",\"type\":\"LinearScale\"},{\"attributes\":{\"overlay\":{\"id\":\"1040\",\"type\":\"BoxAnnotation\"}},\"id\":\"1023\",\"type\":\"BoxZoomTool\"},{\"attributes\":{\"callback\":null},\"id\":\"1005\",\"type\":\"DataRange1d\"},{\"attributes\":{},\"id\":\"1024\",\"type\":\"SaveTool\"},{\"attributes\":{},\"id\":\"1025\",\"type\":\"ResetTool\"},{\"attributes\":{},\"id\":\"1012\",\"type\":\"BasicTicker\"},{\"attributes\":{\"ticker\":{\"id\":\"1012\",\"type\":\"BasicTicker\"}},\"id\":\"1015\",\"type\":\"Grid\"},{\"attributes\":{\"text\":\"\"},\"id\":\"1035\",\"type\":\"Title\"},{\"attributes\":{},\"id\":\"1021\",\"type\":\"PanTool\"},{\"attributes\":{},\"id\":\"1026\",\"type\":\"HelpTool\"},{\"attributes\":{},\"id\":\"1036\",\"type\":\"BasicTickFormatter\"},{\"attributes\":{},\"id\":\"1038\",\"type\":\"BasicTickFormatter\"},{\"attributes\":{\"active_drag\":\"auto\",\"active_inspect\":\"auto\",\"active_multi\":null,\"active_scroll\":\"auto\",\"active_tap\":\"auto\",\"tools\":[{\"id\":\"1021\",\"type\":\"PanTool\"},{\"id\":\"1022\",\"type\":\"WheelZoomTool\"},{\"id\":\"1023\",\"type\":\"BoxZoomTool\"},{\"id\":\"1024\",\"type\":\"SaveTool\"},{\"id\":\"1025\",\"type\":\"ResetTool\"},{\"id\":\"1026\",\"type\":\"HelpTool\"}]},\"id\":\"1027\",\"type\":\"Toolbar\"},{\"attributes\":{\"bottom_units\":\"screen\",\"fill_alpha\":{\"value\":0.5},\"fill_color\":{\"value\":\"lightgrey\"},\"left_units\":\"screen\",\"level\":\"overlay\",\"line_alpha\":{\"value\":1.0},\"line_color\":{\"value\":\"black\"},\"line_dash\":[4,4],\"line_width\":{\"value\":2},\"render_mode\":\"css\",\"right_units\":\"screen\",\"top_units\":\"screen\"},\"id\":\"1040\",\"type\":\"BoxAnnotation\"},{\"attributes\":{},\"id\":\"1007\",\"type\":\"LinearScale\"},{\"attributes\":{\"formatter\":{\"id\":\"1036\",\"type\":\"BasicTickFormatter\"},\"ticker\":{\"id\":\"1012\",\"type\":\"BasicTicker\"}},\"id\":\"1011\",\"type\":\"LinearAxis\"},{\"attributes\":{},\"id\":\"1022\",\"type\":\"WheelZoomTool\"}],\"root_ids\":[\"1002\"]},\"title\":\"Bokeh Application\",\"version\":\"1.3.4\"}};\n",
       "  var render_items = [{\"docid\":\"fe3aafd2-aecd-47f9-a54e-81e185b9598a\",\"roots\":{\"1002\":\"847e8aa3-691e-4470-8e35-6a02ba9fb183\"}}];\n",
       "  root.Bokeh.embed.embed_items_notebook(docs_json, render_items);\n",
       "\n",
       "  }\n",
       "  if (root.Bokeh !== undefined) {\n",
       "    embed_document(root);\n",
       "  } else {\n",
       "    var attempts = 0;\n",
       "    var timer = setInterval(function(root) {\n",
       "      if (root.Bokeh !== undefined) {\n",
       "        embed_document(root);\n",
       "        clearInterval(timer);\n",
       "      }\n",
       "      attempts++;\n",
       "      if (attempts > 100) {\n",
       "        console.log(\"Bokeh: ERROR: Unable to run BokehJS code because BokehJS library is missing\");\n",
       "        clearInterval(timer);\n",
       "      }\n",
       "    }, 10, root)\n",
       "  }\n",
       "})(window);"
      ],
      "application/vnd.bokehjs_exec.v0+json": ""
     },
     "metadata": {
      "application/vnd.bokehjs_exec.v0+json": {
       "id": "1002"
      }
     },
     "output_type": "display_data"
    }
   ],
   "source": [
    "show(p)"
   ]
  },
  {
   "cell_type": "code",
   "execution_count": 7,
   "metadata": {},
   "outputs": [
    {
     "data": {
      "text/html": [
       "\n",
       "\n",
       "\n",
       "\n",
       "\n",
       "\n",
       "  <div class=\"bk-root\" id=\"7ab130f3-1fde-4fa5-82d1-fbf604f1ba78\" data-root-id=\"1002\"></div>\n"
      ]
     },
     "metadata": {},
     "output_type": "display_data"
    },
    {
     "data": {
      "application/javascript": [
       "(function(root) {\n",
       "  function embed_document(root) {\n",
       "    \n",
       "  var docs_json = {\"2fe9196c-141a-417c-8a2f-8a7c65964098\":{\"roots\":{\"references\":[{\"attributes\":{\"below\":[{\"id\":\"1011\",\"type\":\"LinearAxis\"}],\"center\":[{\"id\":\"1015\",\"type\":\"Grid\"},{\"id\":\"1020\",\"type\":\"Grid\"}],\"left\":[{\"id\":\"1016\",\"type\":\"LinearAxis\"}],\"plot_height\":350,\"plot_width\":450,\"renderers\":[{\"id\":\"1086\",\"type\":\"GlyphRenderer\"}],\"title\":{\"id\":\"1035\",\"type\":\"Title\"},\"toolbar\":{\"id\":\"1027\",\"type\":\"Toolbar\"},\"x_range\":{\"id\":\"1003\",\"type\":\"DataRange1d\"},\"x_scale\":{\"id\":\"1007\",\"type\":\"LinearScale\"},\"y_range\":{\"id\":\"1005\",\"type\":\"DataRange1d\"},\"y_scale\":{\"id\":\"1009\",\"type\":\"LinearScale\"}},\"id\":\"1002\",\"subtype\":\"Figure\",\"type\":\"Plot\"},{\"attributes\":{\"fill_color\":{\"value\":\"#1f77b4\"},\"line_color\":{\"value\":\"#1f77b4\"},\"x\":{\"field\":\"x\"},\"y\":{\"field\":\"y\"}},\"id\":\"1084\",\"type\":\"Circle\"},{\"attributes\":{\"formatter\":{\"id\":\"1038\",\"type\":\"BasicTickFormatter\"},\"ticker\":{\"id\":\"1017\",\"type\":\"BasicTicker\"}},\"id\":\"1016\",\"type\":\"LinearAxis\"},{\"attributes\":{\"dimension\":1,\"ticker\":{\"id\":\"1017\",\"type\":\"BasicTicker\"}},\"id\":\"1020\",\"type\":\"Grid\"},{\"attributes\":{\"callback\":null},\"id\":\"1003\",\"type\":\"DataRange1d\"},{\"attributes\":{},\"id\":\"1017\",\"type\":\"BasicTicker\"},{\"attributes\":{},\"id\":\"1009\",\"type\":\"LinearScale\"},{\"attributes\":{\"overlay\":{\"id\":\"1040\",\"type\":\"BoxAnnotation\"}},\"id\":\"1023\",\"type\":\"BoxZoomTool\"},{\"attributes\":{\"callback\":null},\"id\":\"1005\",\"type\":\"DataRange1d\"},{\"attributes\":{},\"id\":\"1024\",\"type\":\"SaveTool\"},{\"attributes\":{\"callback\":null,\"data\":{\"x\":[2,4,6,8],\"y\":[4,3,7,1]},\"selected\":{\"id\":\"1096\",\"type\":\"Selection\"},\"selection_policy\":{\"id\":\"1095\",\"type\":\"UnionRenderers\"}},\"id\":\"1083\",\"type\":\"ColumnDataSource\"},{\"attributes\":{},\"id\":\"1095\",\"type\":\"UnionRenderers\"},{\"attributes\":{},\"id\":\"1025\",\"type\":\"ResetTool\"},{\"attributes\":{},\"id\":\"1012\",\"type\":\"BasicTicker\"},{\"attributes\":{\"ticker\":{\"id\":\"1012\",\"type\":\"BasicTicker\"}},\"id\":\"1015\",\"type\":\"Grid\"},{\"attributes\":{\"text\":\"\"},\"id\":\"1035\",\"type\":\"Title\"},{\"attributes\":{\"data_source\":{\"id\":\"1083\",\"type\":\"ColumnDataSource\"},\"glyph\":{\"id\":\"1084\",\"type\":\"Circle\"},\"hover_glyph\":null,\"muted_glyph\":null,\"nonselection_glyph\":{\"id\":\"1085\",\"type\":\"Circle\"},\"selection_glyph\":null,\"view\":{\"id\":\"1087\",\"type\":\"CDSView\"}},\"id\":\"1086\",\"type\":\"GlyphRenderer\"},{\"attributes\":{},\"id\":\"1021\",\"type\":\"PanTool\"},{\"attributes\":{},\"id\":\"1096\",\"type\":\"Selection\"},{\"attributes\":{},\"id\":\"1026\",\"type\":\"HelpTool\"},{\"attributes\":{\"source\":{\"id\":\"1083\",\"type\":\"ColumnDataSource\"}},\"id\":\"1087\",\"type\":\"CDSView\"},{\"attributes\":{},\"id\":\"1036\",\"type\":\"BasicTickFormatter\"},{\"attributes\":{\"fill_alpha\":{\"value\":0.1},\"fill_color\":{\"value\":\"#1f77b4\"},\"line_alpha\":{\"value\":0.1},\"line_color\":{\"value\":\"#1f77b4\"},\"x\":{\"field\":\"x\"},\"y\":{\"field\":\"y\"}},\"id\":\"1085\",\"type\":\"Circle\"},{\"attributes\":{},\"id\":\"1038\",\"type\":\"BasicTickFormatter\"},{\"attributes\":{\"active_drag\":\"auto\",\"active_inspect\":\"auto\",\"active_multi\":null,\"active_scroll\":\"auto\",\"active_tap\":\"auto\",\"tools\":[{\"id\":\"1021\",\"type\":\"PanTool\"},{\"id\":\"1022\",\"type\":\"WheelZoomTool\"},{\"id\":\"1023\",\"type\":\"BoxZoomTool\"},{\"id\":\"1024\",\"type\":\"SaveTool\"},{\"id\":\"1025\",\"type\":\"ResetTool\"},{\"id\":\"1026\",\"type\":\"HelpTool\"}]},\"id\":\"1027\",\"type\":\"Toolbar\"},{\"attributes\":{\"bottom_units\":\"screen\",\"fill_alpha\":{\"value\":0.5},\"fill_color\":{\"value\":\"lightgrey\"},\"left_units\":\"screen\",\"level\":\"overlay\",\"line_alpha\":{\"value\":1.0},\"line_color\":{\"value\":\"black\"},\"line_dash\":[4,4],\"line_width\":{\"value\":2},\"render_mode\":\"css\",\"right_units\":\"screen\",\"top_units\":\"screen\"},\"id\":\"1040\",\"type\":\"BoxAnnotation\"},{\"attributes\":{},\"id\":\"1007\",\"type\":\"LinearScale\"},{\"attributes\":{\"formatter\":{\"id\":\"1036\",\"type\":\"BasicTickFormatter\"},\"ticker\":{\"id\":\"1012\",\"type\":\"BasicTicker\"}},\"id\":\"1011\",\"type\":\"LinearAxis\"},{\"attributes\":{},\"id\":\"1022\",\"type\":\"WheelZoomTool\"}],\"root_ids\":[\"1002\"]},\"title\":\"Bokeh Application\",\"version\":\"1.3.4\"}};\n",
       "  var render_items = [{\"docid\":\"2fe9196c-141a-417c-8a2f-8a7c65964098\",\"roots\":{\"1002\":\"7ab130f3-1fde-4fa5-82d1-fbf604f1ba78\"}}];\n",
       "  root.Bokeh.embed.embed_items_notebook(docs_json, render_items);\n",
       "\n",
       "  }\n",
       "  if (root.Bokeh !== undefined) {\n",
       "    embed_document(root);\n",
       "  } else {\n",
       "    var attempts = 0;\n",
       "    var timer = setInterval(function(root) {\n",
       "      if (root.Bokeh !== undefined) {\n",
       "        embed_document(root);\n",
       "        clearInterval(timer);\n",
       "      }\n",
       "      attempts++;\n",
       "      if (attempts > 100) {\n",
       "        console.log(\"Bokeh: ERROR: Unable to run BokehJS code because BokehJS library is missing\");\n",
       "        clearInterval(timer);\n",
       "      }\n",
       "    }, 10, root)\n",
       "  }\n",
       "})(window);"
      ],
      "application/vnd.bokehjs_exec.v0+json": ""
     },
     "metadata": {
      "application/vnd.bokehjs_exec.v0+json": {
       "id": "1002"
      }
     },
     "output_type": "display_data"
    }
   ],
   "source": [
    "p.circle([2,4,6,8],[4,3,7,1])\n",
    "\n",
    "show(p)"
   ]
  },
  {
   "cell_type": "code",
   "execution_count": 8,
   "metadata": {},
   "outputs": [
    {
     "data": {
      "text/html": [
       "\n",
       "\n",
       "\n",
       "\n",
       "\n",
       "\n",
       "  <div class=\"bk-root\" id=\"5ff53579-f949-45a5-bcca-3474f8130eb2\" data-root-id=\"1002\"></div>\n"
      ]
     },
     "metadata": {},
     "output_type": "display_data"
    },
    {
     "data": {
      "application/javascript": [
       "(function(root) {\n",
       "  function embed_document(root) {\n",
       "    \n",
       "  var docs_json = {\"1971a989-9cfa-492d-aaf5-1e1aea45b6b2\":{\"roots\":{\"references\":[{\"attributes\":{\"below\":[{\"id\":\"1011\",\"type\":\"LinearAxis\"}],\"center\":[{\"id\":\"1015\",\"type\":\"Grid\"},{\"id\":\"1020\",\"type\":\"Grid\"}],\"left\":[{\"id\":\"1016\",\"type\":\"LinearAxis\"}],\"plot_height\":350,\"plot_width\":450,\"renderers\":[{\"id\":\"1086\",\"type\":\"GlyphRenderer\"},{\"id\":\"1154\",\"type\":\"GlyphRenderer\"}],\"title\":{\"id\":\"1035\",\"type\":\"Title\"},\"toolbar\":{\"id\":\"1027\",\"type\":\"Toolbar\"},\"x_range\":{\"id\":\"1003\",\"type\":\"DataRange1d\"},\"x_scale\":{\"id\":\"1007\",\"type\":\"LinearScale\"},\"y_range\":{\"id\":\"1005\",\"type\":\"DataRange1d\"},\"y_scale\":{\"id\":\"1009\",\"type\":\"LinearScale\"}},\"id\":\"1002\",\"subtype\":\"Figure\",\"type\":\"Plot\"},{\"attributes\":{\"fill_color\":{\"value\":\"#1f77b4\"},\"line_color\":{\"value\":\"#1f77b4\"},\"x\":{\"field\":\"x\"},\"y\":{\"field\":\"y\"}},\"id\":\"1084\",\"type\":\"Circle\"},{\"attributes\":{\"formatter\":{\"id\":\"1038\",\"type\":\"BasicTickFormatter\"},\"ticker\":{\"id\":\"1017\",\"type\":\"BasicTicker\"}},\"id\":\"1016\",\"type\":\"LinearAxis\"},{\"attributes\":{\"dimension\":1,\"ticker\":{\"id\":\"1017\",\"type\":\"BasicTicker\"}},\"id\":\"1020\",\"type\":\"Grid\"},{\"attributes\":{\"callback\":null},\"id\":\"1003\",\"type\":\"DataRange1d\"},{\"attributes\":{},\"id\":\"1017\",\"type\":\"BasicTicker\"},{\"attributes\":{},\"id\":\"1009\",\"type\":\"LinearScale\"},{\"attributes\":{\"source\":{\"id\":\"1151\",\"type\":\"ColumnDataSource\"}},\"id\":\"1155\",\"type\":\"CDSView\"},{\"attributes\":{\"overlay\":{\"id\":\"1040\",\"type\":\"BoxAnnotation\"}},\"id\":\"1023\",\"type\":\"BoxZoomTool\"},{\"attributes\":{\"callback\":null},\"id\":\"1005\",\"type\":\"DataRange1d\"},{\"attributes\":{\"fill_alpha\":{\"value\":0.1},\"fill_color\":{\"value\":\"#1f77b4\"},\"line_alpha\":{\"value\":0.1},\"line_color\":{\"value\":\"#1f77b4\"},\"size\":{\"units\":\"screen\",\"value\":14},\"x\":{\"field\":\"x\"},\"y\":{\"field\":\"y\"}},\"id\":\"1153\",\"type\":\"Circle\"},{\"attributes\":{},\"id\":\"1024\",\"type\":\"SaveTool\"},{\"attributes\":{\"callback\":null,\"data\":{\"x\":[2,4,6,8],\"y\":[4,3,7,1]},\"selected\":{\"id\":\"1096\",\"type\":\"Selection\"},\"selection_policy\":{\"id\":\"1095\",\"type\":\"UnionRenderers\"}},\"id\":\"1083\",\"type\":\"ColumnDataSource\"},{\"attributes\":{},\"id\":\"1095\",\"type\":\"UnionRenderers\"},{\"attributes\":{},\"id\":\"1025\",\"type\":\"ResetTool\"},{\"attributes\":{\"ticker\":{\"id\":\"1012\",\"type\":\"BasicTicker\"}},\"id\":\"1015\",\"type\":\"Grid\"},{\"attributes\":{\"text\":\"\"},\"id\":\"1035\",\"type\":\"Title\"},{\"attributes\":{},\"id\":\"1012\",\"type\":\"BasicTicker\"},{\"attributes\":{\"data_source\":{\"id\":\"1083\",\"type\":\"ColumnDataSource\"},\"glyph\":{\"id\":\"1084\",\"type\":\"Circle\"},\"hover_glyph\":null,\"muted_glyph\":null,\"nonselection_glyph\":{\"id\":\"1085\",\"type\":\"Circle\"},\"selection_glyph\":null,\"view\":{\"id\":\"1087\",\"type\":\"CDSView\"}},\"id\":\"1086\",\"type\":\"GlyphRenderer\"},{\"attributes\":{},\"id\":\"1021\",\"type\":\"PanTool\"},{\"attributes\":{},\"id\":\"1096\",\"type\":\"Selection\"},{\"attributes\":{},\"id\":\"1026\",\"type\":\"HelpTool\"},{\"attributes\":{\"source\":{\"id\":\"1083\",\"type\":\"ColumnDataSource\"}},\"id\":\"1087\",\"type\":\"CDSView\"},{\"attributes\":{},\"id\":\"1036\",\"type\":\"BasicTickFormatter\"},{\"attributes\":{},\"id\":\"1166\",\"type\":\"Selection\"},{\"attributes\":{\"fill_color\":{\"value\":\"#1f77b4\"},\"line_color\":{\"value\":\"red\"},\"size\":{\"units\":\"screen\",\"value\":14},\"x\":{\"field\":\"x\"},\"y\":{\"field\":\"y\"}},\"id\":\"1152\",\"type\":\"Circle\"},{\"attributes\":{\"fill_alpha\":{\"value\":0.1},\"fill_color\":{\"value\":\"#1f77b4\"},\"line_alpha\":{\"value\":0.1},\"line_color\":{\"value\":\"#1f77b4\"},\"x\":{\"field\":\"x\"},\"y\":{\"field\":\"y\"}},\"id\":\"1085\",\"type\":\"Circle\"},{\"attributes\":{\"callback\":null,\"data\":{\"x\":[2,4,6,8],\"y\":[4,3,7,1]},\"selected\":{\"id\":\"1166\",\"type\":\"Selection\"},\"selection_policy\":{\"id\":\"1165\",\"type\":\"UnionRenderers\"}},\"id\":\"1151\",\"type\":\"ColumnDataSource\"},{\"attributes\":{},\"id\":\"1038\",\"type\":\"BasicTickFormatter\"},{\"attributes\":{\"active_drag\":\"auto\",\"active_inspect\":\"auto\",\"active_multi\":null,\"active_scroll\":\"auto\",\"active_tap\":\"auto\",\"tools\":[{\"id\":\"1021\",\"type\":\"PanTool\"},{\"id\":\"1022\",\"type\":\"WheelZoomTool\"},{\"id\":\"1023\",\"type\":\"BoxZoomTool\"},{\"id\":\"1024\",\"type\":\"SaveTool\"},{\"id\":\"1025\",\"type\":\"ResetTool\"},{\"id\":\"1026\",\"type\":\"HelpTool\"}]},\"id\":\"1027\",\"type\":\"Toolbar\"},{\"attributes\":{},\"id\":\"1165\",\"type\":\"UnionRenderers\"},{\"attributes\":{\"bottom_units\":\"screen\",\"fill_alpha\":{\"value\":0.5},\"fill_color\":{\"value\":\"lightgrey\"},\"left_units\":\"screen\",\"level\":\"overlay\",\"line_alpha\":{\"value\":1.0},\"line_color\":{\"value\":\"black\"},\"line_dash\":[4,4],\"line_width\":{\"value\":2},\"render_mode\":\"css\",\"right_units\":\"screen\",\"top_units\":\"screen\"},\"id\":\"1040\",\"type\":\"BoxAnnotation\"},{\"attributes\":{},\"id\":\"1007\",\"type\":\"LinearScale\"},{\"attributes\":{\"data_source\":{\"id\":\"1151\",\"type\":\"ColumnDataSource\"},\"glyph\":{\"id\":\"1152\",\"type\":\"Circle\"},\"hover_glyph\":null,\"muted_glyph\":null,\"nonselection_glyph\":{\"id\":\"1153\",\"type\":\"Circle\"},\"selection_glyph\":null,\"view\":{\"id\":\"1155\",\"type\":\"CDSView\"}},\"id\":\"1154\",\"type\":\"GlyphRenderer\"},{\"attributes\":{\"formatter\":{\"id\":\"1036\",\"type\":\"BasicTickFormatter\"},\"ticker\":{\"id\":\"1012\",\"type\":\"BasicTicker\"}},\"id\":\"1011\",\"type\":\"LinearAxis\"},{\"attributes\":{},\"id\":\"1022\",\"type\":\"WheelZoomTool\"}],\"root_ids\":[\"1002\"]},\"title\":\"Bokeh Application\",\"version\":\"1.3.4\"}};\n",
       "  var render_items = [{\"docid\":\"1971a989-9cfa-492d-aaf5-1e1aea45b6b2\",\"roots\":{\"1002\":\"5ff53579-f949-45a5-bcca-3474f8130eb2\"}}];\n",
       "  root.Bokeh.embed.embed_items_notebook(docs_json, render_items);\n",
       "\n",
       "  }\n",
       "  if (root.Bokeh !== undefined) {\n",
       "    embed_document(root);\n",
       "  } else {\n",
       "    var attempts = 0;\n",
       "    var timer = setInterval(function(root) {\n",
       "      if (root.Bokeh !== undefined) {\n",
       "        embed_document(root);\n",
       "        clearInterval(timer);\n",
       "      }\n",
       "      attempts++;\n",
       "      if (attempts > 100) {\n",
       "        console.log(\"Bokeh: ERROR: Unable to run BokehJS code because BokehJS library is missing\");\n",
       "        clearInterval(timer);\n",
       "      }\n",
       "    }, 10, root)\n",
       "  }\n",
       "})(window);"
      ],
      "application/vnd.bokehjs_exec.v0+json": ""
     },
     "metadata": {
      "application/vnd.bokehjs_exec.v0+json": {
       "id": "1002"
      }
     },
     "output_type": "display_data"
    }
   ],
   "source": [
    "p.circle([2,4,6,8],[4,3,7,1], size=14, line_color='red')\n",
    "\n",
    "show(p)"
   ]
  },
  {
   "cell_type": "code",
   "execution_count": 10,
   "metadata": {},
   "outputs": [
    {
     "data": {
      "text/html": [
       "\n",
       "\n",
       "\n",
       "\n",
       "\n",
       "\n",
       "  <div class=\"bk-root\" id=\"cfb2bafd-59eb-4f60-90b8-5b2ddb637f84\" data-root-id=\"1002\"></div>\n"
      ]
     },
     "metadata": {},
     "output_type": "display_data"
    },
    {
     "data": {
      "application/javascript": [
       "(function(root) {\n",
       "  function embed_document(root) {\n",
       "    \n",
       "  var docs_json = {\"dd8af655-0821-411c-8489-f2c90a872a29\":{\"roots\":{\"references\":[{\"attributes\":{\"below\":[{\"id\":\"1011\",\"type\":\"LinearAxis\"}],\"center\":[{\"id\":\"1015\",\"type\":\"Grid\"},{\"id\":\"1020\",\"type\":\"Grid\"}],\"left\":[{\"id\":\"1016\",\"type\":\"LinearAxis\"}],\"plot_height\":350,\"plot_width\":450,\"renderers\":[{\"id\":\"1086\",\"type\":\"GlyphRenderer\"},{\"id\":\"1154\",\"type\":\"GlyphRenderer\"},{\"id\":\"1236\",\"type\":\"GlyphRenderer\"},{\"id\":\"1332\",\"type\":\"GlyphRenderer\"}],\"title\":{\"id\":\"1035\",\"type\":\"Title\"},\"toolbar\":{\"id\":\"1027\",\"type\":\"Toolbar\"},\"x_range\":{\"id\":\"1003\",\"type\":\"DataRange1d\"},\"x_scale\":{\"id\":\"1007\",\"type\":\"LinearScale\"},\"y_range\":{\"id\":\"1005\",\"type\":\"DataRange1d\"},\"y_scale\":{\"id\":\"1009\",\"type\":\"LinearScale\"}},\"id\":\"1002\",\"subtype\":\"Figure\",\"type\":\"Plot\"},{\"attributes\":{\"fill_color\":{\"value\":\"#1f77b4\"},\"line_color\":{\"value\":\"#1f77b4\"},\"x\":{\"field\":\"x\"},\"y\":{\"field\":\"y\"}},\"id\":\"1084\",\"type\":\"Circle\"},{\"attributes\":{\"fill_color\":{\"value\":\"green\"},\"line_color\":{\"value\":\"red\"},\"size\":{\"units\":\"screen\",\"value\":18},\"x\":{\"field\":\"x\"},\"y\":{\"field\":\"y\"}},\"id\":\"1330\",\"type\":\"Circle\"},{\"attributes\":{\"formatter\":{\"id\":\"1038\",\"type\":\"BasicTickFormatter\"},\"ticker\":{\"id\":\"1017\",\"type\":\"BasicTicker\"}},\"id\":\"1016\",\"type\":\"LinearAxis\"},{\"attributes\":{\"data_source\":{\"id\":\"1233\",\"type\":\"ColumnDataSource\"},\"glyph\":{\"id\":\"1234\",\"type\":\"Circle\"},\"hover_glyph\":null,\"muted_glyph\":null,\"nonselection_glyph\":{\"id\":\"1235\",\"type\":\"Circle\"},\"selection_glyph\":null,\"view\":{\"id\":\"1237\",\"type\":\"CDSView\"}},\"id\":\"1236\",\"type\":\"GlyphRenderer\"},{\"attributes\":{\"fill_alpha\":{\"value\":0.1},\"fill_color\":{\"value\":\"#1f77b4\"},\"line_alpha\":{\"value\":0.1},\"line_color\":{\"value\":\"#1f77b4\"},\"size\":{\"units\":\"screen\",\"value\":18},\"x\":{\"field\":\"x\"},\"y\":{\"field\":\"y\"}},\"id\":\"1331\",\"type\":\"Circle\"},{\"attributes\":{\"source\":{\"id\":\"1329\",\"type\":\"ColumnDataSource\"}},\"id\":\"1333\",\"type\":\"CDSView\"},{\"attributes\":{\"dimension\":1,\"ticker\":{\"id\":\"1017\",\"type\":\"BasicTicker\"}},\"id\":\"1020\",\"type\":\"Grid\"},{\"attributes\":{\"callback\":null},\"id\":\"1003\",\"type\":\"DataRange1d\"},{\"attributes\":{\"data_source\":{\"id\":\"1329\",\"type\":\"ColumnDataSource\"},\"glyph\":{\"id\":\"1330\",\"type\":\"Circle\"},\"hover_glyph\":null,\"muted_glyph\":null,\"nonselection_glyph\":{\"id\":\"1331\",\"type\":\"Circle\"},\"selection_glyph\":null,\"view\":{\"id\":\"1333\",\"type\":\"CDSView\"}},\"id\":\"1332\",\"type\":\"GlyphRenderer\"},{\"attributes\":{},\"id\":\"1017\",\"type\":\"BasicTicker\"},{\"attributes\":{},\"id\":\"1250\",\"type\":\"Selection\"},{\"attributes\":{},\"id\":\"1009\",\"type\":\"LinearScale\"},{\"attributes\":{\"source\":{\"id\":\"1151\",\"type\":\"ColumnDataSource\"}},\"id\":\"1155\",\"type\":\"CDSView\"},{\"attributes\":{\"overlay\":{\"id\":\"1040\",\"type\":\"BoxAnnotation\"}},\"id\":\"1023\",\"type\":\"BoxZoomTool\"},{\"attributes\":{\"callback\":null},\"id\":\"1005\",\"type\":\"DataRange1d\"},{\"attributes\":{\"fill_alpha\":{\"value\":0.1},\"fill_color\":{\"value\":\"#1f77b4\"},\"line_alpha\":{\"value\":0.1},\"line_color\":{\"value\":\"#1f77b4\"},\"size\":{\"units\":\"screen\",\"value\":14},\"x\":{\"field\":\"x\"},\"y\":{\"field\":\"y\"}},\"id\":\"1153\",\"type\":\"Circle\"},{\"attributes\":{},\"id\":\"1024\",\"type\":\"SaveTool\"},{\"attributes\":{\"callback\":null,\"data\":{\"x\":[2,4,6,8],\"y\":[4,3,7,1]},\"selected\":{\"id\":\"1096\",\"type\":\"Selection\"},\"selection_policy\":{\"id\":\"1095\",\"type\":\"UnionRenderers\"}},\"id\":\"1083\",\"type\":\"ColumnDataSource\"},{\"attributes\":{},\"id\":\"1095\",\"type\":\"UnionRenderers\"},{\"attributes\":{},\"id\":\"1025\",\"type\":\"ResetTool\"},{\"attributes\":{\"ticker\":{\"id\":\"1012\",\"type\":\"BasicTicker\"}},\"id\":\"1015\",\"type\":\"Grid\"},{\"attributes\":{\"text\":\"\"},\"id\":\"1035\",\"type\":\"Title\"},{\"attributes\":{},\"id\":\"1012\",\"type\":\"BasicTicker\"},{\"attributes\":{\"callback\":null,\"data\":{\"x\":[2,4,6,8],\"y\":[4,3,7,1]},\"selected\":{\"id\":\"1348\",\"type\":\"Selection\"},\"selection_policy\":{\"id\":\"1347\",\"type\":\"UnionRenderers\"}},\"id\":\"1329\",\"type\":\"ColumnDataSource\"},{\"attributes\":{\"data_source\":{\"id\":\"1083\",\"type\":\"ColumnDataSource\"},\"glyph\":{\"id\":\"1084\",\"type\":\"Circle\"},\"hover_glyph\":null,\"muted_glyph\":null,\"nonselection_glyph\":{\"id\":\"1085\",\"type\":\"Circle\"},\"selection_glyph\":null,\"view\":{\"id\":\"1087\",\"type\":\"CDSView\"}},\"id\":\"1086\",\"type\":\"GlyphRenderer\"},{\"attributes\":{},\"id\":\"1021\",\"type\":\"PanTool\"},{\"attributes\":{\"fill_alpha\":{\"value\":0.1},\"fill_color\":{\"value\":\"#1f77b4\"},\"line_alpha\":{\"value\":0.1},\"line_color\":{\"value\":\"#1f77b4\"},\"size\":{\"units\":\"screen\",\"value\":18},\"x\":{\"field\":\"x\"},\"y\":{\"field\":\"y\"}},\"id\":\"1235\",\"type\":\"Circle\"},{\"attributes\":{},\"id\":\"1096\",\"type\":\"Selection\"},{\"attributes\":{},\"id\":\"1026\",\"type\":\"HelpTool\"},{\"attributes\":{\"source\":{\"id\":\"1083\",\"type\":\"ColumnDataSource\"}},\"id\":\"1087\",\"type\":\"CDSView\"},{\"attributes\":{},\"id\":\"1036\",\"type\":\"BasicTickFormatter\"},{\"attributes\":{},\"id\":\"1166\",\"type\":\"Selection\"},{\"attributes\":{},\"id\":\"1347\",\"type\":\"UnionRenderers\"},{\"attributes\":{},\"id\":\"1249\",\"type\":\"UnionRenderers\"},{\"attributes\":{\"fill_color\":{\"value\":\"#1f77b4\"},\"line_color\":{\"value\":\"red\"},\"size\":{\"units\":\"screen\",\"value\":14},\"x\":{\"field\":\"x\"},\"y\":{\"field\":\"y\"}},\"id\":\"1152\",\"type\":\"Circle\"},{\"attributes\":{\"fill_alpha\":{\"value\":0.1},\"fill_color\":{\"value\":\"#1f77b4\"},\"line_alpha\":{\"value\":0.1},\"line_color\":{\"value\":\"#1f77b4\"},\"x\":{\"field\":\"x\"},\"y\":{\"field\":\"y\"}},\"id\":\"1085\",\"type\":\"Circle\"},{\"attributes\":{\"callback\":null,\"data\":{\"x\":[2,4,6,8],\"y\":[4,3,7,1]},\"selected\":{\"id\":\"1166\",\"type\":\"Selection\"},\"selection_policy\":{\"id\":\"1165\",\"type\":\"UnionRenderers\"}},\"id\":\"1151\",\"type\":\"ColumnDataSource\"},{\"attributes\":{},\"id\":\"1038\",\"type\":\"BasicTickFormatter\"},{\"attributes\":{\"active_drag\":\"auto\",\"active_inspect\":\"auto\",\"active_multi\":null,\"active_scroll\":\"auto\",\"active_tap\":\"auto\",\"tools\":[{\"id\":\"1021\",\"type\":\"PanTool\"},{\"id\":\"1022\",\"type\":\"WheelZoomTool\"},{\"id\":\"1023\",\"type\":\"BoxZoomTool\"},{\"id\":\"1024\",\"type\":\"SaveTool\"},{\"id\":\"1025\",\"type\":\"ResetTool\"},{\"id\":\"1026\",\"type\":\"HelpTool\"}]},\"id\":\"1027\",\"type\":\"Toolbar\"},{\"attributes\":{},\"id\":\"1165\",\"type\":\"UnionRenderers\"},{\"attributes\":{\"bottom_units\":\"screen\",\"fill_alpha\":{\"value\":0.5},\"fill_color\":{\"value\":\"lightgrey\"},\"left_units\":\"screen\",\"level\":\"overlay\",\"line_alpha\":{\"value\":1.0},\"line_color\":{\"value\":\"black\"},\"line_dash\":[4,4],\"line_width\":{\"value\":2},\"render_mode\":\"css\",\"right_units\":\"screen\",\"top_units\":\"screen\"},\"id\":\"1040\",\"type\":\"BoxAnnotation\"},{\"attributes\":{},\"id\":\"1007\",\"type\":\"LinearScale\"},{\"attributes\":{\"fill_color\":{\"value\":\"yellow\"},\"line_color\":{\"value\":\"red\"},\"size\":{\"units\":\"screen\",\"value\":18},\"x\":{\"field\":\"x\"},\"y\":{\"field\":\"y\"}},\"id\":\"1234\",\"type\":\"Circle\"},{\"attributes\":{},\"id\":\"1348\",\"type\":\"Selection\"},{\"attributes\":{\"callback\":null,\"data\":{\"x\":[2,4,6,8],\"y\":[4,3,7,1]},\"selected\":{\"id\":\"1250\",\"type\":\"Selection\"},\"selection_policy\":{\"id\":\"1249\",\"type\":\"UnionRenderers\"}},\"id\":\"1233\",\"type\":\"ColumnDataSource\"},{\"attributes\":{\"data_source\":{\"id\":\"1151\",\"type\":\"ColumnDataSource\"},\"glyph\":{\"id\":\"1152\",\"type\":\"Circle\"},\"hover_glyph\":null,\"muted_glyph\":null,\"nonselection_glyph\":{\"id\":\"1153\",\"type\":\"Circle\"},\"selection_glyph\":null,\"view\":{\"id\":\"1155\",\"type\":\"CDSView\"}},\"id\":\"1154\",\"type\":\"GlyphRenderer\"},{\"attributes\":{\"source\":{\"id\":\"1233\",\"type\":\"ColumnDataSource\"}},\"id\":\"1237\",\"type\":\"CDSView\"},{\"attributes\":{\"formatter\":{\"id\":\"1036\",\"type\":\"BasicTickFormatter\"},\"ticker\":{\"id\":\"1012\",\"type\":\"BasicTicker\"}},\"id\":\"1011\",\"type\":\"LinearAxis\"},{\"attributes\":{},\"id\":\"1022\",\"type\":\"WheelZoomTool\"}],\"root_ids\":[\"1002\"]},\"title\":\"Bokeh Application\",\"version\":\"1.3.4\"}};\n",
       "  var render_items = [{\"docid\":\"dd8af655-0821-411c-8489-f2c90a872a29\",\"roots\":{\"1002\":\"cfb2bafd-59eb-4f60-90b8-5b2ddb637f84\"}}];\n",
       "  root.Bokeh.embed.embed_items_notebook(docs_json, render_items);\n",
       "\n",
       "  }\n",
       "  if (root.Bokeh !== undefined) {\n",
       "    embed_document(root);\n",
       "  } else {\n",
       "    var attempts = 0;\n",
       "    var timer = setInterval(function(root) {\n",
       "      if (root.Bokeh !== undefined) {\n",
       "        embed_document(root);\n",
       "        clearInterval(timer);\n",
       "      }\n",
       "      attempts++;\n",
       "      if (attempts > 100) {\n",
       "        console.log(\"Bokeh: ERROR: Unable to run BokehJS code because BokehJS library is missing\");\n",
       "        clearInterval(timer);\n",
       "      }\n",
       "    }, 10, root)\n",
       "  }\n",
       "})(window);"
      ],
      "application/vnd.bokehjs_exec.v0+json": ""
     },
     "metadata": {
      "application/vnd.bokehjs_exec.v0+json": {
       "id": "1002"
      }
     },
     "output_type": "display_data"
    }
   ],
   "source": [
    "p.circle([2,4,6,8],[4,3,7,1], size=18, line_color='red', fill_color='green')\n",
    "\n",
    "show(p)"
   ]
  },
  {
   "cell_type": "code",
   "execution_count": 11,
   "metadata": {},
   "outputs": [],
   "source": [
    "\n",
    "p = figure(plot_width = 450, plot_height = 350)"
   ]
  },
  {
   "cell_type": "code",
   "execution_count": 12,
   "metadata": {},
   "outputs": [
    {
     "data": {
      "text/html": [
       "\n",
       "\n",
       "\n",
       "\n",
       "\n",
       "\n",
       "  <div class=\"bk-root\" id=\"df41fd9a-0e0f-4c07-b75a-d0a97d3df6b4\" data-root-id=\"1439\"></div>\n"
      ]
     },
     "metadata": {},
     "output_type": "display_data"
    },
    {
     "data": {
      "application/javascript": [
       "(function(root) {\n",
       "  function embed_document(root) {\n",
       "    \n",
       "  var docs_json = {\"dc2f61e7-db9b-4731-86d5-c21f57ebe354\":{\"roots\":{\"references\":[{\"attributes\":{\"below\":[{\"id\":\"1448\",\"type\":\"LinearAxis\"}],\"center\":[{\"id\":\"1452\",\"type\":\"Grid\"},{\"id\":\"1457\",\"type\":\"Grid\"}],\"left\":[{\"id\":\"1453\",\"type\":\"LinearAxis\"}],\"plot_height\":350,\"plot_width\":450,\"renderers\":[{\"id\":\"1474\",\"type\":\"GlyphRenderer\"}],\"title\":{\"id\":\"1492\",\"type\":\"Title\"},\"toolbar\":{\"id\":\"1464\",\"type\":\"Toolbar\"},\"x_range\":{\"id\":\"1440\",\"type\":\"DataRange1d\"},\"x_scale\":{\"id\":\"1444\",\"type\":\"LinearScale\"},\"y_range\":{\"id\":\"1442\",\"type\":\"DataRange1d\"},\"y_scale\":{\"id\":\"1446\",\"type\":\"LinearScale\"}},\"id\":\"1439\",\"subtype\":\"Figure\",\"type\":\"Plot\"},{\"attributes\":{\"overlay\":{\"id\":\"1497\",\"type\":\"BoxAnnotation\"}},\"id\":\"1460\",\"type\":\"BoxZoomTool\"},{\"attributes\":{},\"id\":\"1444\",\"type\":\"LinearScale\"},{\"attributes\":{\"dimension\":1,\"ticker\":{\"id\":\"1454\",\"type\":\"BasicTicker\"}},\"id\":\"1457\",\"type\":\"Grid\"},{\"attributes\":{},\"id\":\"1446\",\"type\":\"LinearScale\"},{\"attributes\":{},\"id\":\"1461\",\"type\":\"SaveTool\"},{\"attributes\":{\"callback\":null},\"id\":\"1442\",\"type\":\"DataRange1d\"},{\"attributes\":{\"formatter\":{\"id\":\"1493\",\"type\":\"BasicTickFormatter\"},\"ticker\":{\"id\":\"1449\",\"type\":\"BasicTicker\"}},\"id\":\"1448\",\"type\":\"LinearAxis\"},{\"attributes\":{\"active_drag\":\"auto\",\"active_inspect\":\"auto\",\"active_multi\":null,\"active_scroll\":\"auto\",\"active_tap\":\"auto\",\"tools\":[{\"id\":\"1458\",\"type\":\"PanTool\"},{\"id\":\"1459\",\"type\":\"WheelZoomTool\"},{\"id\":\"1460\",\"type\":\"BoxZoomTool\"},{\"id\":\"1461\",\"type\":\"SaveTool\"},{\"id\":\"1462\",\"type\":\"ResetTool\"},{\"id\":\"1463\",\"type\":\"HelpTool\"}]},\"id\":\"1464\",\"type\":\"Toolbar\"},{\"attributes\":{},\"id\":\"1454\",\"type\":\"BasicTicker\"},{\"attributes\":{\"source\":{\"id\":\"1471\",\"type\":\"ColumnDataSource\"}},\"id\":\"1475\",\"type\":\"CDSView\"},{\"attributes\":{\"formatter\":{\"id\":\"1495\",\"type\":\"BasicTickFormatter\"},\"ticker\":{\"id\":\"1454\",\"type\":\"BasicTicker\"}},\"id\":\"1453\",\"type\":\"LinearAxis\"},{\"attributes\":{\"fill_alpha\":{\"value\":0.1},\"fill_color\":{\"value\":\"#1f77b4\"},\"line_alpha\":{\"value\":0.1},\"line_color\":{\"value\":\"#1f77b4\"},\"size\":{\"units\":\"screen\",\"value\":16},\"x\":{\"field\":\"x\"},\"y\":{\"field\":\"y\"}},\"id\":\"1473\",\"type\":\"Square\"},{\"attributes\":{},\"id\":\"1449\",\"type\":\"BasicTicker\"},{\"attributes\":{\"callback\":null,\"data\":{\"x\":[2,4,6,8],\"y\":[4,3,7,1]},\"selected\":{\"id\":\"1499\",\"type\":\"Selection\"},\"selection_policy\":{\"id\":\"1498\",\"type\":\"UnionRenderers\"}},\"id\":\"1471\",\"type\":\"ColumnDataSource\"},{\"attributes\":{\"callback\":null},\"id\":\"1440\",\"type\":\"DataRange1d\"},{\"attributes\":{},\"id\":\"1458\",\"type\":\"PanTool\"},{\"attributes\":{},\"id\":\"1495\",\"type\":\"BasicTickFormatter\"},{\"attributes\":{},\"id\":\"1499\",\"type\":\"Selection\"},{\"attributes\":{\"text\":\"\"},\"id\":\"1492\",\"type\":\"Title\"},{\"attributes\":{},\"id\":\"1498\",\"type\":\"UnionRenderers\"},{\"attributes\":{\"ticker\":{\"id\":\"1449\",\"type\":\"BasicTicker\"}},\"id\":\"1452\",\"type\":\"Grid\"},{\"attributes\":{\"fill_alpha\":{\"value\":0.3},\"fill_color\":{\"value\":\"red\"},\"line_alpha\":{\"value\":0.3},\"line_color\":{\"value\":\"red\"},\"size\":{\"units\":\"screen\",\"value\":16},\"x\":{\"field\":\"x\"},\"y\":{\"field\":\"y\"}},\"id\":\"1472\",\"type\":\"Square\"},{\"attributes\":{},\"id\":\"1459\",\"type\":\"WheelZoomTool\"},{\"attributes\":{\"data_source\":{\"id\":\"1471\",\"type\":\"ColumnDataSource\"},\"glyph\":{\"id\":\"1472\",\"type\":\"Square\"},\"hover_glyph\":null,\"muted_glyph\":null,\"nonselection_glyph\":{\"id\":\"1473\",\"type\":\"Square\"},\"selection_glyph\":null,\"view\":{\"id\":\"1475\",\"type\":\"CDSView\"}},\"id\":\"1474\",\"type\":\"GlyphRenderer\"},{\"attributes\":{},\"id\":\"1463\",\"type\":\"HelpTool\"},{\"attributes\":{\"bottom_units\":\"screen\",\"fill_alpha\":{\"value\":0.5},\"fill_color\":{\"value\":\"lightgrey\"},\"left_units\":\"screen\",\"level\":\"overlay\",\"line_alpha\":{\"value\":1.0},\"line_color\":{\"value\":\"black\"},\"line_dash\":[4,4],\"line_width\":{\"value\":2},\"render_mode\":\"css\",\"right_units\":\"screen\",\"top_units\":\"screen\"},\"id\":\"1497\",\"type\":\"BoxAnnotation\"},{\"attributes\":{},\"id\":\"1493\",\"type\":\"BasicTickFormatter\"},{\"attributes\":{},\"id\":\"1462\",\"type\":\"ResetTool\"}],\"root_ids\":[\"1439\"]},\"title\":\"Bokeh Application\",\"version\":\"1.3.4\"}};\n",
       "  var render_items = [{\"docid\":\"dc2f61e7-db9b-4731-86d5-c21f57ebe354\",\"roots\":{\"1439\":\"df41fd9a-0e0f-4c07-b75a-d0a97d3df6b4\"}}];\n",
       "  root.Bokeh.embed.embed_items_notebook(docs_json, render_items);\n",
       "\n",
       "  }\n",
       "  if (root.Bokeh !== undefined) {\n",
       "    embed_document(root);\n",
       "  } else {\n",
       "    var attempts = 0;\n",
       "    var timer = setInterval(function(root) {\n",
       "      if (root.Bokeh !== undefined) {\n",
       "        embed_document(root);\n",
       "        clearInterval(timer);\n",
       "      }\n",
       "      attempts++;\n",
       "      if (attempts > 100) {\n",
       "        console.log(\"Bokeh: ERROR: Unable to run BokehJS code because BokehJS library is missing\");\n",
       "        clearInterval(timer);\n",
       "      }\n",
       "    }, 10, root)\n",
       "  }\n",
       "})(window);"
      ],
      "application/vnd.bokehjs_exec.v0+json": ""
     },
     "metadata": {
      "application/vnd.bokehjs_exec.v0+json": {
       "id": "1439"
      }
     },
     "output_type": "display_data"
    }
   ],
   "source": [
    "p.square([2,4,6,8],[4,3,7,1], size=16, color='red', alpha=0.3)\n",
    "show(p)"
   ]
  },
  {
   "cell_type": "code",
   "execution_count": 13,
   "metadata": {},
   "outputs": [
    {
     "data": {
      "text/html": [
       "\n",
       "\n",
       "\n",
       "\n",
       "\n",
       "\n",
       "  <div class=\"bk-root\" id=\"32749fc0-f25a-4667-a2df-938e44cd83c1\" data-root-id=\"1554\"></div>\n"
      ]
     },
     "metadata": {},
     "output_type": "display_data"
    },
    {
     "data": {
      "application/javascript": [
       "(function(root) {\n",
       "  function embed_document(root) {\n",
       "    \n",
       "  var docs_json = {\"1518e06f-fd7d-4d10-a2e7-44fce4943a17\":{\"roots\":{\"references\":[{\"attributes\":{\"below\":[{\"id\":\"1563\",\"type\":\"LinearAxis\"}],\"center\":[{\"id\":\"1567\",\"type\":\"Grid\"},{\"id\":\"1572\",\"type\":\"Grid\"}],\"left\":[{\"id\":\"1568\",\"type\":\"LinearAxis\"}],\"plot_height\":350,\"plot_width\":450,\"renderers\":[{\"id\":\"1589\",\"type\":\"GlyphRenderer\"}],\"title\":{\"id\":\"1616\",\"type\":\"Title\"},\"toolbar\":{\"id\":\"1579\",\"type\":\"Toolbar\"},\"x_range\":{\"id\":\"1555\",\"type\":\"DataRange1d\"},\"x_scale\":{\"id\":\"1559\",\"type\":\"LinearScale\"},\"y_range\":{\"id\":\"1557\",\"type\":\"DataRange1d\"},\"y_scale\":{\"id\":\"1561\",\"type\":\"LinearScale\"}},\"id\":\"1554\",\"subtype\":\"Figure\",\"type\":\"Plot\"},{\"attributes\":{\"formatter\":{\"id\":\"1619\",\"type\":\"BasicTickFormatter\"},\"ticker\":{\"id\":\"1569\",\"type\":\"BasicTicker\"}},\"id\":\"1568\",\"type\":\"LinearAxis\"},{\"attributes\":{},\"id\":\"1573\",\"type\":\"PanTool\"},{\"attributes\":{\"ticker\":{\"id\":\"1564\",\"type\":\"BasicTicker\"}},\"id\":\"1567\",\"type\":\"Grid\"},{\"attributes\":{},\"id\":\"1576\",\"type\":\"SaveTool\"},{\"attributes\":{},\"id\":\"1622\",\"type\":\"UnionRenderers\"},{\"attributes\":{},\"id\":\"1617\",\"type\":\"BasicTickFormatter\"},{\"attributes\":{\"callback\":null},\"id\":\"1555\",\"type\":\"DataRange1d\"},{\"attributes\":{},\"id\":\"1569\",\"type\":\"BasicTicker\"},{\"attributes\":{},\"id\":\"1623\",\"type\":\"Selection\"},{\"attributes\":{\"text\":\"\"},\"id\":\"1616\",\"type\":\"Title\"},{\"attributes\":{\"source\":{\"id\":\"1586\",\"type\":\"ColumnDataSource\"}},\"id\":\"1590\",\"type\":\"CDSView\"},{\"attributes\":{},\"id\":\"1559\",\"type\":\"LinearScale\"},{\"attributes\":{\"fill_alpha\":{\"value\":0.1},\"fill_color\":{\"value\":\"#1f77b4\"},\"line_alpha\":{\"value\":0.1},\"line_color\":{\"value\":\"#1f77b4\"},\"size\":{\"field\":\"size\",\"units\":\"screen\"},\"x\":{\"field\":\"x\"},\"y\":{\"field\":\"y\"}},\"id\":\"1588\",\"type\":\"Square\"},{\"attributes\":{\"callback\":null,\"data\":{\"size\":[6,10,14,18],\"x\":[2,4,6,8],\"y\":[4,3,7,1]},\"selected\":{\"id\":\"1623\",\"type\":\"Selection\"},\"selection_policy\":{\"id\":\"1622\",\"type\":\"UnionRenderers\"}},\"id\":\"1586\",\"type\":\"ColumnDataSource\"},{\"attributes\":{\"data_source\":{\"id\":\"1586\",\"type\":\"ColumnDataSource\"},\"glyph\":{\"id\":\"1587\",\"type\":\"Square\"},\"hover_glyph\":null,\"muted_glyph\":null,\"nonselection_glyph\":{\"id\":\"1588\",\"type\":\"Square\"},\"selection_glyph\":null,\"view\":{\"id\":\"1590\",\"type\":\"CDSView\"}},\"id\":\"1589\",\"type\":\"GlyphRenderer\"},{\"attributes\":{},\"id\":\"1578\",\"type\":\"HelpTool\"},{\"attributes\":{},\"id\":\"1574\",\"type\":\"WheelZoomTool\"},{\"attributes\":{\"formatter\":{\"id\":\"1617\",\"type\":\"BasicTickFormatter\"},\"ticker\":{\"id\":\"1564\",\"type\":\"BasicTicker\"}},\"id\":\"1563\",\"type\":\"LinearAxis\"},{\"attributes\":{\"active_drag\":\"auto\",\"active_inspect\":\"auto\",\"active_multi\":null,\"active_scroll\":\"auto\",\"active_tap\":\"auto\",\"tools\":[{\"id\":\"1573\",\"type\":\"PanTool\"},{\"id\":\"1574\",\"type\":\"WheelZoomTool\"},{\"id\":\"1575\",\"type\":\"BoxZoomTool\"},{\"id\":\"1576\",\"type\":\"SaveTool\"},{\"id\":\"1577\",\"type\":\"ResetTool\"},{\"id\":\"1578\",\"type\":\"HelpTool\"}]},\"id\":\"1579\",\"type\":\"Toolbar\"},{\"attributes\":{},\"id\":\"1577\",\"type\":\"ResetTool\"},{\"attributes\":{\"fill_alpha\":{\"value\":0.3},\"fill_color\":{\"value\":\"red\"},\"line_alpha\":{\"value\":0.3},\"line_color\":{\"value\":\"red\"},\"size\":{\"field\":\"size\",\"units\":\"screen\"},\"x\":{\"field\":\"x\"},\"y\":{\"field\":\"y\"}},\"id\":\"1587\",\"type\":\"Square\"},{\"attributes\":{\"overlay\":{\"id\":\"1621\",\"type\":\"BoxAnnotation\"}},\"id\":\"1575\",\"type\":\"BoxZoomTool\"},{\"attributes\":{\"bottom_units\":\"screen\",\"fill_alpha\":{\"value\":0.5},\"fill_color\":{\"value\":\"lightgrey\"},\"left_units\":\"screen\",\"level\":\"overlay\",\"line_alpha\":{\"value\":1.0},\"line_color\":{\"value\":\"black\"},\"line_dash\":[4,4],\"line_width\":{\"value\":2},\"render_mode\":\"css\",\"right_units\":\"screen\",\"top_units\":\"screen\"},\"id\":\"1621\",\"type\":\"BoxAnnotation\"},{\"attributes\":{},\"id\":\"1561\",\"type\":\"LinearScale\"},{\"attributes\":{\"callback\":null},\"id\":\"1557\",\"type\":\"DataRange1d\"},{\"attributes\":{\"dimension\":1,\"ticker\":{\"id\":\"1569\",\"type\":\"BasicTicker\"}},\"id\":\"1572\",\"type\":\"Grid\"},{\"attributes\":{},\"id\":\"1619\",\"type\":\"BasicTickFormatter\"},{\"attributes\":{},\"id\":\"1564\",\"type\":\"BasicTicker\"}],\"root_ids\":[\"1554\"]},\"title\":\"Bokeh Application\",\"version\":\"1.3.4\"}};\n",
       "  var render_items = [{\"docid\":\"1518e06f-fd7d-4d10-a2e7-44fce4943a17\",\"roots\":{\"1554\":\"32749fc0-f25a-4667-a2df-938e44cd83c1\"}}];\n",
       "  root.Bokeh.embed.embed_items_notebook(docs_json, render_items);\n",
       "\n",
       "  }\n",
       "  if (root.Bokeh !== undefined) {\n",
       "    embed_document(root);\n",
       "  } else {\n",
       "    var attempts = 0;\n",
       "    var timer = setInterval(function(root) {\n",
       "      if (root.Bokeh !== undefined) {\n",
       "        embed_document(root);\n",
       "        clearInterval(timer);\n",
       "      }\n",
       "      attempts++;\n",
       "      if (attempts > 100) {\n",
       "        console.log(\"Bokeh: ERROR: Unable to run BokehJS code because BokehJS library is missing\");\n",
       "        clearInterval(timer);\n",
       "      }\n",
       "    }, 10, root)\n",
       "  }\n",
       "})(window);"
      ],
      "application/vnd.bokehjs_exec.v0+json": ""
     },
     "metadata": {
      "application/vnd.bokehjs_exec.v0+json": {
       "id": "1554"
      }
     },
     "output_type": "display_data"
    }
   ],
   "source": [
    "x = figure(plot_width=450, plot_height=350)\n",
    "\n",
    "x.square([2,4,6,8],[4,3,7,1], size=[6,10,14,18], color='red', alpha=0.3)\n",
    "show(x)"
   ]
  },
  {
   "cell_type": "code",
   "execution_count": 14,
   "metadata": {},
   "outputs": [
    {
     "data": {
      "text/html": [
       "\n",
       "\n",
       "\n",
       "\n",
       "\n",
       "\n",
       "  <div class=\"bk-root\" id=\"35c383b6-b568-408e-af2c-e28bd457ae70\" data-root-id=\"1678\"></div>\n"
      ]
     },
     "metadata": {},
     "output_type": "display_data"
    },
    {
     "data": {
      "application/javascript": [
       "(function(root) {\n",
       "  function embed_document(root) {\n",
       "    \n",
       "  var docs_json = {\"83fd74f0-d7f7-4897-b960-acc8aead2a50\":{\"roots\":{\"references\":[{\"attributes\":{\"below\":[{\"id\":\"1687\",\"type\":\"LinearAxis\"}],\"center\":[{\"id\":\"1691\",\"type\":\"Grid\"},{\"id\":\"1696\",\"type\":\"Grid\"}],\"left\":[{\"id\":\"1692\",\"type\":\"LinearAxis\"}],\"plot_height\":350,\"plot_width\":450,\"renderers\":[{\"id\":\"1713\",\"type\":\"GlyphRenderer\"},{\"id\":\"1718\",\"type\":\"GlyphRenderer\"},{\"id\":\"1723\",\"type\":\"GlyphRenderer\"}],\"title\":{\"id\":\"1759\",\"type\":\"Title\"},\"toolbar\":{\"id\":\"1703\",\"type\":\"Toolbar\"},\"x_range\":{\"id\":\"1679\",\"type\":\"DataRange1d\"},\"x_scale\":{\"id\":\"1683\",\"type\":\"LinearScale\"},\"y_range\":{\"id\":\"1681\",\"type\":\"DataRange1d\"},\"y_scale\":{\"id\":\"1685\",\"type\":\"LinearScale\"}},\"id\":\"1678\",\"subtype\":\"Figure\",\"type\":\"Plot\"},{\"attributes\":{},\"id\":\"1697\",\"type\":\"PanTool\"},{\"attributes\":{},\"id\":\"1770\",\"type\":\"Selection\"},{\"attributes\":{\"formatter\":{\"id\":\"1760\",\"type\":\"BasicTickFormatter\"},\"ticker\":{\"id\":\"1688\",\"type\":\"BasicTicker\"}},\"id\":\"1687\",\"type\":\"LinearAxis\"},{\"attributes\":{\"fill_alpha\":{\"value\":0.5},\"fill_color\":{\"value\":\"yellow\"},\"line_alpha\":{\"value\":0.5},\"line_color\":{\"value\":\"red\"},\"size\":{\"units\":\"screen\",\"value\":16},\"x\":{\"field\":\"x\"},\"y\":{\"field\":\"y\"}},\"id\":\"1716\",\"type\":\"Circle\"},{\"attributes\":{\"fill_alpha\":{\"value\":0.8},\"fill_color\":{\"value\":\"blue\"},\"line_alpha\":{\"value\":0.8},\"line_color\":{\"value\":\"blue\"},\"size\":{\"units\":\"screen\",\"value\":12},\"x\":{\"field\":\"x\"},\"y\":{\"field\":\"y\"}},\"id\":\"1721\",\"type\":\"Square\"},{\"attributes\":{\"callback\":null},\"id\":\"1681\",\"type\":\"DataRange1d\"},{\"attributes\":{},\"id\":\"1698\",\"type\":\"WheelZoomTool\"},{\"attributes\":{\"overlay\":{\"id\":\"1764\",\"type\":\"BoxAnnotation\"}},\"id\":\"1699\",\"type\":\"BoxZoomTool\"},{\"attributes\":{},\"id\":\"1683\",\"type\":\"LinearScale\"},{\"attributes\":{\"fill_alpha\":{\"value\":0.1},\"fill_color\":{\"value\":\"#1f77b4\"},\"line_alpha\":{\"value\":0.1},\"line_color\":{\"value\":\"#1f77b4\"},\"size\":{\"units\":\"screen\",\"value\":16},\"x\":{\"field\":\"x\"},\"y\":{\"field\":\"y\"}},\"id\":\"1717\",\"type\":\"Circle\"},{\"attributes\":{},\"id\":\"1700\",\"type\":\"SaveTool\"},{\"attributes\":{},\"id\":\"1685\",\"type\":\"LinearScale\"},{\"attributes\":{},\"id\":\"1701\",\"type\":\"ResetTool\"},{\"attributes\":{\"fill_alpha\":{\"value\":0.1},\"fill_color\":{\"value\":\"#1f77b4\"},\"line_alpha\":{\"value\":0.1},\"line_color\":{\"value\":\"#1f77b4\"},\"size\":{\"units\":\"screen\",\"value\":12},\"x\":{\"field\":\"x\"},\"y\":{\"field\":\"y\"}},\"id\":\"1722\",\"type\":\"Square\"},{\"attributes\":{\"ticker\":{\"id\":\"1688\",\"type\":\"BasicTicker\"}},\"id\":\"1691\",\"type\":\"Grid\"},{\"attributes\":{\"data_source\":{\"id\":\"1715\",\"type\":\"ColumnDataSource\"},\"glyph\":{\"id\":\"1716\",\"type\":\"Circle\"},\"hover_glyph\":null,\"muted_glyph\":null,\"nonselection_glyph\":{\"id\":\"1717\",\"type\":\"Circle\"},\"selection_glyph\":null,\"view\":{\"id\":\"1719\",\"type\":\"CDSView\"}},\"id\":\"1718\",\"type\":\"GlyphRenderer\"},{\"attributes\":{},\"id\":\"1702\",\"type\":\"HelpTool\"},{\"attributes\":{\"data_source\":{\"id\":\"1720\",\"type\":\"ColumnDataSource\"},\"glyph\":{\"id\":\"1721\",\"type\":\"Square\"},\"hover_glyph\":null,\"muted_glyph\":null,\"nonselection_glyph\":{\"id\":\"1722\",\"type\":\"Square\"},\"selection_glyph\":null,\"view\":{\"id\":\"1724\",\"type\":\"CDSView\"}},\"id\":\"1723\",\"type\":\"GlyphRenderer\"},{\"attributes\":{},\"id\":\"1688\",\"type\":\"BasicTicker\"},{\"attributes\":{\"formatter\":{\"id\":\"1762\",\"type\":\"BasicTickFormatter\"},\"ticker\":{\"id\":\"1693\",\"type\":\"BasicTicker\"}},\"id\":\"1692\",\"type\":\"LinearAxis\"},{\"attributes\":{},\"id\":\"1765\",\"type\":\"UnionRenderers\"},{\"attributes\":{},\"id\":\"1762\",\"type\":\"BasicTickFormatter\"},{\"attributes\":{\"dimension\":1,\"ticker\":{\"id\":\"1693\",\"type\":\"BasicTicker\"}},\"id\":\"1696\",\"type\":\"Grid\"},{\"attributes\":{\"source\":{\"id\":\"1715\",\"type\":\"ColumnDataSource\"}},\"id\":\"1719\",\"type\":\"CDSView\"},{\"attributes\":{\"data_source\":{\"id\":\"1710\",\"type\":\"ColumnDataSource\"},\"glyph\":{\"id\":\"1711\",\"type\":\"Diamond\"},\"hover_glyph\":null,\"muted_glyph\":null,\"nonselection_glyph\":{\"id\":\"1712\",\"type\":\"Diamond\"},\"selection_glyph\":null,\"view\":{\"id\":\"1714\",\"type\":\"CDSView\"}},\"id\":\"1713\",\"type\":\"GlyphRenderer\"},{\"attributes\":{\"active_drag\":\"auto\",\"active_inspect\":\"auto\",\"active_multi\":null,\"active_scroll\":\"auto\",\"active_tap\":\"auto\",\"tools\":[{\"id\":\"1697\",\"type\":\"PanTool\"},{\"id\":\"1698\",\"type\":\"WheelZoomTool\"},{\"id\":\"1699\",\"type\":\"BoxZoomTool\"},{\"id\":\"1700\",\"type\":\"SaveTool\"},{\"id\":\"1701\",\"type\":\"ResetTool\"},{\"id\":\"1702\",\"type\":\"HelpTool\"}]},\"id\":\"1703\",\"type\":\"Toolbar\"},{\"attributes\":{\"text\":\"\"},\"id\":\"1759\",\"type\":\"Title\"},{\"attributes\":{},\"id\":\"1693\",\"type\":\"BasicTicker\"},{\"attributes\":{\"bottom_units\":\"screen\",\"fill_alpha\":{\"value\":0.5},\"fill_color\":{\"value\":\"lightgrey\"},\"left_units\":\"screen\",\"level\":\"overlay\",\"line_alpha\":{\"value\":1.0},\"line_color\":{\"value\":\"black\"},\"line_dash\":[4,4],\"line_width\":{\"value\":2},\"render_mode\":\"css\",\"right_units\":\"screen\",\"top_units\":\"screen\"},\"id\":\"1764\",\"type\":\"BoxAnnotation\"},{\"attributes\":{},\"id\":\"1760\",\"type\":\"BasicTickFormatter\"},{\"attributes\":{},\"id\":\"1769\",\"type\":\"UnionRenderers\"},{\"attributes\":{\"fill_alpha\":{\"value\":0.1},\"fill_color\":{\"value\":\"#1f77b4\"},\"line_alpha\":{\"value\":0.1},\"line_color\":{\"value\":\"#1f77b4\"},\"size\":{\"units\":\"screen\",\"value\":14},\"x\":{\"field\":\"x\"},\"y\":{\"field\":\"y\"}},\"id\":\"1712\",\"type\":\"Diamond\"},{\"attributes\":{},\"id\":\"1766\",\"type\":\"Selection\"},{\"attributes\":{\"callback\":null,\"data\":{\"x\":[1,5,7,2],\"y\":[3,1,5,6]},\"selected\":{\"id\":\"1766\",\"type\":\"Selection\"},\"selection_policy\":{\"id\":\"1765\",\"type\":\"UnionRenderers\"}},\"id\":\"1710\",\"type\":\"ColumnDataSource\"},{\"attributes\":{\"source\":{\"id\":\"1710\",\"type\":\"ColumnDataSource\"}},\"id\":\"1714\",\"type\":\"CDSView\"},{\"attributes\":{\"source\":{\"id\":\"1720\",\"type\":\"ColumnDataSource\"}},\"id\":\"1724\",\"type\":\"CDSView\"},{\"attributes\":{},\"id\":\"1767\",\"type\":\"UnionRenderers\"},{\"attributes\":{\"callback\":null},\"id\":\"1679\",\"type\":\"DataRange1d\"},{\"attributes\":{},\"id\":\"1768\",\"type\":\"Selection\"},{\"attributes\":{\"callback\":null,\"data\":{\"x\":[3,8,5,9],\"y\":[8,4,5,3]},\"selected\":{\"id\":\"1768\",\"type\":\"Selection\"},\"selection_policy\":{\"id\":\"1767\",\"type\":\"UnionRenderers\"}},\"id\":\"1715\",\"type\":\"ColumnDataSource\"},{\"attributes\":{\"fill_alpha\":{\"value\":0.3},\"fill_color\":{\"value\":\"green\"},\"line_alpha\":{\"value\":0.3},\"line_color\":{\"value\":\"green\"},\"size\":{\"units\":\"screen\",\"value\":14},\"x\":{\"field\":\"x\"},\"y\":{\"field\":\"y\"}},\"id\":\"1711\",\"type\":\"Diamond\"},{\"attributes\":{\"callback\":null,\"data\":{\"x\":[2,4,3,6],\"y\":[3,1,5,2]},\"selected\":{\"id\":\"1770\",\"type\":\"Selection\"},\"selection_policy\":{\"id\":\"1769\",\"type\":\"UnionRenderers\"}},\"id\":\"1720\",\"type\":\"ColumnDataSource\"}],\"root_ids\":[\"1678\"]},\"title\":\"Bokeh Application\",\"version\":\"1.3.4\"}};\n",
       "  var render_items = [{\"docid\":\"83fd74f0-d7f7-4897-b960-acc8aead2a50\",\"roots\":{\"1678\":\"35c383b6-b568-408e-af2c-e28bd457ae70\"}}];\n",
       "  root.Bokeh.embed.embed_items_notebook(docs_json, render_items);\n",
       "\n",
       "  }\n",
       "  if (root.Bokeh !== undefined) {\n",
       "    embed_document(root);\n",
       "  } else {\n",
       "    var attempts = 0;\n",
       "    var timer = setInterval(function(root) {\n",
       "      if (root.Bokeh !== undefined) {\n",
       "        embed_document(root);\n",
       "        clearInterval(timer);\n",
       "      }\n",
       "      attempts++;\n",
       "      if (attempts > 100) {\n",
       "        console.log(\"Bokeh: ERROR: Unable to run BokehJS code because BokehJS library is missing\");\n",
       "        clearInterval(timer);\n",
       "      }\n",
       "    }, 10, root)\n",
       "  }\n",
       "})(window);"
      ],
      "application/vnd.bokehjs_exec.v0+json": ""
     },
     "metadata": {
      "application/vnd.bokehjs_exec.v0+json": {
       "id": "1678"
      }
     },
     "output_type": "display_data"
    }
   ],
   "source": [
    "a = figure(plot_width=450, plot_height=350)\n",
    "\n",
    "a.diamond([1,5,7,2],[3,1,5,6], size=14, color='green', alpha=0.3)\n",
    "a.circle([3,8,5,9],[8,4,5,3], size=16, color='red',fill_color='yellow', alpha=0.5)\n",
    "a.square([2,4,3,6],[3,1,5,2], size=12, color='blue', alpha=0.8)\n",
    "\n",
    "show(a)"
   ]
  },
  {
   "cell_type": "code",
   "execution_count": 16,
   "metadata": {},
   "outputs": [
    {
     "data": {
      "text/html": [
       "\n",
       "\n",
       "\n",
       "\n",
       "\n",
       "\n",
       "  <div class=\"bk-root\" id=\"28ac33bf-1bf1-4a42-8338-90e8e8570aba\" data-root-id=\"1881\"></div>\n"
      ]
     },
     "metadata": {},
     "output_type": "display_data"
    },
    {
     "data": {
      "application/javascript": [
       "(function(root) {\n",
       "  function embed_document(root) {\n",
       "    \n",
       "  var docs_json = {\"2027c185-a1f2-442d-89ff-b8c4d30a9cb8\":{\"roots\":{\"references\":[{\"attributes\":{\"below\":[{\"id\":\"1890\",\"type\":\"LinearAxis\"}],\"center\":[{\"id\":\"1894\",\"type\":\"Grid\"},{\"id\":\"1899\",\"type\":\"Grid\"}],\"left\":[{\"id\":\"1895\",\"type\":\"LinearAxis\"}],\"plot_height\":350,\"plot_width\":450,\"renderers\":[{\"id\":\"1916\",\"type\":\"GlyphRenderer\"}],\"title\":{\"id\":\"1965\",\"type\":\"Title\"},\"toolbar\":{\"id\":\"1906\",\"type\":\"Toolbar\"},\"x_range\":{\"id\":\"1882\",\"type\":\"DataRange1d\"},\"x_scale\":{\"id\":\"1886\",\"type\":\"LinearScale\"},\"y_range\":{\"id\":\"1884\",\"type\":\"DataRange1d\"},\"y_scale\":{\"id\":\"1888\",\"type\":\"LinearScale\"}},\"id\":\"1881\",\"subtype\":\"Figure\",\"type\":\"Plot\"},{\"attributes\":{\"data_source\":{\"id\":\"1913\",\"type\":\"ColumnDataSource\"},\"glyph\":{\"id\":\"1914\",\"type\":\"Line\"},\"hover_glyph\":null,\"muted_glyph\":null,\"nonselection_glyph\":{\"id\":\"1915\",\"type\":\"Line\"},\"selection_glyph\":null,\"view\":{\"id\":\"1917\",\"type\":\"CDSView\"}},\"id\":\"1916\",\"type\":\"GlyphRenderer\"},{\"attributes\":{},\"id\":\"1971\",\"type\":\"UnionRenderers\"},{\"attributes\":{\"active_drag\":\"auto\",\"active_inspect\":\"auto\",\"active_multi\":null,\"active_scroll\":\"auto\",\"active_tap\":\"auto\",\"tools\":[{\"id\":\"1900\",\"type\":\"PanTool\"},{\"id\":\"1901\",\"type\":\"WheelZoomTool\"},{\"id\":\"1902\",\"type\":\"BoxZoomTool\"},{\"id\":\"1903\",\"type\":\"SaveTool\"},{\"id\":\"1904\",\"type\":\"ResetTool\"},{\"id\":\"1905\",\"type\":\"HelpTool\"}]},\"id\":\"1906\",\"type\":\"Toolbar\"},{\"attributes\":{\"dimension\":1,\"ticker\":{\"id\":\"1896\",\"type\":\"BasicTicker\"}},\"id\":\"1899\",\"type\":\"Grid\"},{\"attributes\":{},\"id\":\"1968\",\"type\":\"BasicTickFormatter\"},{\"attributes\":{},\"id\":\"1972\",\"type\":\"Selection\"},{\"attributes\":{},\"id\":\"1891\",\"type\":\"BasicTicker\"},{\"attributes\":{\"line_alpha\":0.1,\"line_color\":\"#1f77b4\",\"x\":{\"field\":\"x\"},\"y\":{\"field\":\"y\"}},\"id\":\"1915\",\"type\":\"Line\"},{\"attributes\":{\"source\":{\"id\":\"1913\",\"type\":\"ColumnDataSource\"}},\"id\":\"1917\",\"type\":\"CDSView\"},{\"attributes\":{},\"id\":\"1896\",\"type\":\"BasicTicker\"},{\"attributes\":{\"line_color\":\"#1f77b4\",\"x\":{\"field\":\"x\"},\"y\":{\"field\":\"y\"}},\"id\":\"1914\",\"type\":\"Line\"},{\"attributes\":{\"text\":\"\"},\"id\":\"1965\",\"type\":\"Title\"},{\"attributes\":{},\"id\":\"1900\",\"type\":\"PanTool\"},{\"attributes\":{\"formatter\":{\"id\":\"1966\",\"type\":\"BasicTickFormatter\"},\"ticker\":{\"id\":\"1891\",\"type\":\"BasicTicker\"}},\"id\":\"1890\",\"type\":\"LinearAxis\"},{\"attributes\":{\"bottom_units\":\"screen\",\"fill_alpha\":{\"value\":0.5},\"fill_color\":{\"value\":\"lightgrey\"},\"left_units\":\"screen\",\"level\":\"overlay\",\"line_alpha\":{\"value\":1.0},\"line_color\":{\"value\":\"black\"},\"line_dash\":[4,4],\"line_width\":{\"value\":2},\"render_mode\":\"css\",\"right_units\":\"screen\",\"top_units\":\"screen\"},\"id\":\"1970\",\"type\":\"BoxAnnotation\"},{\"attributes\":{\"ticker\":{\"id\":\"1891\",\"type\":\"BasicTicker\"}},\"id\":\"1894\",\"type\":\"Grid\"},{\"attributes\":{\"formatter\":{\"id\":\"1968\",\"type\":\"BasicTickFormatter\"},\"ticker\":{\"id\":\"1896\",\"type\":\"BasicTicker\"}},\"id\":\"1895\",\"type\":\"LinearAxis\"},{\"attributes\":{\"callback\":null,\"data\":{\"x\":[2,3,4,6],\"y\":[4,2,6,4]},\"selected\":{\"id\":\"1972\",\"type\":\"Selection\"},\"selection_policy\":{\"id\":\"1971\",\"type\":\"UnionRenderers\"}},\"id\":\"1913\",\"type\":\"ColumnDataSource\"},{\"attributes\":{},\"id\":\"1888\",\"type\":\"LinearScale\"},{\"attributes\":{},\"id\":\"1901\",\"type\":\"WheelZoomTool\"},{\"attributes\":{\"overlay\":{\"id\":\"1970\",\"type\":\"BoxAnnotation\"}},\"id\":\"1902\",\"type\":\"BoxZoomTool\"},{\"attributes\":{\"callback\":null},\"id\":\"1884\",\"type\":\"DataRange1d\"},{\"attributes\":{},\"id\":\"1903\",\"type\":\"SaveTool\"},{\"attributes\":{},\"id\":\"1886\",\"type\":\"LinearScale\"},{\"attributes\":{},\"id\":\"1904\",\"type\":\"ResetTool\"},{\"attributes\":{\"callback\":null},\"id\":\"1882\",\"type\":\"DataRange1d\"},{\"attributes\":{},\"id\":\"1905\",\"type\":\"HelpTool\"},{\"attributes\":{},\"id\":\"1966\",\"type\":\"BasicTickFormatter\"}],\"root_ids\":[\"1881\"]},\"title\":\"Bokeh Application\",\"version\":\"1.3.4\"}};\n",
       "  var render_items = [{\"docid\":\"2027c185-a1f2-442d-89ff-b8c4d30a9cb8\",\"roots\":{\"1881\":\"28ac33bf-1bf1-4a42-8338-90e8e8570aba\"}}];\n",
       "  root.Bokeh.embed.embed_items_notebook(docs_json, render_items);\n",
       "\n",
       "  }\n",
       "  if (root.Bokeh !== undefined) {\n",
       "    embed_document(root);\n",
       "  } else {\n",
       "    var attempts = 0;\n",
       "    var timer = setInterval(function(root) {\n",
       "      if (root.Bokeh !== undefined) {\n",
       "        embed_document(root);\n",
       "        clearInterval(timer);\n",
       "      }\n",
       "      attempts++;\n",
       "      if (attempts > 100) {\n",
       "        console.log(\"Bokeh: ERROR: Unable to run BokehJS code because BokehJS library is missing\");\n",
       "        clearInterval(timer);\n",
       "      }\n",
       "    }, 10, root)\n",
       "  }\n",
       "})(window);"
      ],
      "application/vnd.bokehjs_exec.v0+json": ""
     },
     "metadata": {
      "application/vnd.bokehjs_exec.v0+json": {
       "id": "1881"
      }
     },
     "output_type": "display_data"
    }
   ],
   "source": [
    "l = figure(plot_width = 450, plot_height = 350)\n",
    "l.line([2,3,4,6],[4,2,6,4])\n",
    "\n",
    "show(l)"
   ]
  },
  {
   "cell_type": "code",
   "execution_count": 17,
   "metadata": {},
   "outputs": [
    {
     "data": {
      "text/html": [
       "\n",
       "\n",
       "\n",
       "\n",
       "\n",
       "\n",
       "  <div class=\"bk-root\" id=\"85d353a3-a20d-4b17-b1a2-9950b402d70f\" data-root-id=\"1881\"></div>\n"
      ]
     },
     "metadata": {},
     "output_type": "display_data"
    },
    {
     "data": {
      "application/javascript": [
       "(function(root) {\n",
       "  function embed_document(root) {\n",
       "    \n",
       "  var docs_json = {\"dc864266-b00e-4a60-af0e-30cd16dabfef\":{\"roots\":{\"references\":[{\"attributes\":{\"below\":[{\"id\":\"1890\",\"type\":\"LinearAxis\"}],\"center\":[{\"id\":\"1894\",\"type\":\"Grid\"},{\"id\":\"1899\",\"type\":\"Grid\"}],\"left\":[{\"id\":\"1895\",\"type\":\"LinearAxis\"}],\"plot_height\":350,\"plot_width\":450,\"renderers\":[{\"id\":\"1916\",\"type\":\"GlyphRenderer\"},{\"id\":\"2030\",\"type\":\"GlyphRenderer\"}],\"title\":{\"id\":\"1965\",\"type\":\"Title\"},\"toolbar\":{\"id\":\"1906\",\"type\":\"Toolbar\"},\"x_range\":{\"id\":\"1882\",\"type\":\"DataRange1d\"},\"x_scale\":{\"id\":\"1886\",\"type\":\"LinearScale\"},\"y_range\":{\"id\":\"1884\",\"type\":\"DataRange1d\"},\"y_scale\":{\"id\":\"1888\",\"type\":\"LinearScale\"}},\"id\":\"1881\",\"subtype\":\"Figure\",\"type\":\"Plot\"},{\"attributes\":{\"data_source\":{\"id\":\"1913\",\"type\":\"ColumnDataSource\"},\"glyph\":{\"id\":\"1914\",\"type\":\"Line\"},\"hover_glyph\":null,\"muted_glyph\":null,\"nonselection_glyph\":{\"id\":\"1915\",\"type\":\"Line\"},\"selection_glyph\":null,\"view\":{\"id\":\"1917\",\"type\":\"CDSView\"}},\"id\":\"1916\",\"type\":\"GlyphRenderer\"},{\"attributes\":{},\"id\":\"1971\",\"type\":\"UnionRenderers\"},{\"attributes\":{\"active_drag\":\"auto\",\"active_inspect\":\"auto\",\"active_multi\":null,\"active_scroll\":\"auto\",\"active_tap\":\"auto\",\"tools\":[{\"id\":\"1900\",\"type\":\"PanTool\"},{\"id\":\"1901\",\"type\":\"WheelZoomTool\"},{\"id\":\"1902\",\"type\":\"BoxZoomTool\"},{\"id\":\"1903\",\"type\":\"SaveTool\"},{\"id\":\"1904\",\"type\":\"ResetTool\"},{\"id\":\"1905\",\"type\":\"HelpTool\"}]},\"id\":\"1906\",\"type\":\"Toolbar\"},{\"attributes\":{\"dimension\":1,\"ticker\":{\"id\":\"1896\",\"type\":\"BasicTicker\"}},\"id\":\"1899\",\"type\":\"Grid\"},{\"attributes\":{\"line_alpha\":0.1,\"line_color\":\"#1f77b4\",\"line_width\":3,\"x\":{\"field\":\"x\"},\"y\":{\"field\":\"y\"}},\"id\":\"2029\",\"type\":\"Line\"},{\"attributes\":{},\"id\":\"1968\",\"type\":\"BasicTickFormatter\"},{\"attributes\":{},\"id\":\"1972\",\"type\":\"Selection\"},{\"attributes\":{},\"id\":\"1891\",\"type\":\"BasicTicker\"},{\"attributes\":{\"line_alpha\":0.1,\"line_color\":\"#1f77b4\",\"x\":{\"field\":\"x\"},\"y\":{\"field\":\"y\"}},\"id\":\"1915\",\"type\":\"Line\"},{\"attributes\":{\"source\":{\"id\":\"1913\",\"type\":\"ColumnDataSource\"}},\"id\":\"1917\",\"type\":\"CDSView\"},{\"attributes\":{\"source\":{\"id\":\"2027\",\"type\":\"ColumnDataSource\"}},\"id\":\"2031\",\"type\":\"CDSView\"},{\"attributes\":{},\"id\":\"1896\",\"type\":\"BasicTicker\"},{\"attributes\":{\"line_color\":\"red\",\"line_width\":3,\"x\":{\"field\":\"x\"},\"y\":{\"field\":\"y\"}},\"id\":\"2028\",\"type\":\"Line\"},{\"attributes\":{\"line_color\":\"#1f77b4\",\"x\":{\"field\":\"x\"},\"y\":{\"field\":\"y\"}},\"id\":\"1914\",\"type\":\"Line\"},{\"attributes\":{\"text\":\"\"},\"id\":\"1965\",\"type\":\"Title\"},{\"attributes\":{},\"id\":\"1900\",\"type\":\"PanTool\"},{\"attributes\":{\"formatter\":{\"id\":\"1966\",\"type\":\"BasicTickFormatter\"},\"ticker\":{\"id\":\"1891\",\"type\":\"BasicTicker\"}},\"id\":\"1890\",\"type\":\"LinearAxis\"},{\"attributes\":{\"data_source\":{\"id\":\"2027\",\"type\":\"ColumnDataSource\"},\"glyph\":{\"id\":\"2028\",\"type\":\"Line\"},\"hover_glyph\":null,\"muted_glyph\":null,\"nonselection_glyph\":{\"id\":\"2029\",\"type\":\"Line\"},\"selection_glyph\":null,\"view\":{\"id\":\"2031\",\"type\":\"CDSView\"}},\"id\":\"2030\",\"type\":\"GlyphRenderer\"},{\"attributes\":{\"bottom_units\":\"screen\",\"fill_alpha\":{\"value\":0.5},\"fill_color\":{\"value\":\"lightgrey\"},\"left_units\":\"screen\",\"level\":\"overlay\",\"line_alpha\":{\"value\":1.0},\"line_color\":{\"value\":\"black\"},\"line_dash\":[4,4],\"line_width\":{\"value\":2},\"render_mode\":\"css\",\"right_units\":\"screen\",\"top_units\":\"screen\"},\"id\":\"1970\",\"type\":\"BoxAnnotation\"},{\"attributes\":{\"ticker\":{\"id\":\"1891\",\"type\":\"BasicTicker\"}},\"id\":\"1894\",\"type\":\"Grid\"},{\"attributes\":{\"formatter\":{\"id\":\"1968\",\"type\":\"BasicTickFormatter\"},\"ticker\":{\"id\":\"1896\",\"type\":\"BasicTicker\"}},\"id\":\"1895\",\"type\":\"LinearAxis\"},{\"attributes\":{\"callback\":null,\"data\":{\"x\":[2,3,4,6],\"y\":[4,2,6,4]},\"selected\":{\"id\":\"1972\",\"type\":\"Selection\"},\"selection_policy\":{\"id\":\"1971\",\"type\":\"UnionRenderers\"}},\"id\":\"1913\",\"type\":\"ColumnDataSource\"},{\"attributes\":{\"callback\":null,\"data\":{\"x\":[2,3,4,6],\"y\":[4,2,6,4]},\"selected\":{\"id\":\"2088\",\"type\":\"Selection\"},\"selection_policy\":{\"id\":\"2087\",\"type\":\"UnionRenderers\"}},\"id\":\"2027\",\"type\":\"ColumnDataSource\"},{\"attributes\":{},\"id\":\"2088\",\"type\":\"Selection\"},{\"attributes\":{},\"id\":\"1888\",\"type\":\"LinearScale\"},{\"attributes\":{},\"id\":\"1901\",\"type\":\"WheelZoomTool\"},{\"attributes\":{\"overlay\":{\"id\":\"1970\",\"type\":\"BoxAnnotation\"}},\"id\":\"1902\",\"type\":\"BoxZoomTool\"},{\"attributes\":{\"callback\":null},\"id\":\"1884\",\"type\":\"DataRange1d\"},{\"attributes\":{},\"id\":\"1903\",\"type\":\"SaveTool\"},{\"attributes\":{},\"id\":\"1886\",\"type\":\"LinearScale\"},{\"attributes\":{},\"id\":\"1904\",\"type\":\"ResetTool\"},{\"attributes\":{},\"id\":\"2087\",\"type\":\"UnionRenderers\"},{\"attributes\":{\"callback\":null},\"id\":\"1882\",\"type\":\"DataRange1d\"},{\"attributes\":{},\"id\":\"1905\",\"type\":\"HelpTool\"},{\"attributes\":{},\"id\":\"1966\",\"type\":\"BasicTickFormatter\"}],\"root_ids\":[\"1881\"]},\"title\":\"Bokeh Application\",\"version\":\"1.3.4\"}};\n",
       "  var render_items = [{\"docid\":\"dc864266-b00e-4a60-af0e-30cd16dabfef\",\"roots\":{\"1881\":\"85d353a3-a20d-4b17-b1a2-9950b402d70f\"}}];\n",
       "  root.Bokeh.embed.embed_items_notebook(docs_json, render_items);\n",
       "\n",
       "  }\n",
       "  if (root.Bokeh !== undefined) {\n",
       "    embed_document(root);\n",
       "  } else {\n",
       "    var attempts = 0;\n",
       "    var timer = setInterval(function(root) {\n",
       "      if (root.Bokeh !== undefined) {\n",
       "        embed_document(root);\n",
       "        clearInterval(timer);\n",
       "      }\n",
       "      attempts++;\n",
       "      if (attempts > 100) {\n",
       "        console.log(\"Bokeh: ERROR: Unable to run BokehJS code because BokehJS library is missing\");\n",
       "        clearInterval(timer);\n",
       "      }\n",
       "    }, 10, root)\n",
       "  }\n",
       "})(window);"
      ],
      "application/vnd.bokehjs_exec.v0+json": ""
     },
     "metadata": {
      "application/vnd.bokehjs_exec.v0+json": {
       "id": "1881"
      }
     },
     "output_type": "display_data"
    }
   ],
   "source": [
    "l.line([2,3,4,6],[4,2,6,4], line_width = 3, color = 'red')\n",
    "\n",
    "show(l)\n"
   ]
  },
  {
   "cell_type": "code",
   "execution_count": 18,
   "metadata": {},
   "outputs": [
    {
     "data": {
      "text/html": [
       "\n",
       "\n",
       "\n",
       "\n",
       "\n",
       "\n",
       "  <div class=\"bk-root\" id=\"65e08fc3-a490-4154-b5b2-239b28a41397\" data-root-id=\"1881\"></div>\n"
      ]
     },
     "metadata": {},
     "output_type": "display_data"
    },
    {
     "data": {
      "application/javascript": [
       "(function(root) {\n",
       "  function embed_document(root) {\n",
       "    \n",
       "  var docs_json = {\"8bf92055-2b99-46d7-af30-e6ef821457be\":{\"roots\":{\"references\":[{\"attributes\":{\"below\":[{\"id\":\"1890\",\"type\":\"LinearAxis\"}],\"center\":[{\"id\":\"1894\",\"type\":\"Grid\"},{\"id\":\"1899\",\"type\":\"Grid\"}],\"left\":[{\"id\":\"1895\",\"type\":\"LinearAxis\"}],\"plot_height\":350,\"plot_width\":450,\"renderers\":[{\"id\":\"1916\",\"type\":\"GlyphRenderer\"},{\"id\":\"2030\",\"type\":\"GlyphRenderer\"},{\"id\":\"2158\",\"type\":\"GlyphRenderer\"}],\"title\":{\"id\":\"1965\",\"type\":\"Title\"},\"toolbar\":{\"id\":\"1906\",\"type\":\"Toolbar\"},\"x_range\":{\"id\":\"1882\",\"type\":\"DataRange1d\"},\"x_scale\":{\"id\":\"1886\",\"type\":\"LinearScale\"},\"y_range\":{\"id\":\"1884\",\"type\":\"DataRange1d\"},\"y_scale\":{\"id\":\"1888\",\"type\":\"LinearScale\"}},\"id\":\"1881\",\"subtype\":\"Figure\",\"type\":\"Plot\"},{\"attributes\":{\"data_source\":{\"id\":\"1913\",\"type\":\"ColumnDataSource\"},\"glyph\":{\"id\":\"1914\",\"type\":\"Line\"},\"hover_glyph\":null,\"muted_glyph\":null,\"nonselection_glyph\":{\"id\":\"1915\",\"type\":\"Line\"},\"selection_glyph\":null,\"view\":{\"id\":\"1917\",\"type\":\"CDSView\"}},\"id\":\"1916\",\"type\":\"GlyphRenderer\"},{\"attributes\":{},\"id\":\"1971\",\"type\":\"UnionRenderers\"},{\"attributes\":{\"active_drag\":\"auto\",\"active_inspect\":\"auto\",\"active_multi\":null,\"active_scroll\":\"auto\",\"active_tap\":\"auto\",\"tools\":[{\"id\":\"1900\",\"type\":\"PanTool\"},{\"id\":\"1901\",\"type\":\"WheelZoomTool\"},{\"id\":\"1902\",\"type\":\"BoxZoomTool\"},{\"id\":\"1903\",\"type\":\"SaveTool\"},{\"id\":\"1904\",\"type\":\"ResetTool\"},{\"id\":\"1905\",\"type\":\"HelpTool\"}]},\"id\":\"1906\",\"type\":\"Toolbar\"},{\"attributes\":{\"dimension\":1,\"ticker\":{\"id\":\"1896\",\"type\":\"BasicTicker\"}},\"id\":\"1899\",\"type\":\"Grid\"},{\"attributes\":{\"line_alpha\":0.1,\"line_color\":\"#1f77b4\",\"line_width\":3,\"x\":{\"field\":\"x\"},\"y\":{\"field\":\"y\"}},\"id\":\"2029\",\"type\":\"Line\"},{\"attributes\":{},\"id\":\"1968\",\"type\":\"BasicTickFormatter\"},{\"attributes\":{},\"id\":\"1972\",\"type\":\"Selection\"},{\"attributes\":{},\"id\":\"1891\",\"type\":\"BasicTicker\"},{\"attributes\":{\"line_alpha\":0.1,\"line_color\":\"#1f77b4\",\"x\":{\"field\":\"x\"},\"y\":{\"field\":\"y\"}},\"id\":\"1915\",\"type\":\"Line\"},{\"attributes\":{\"line_color\":\"red\",\"line_width\":3,\"x\":{\"field\":\"x\"},\"y\":{\"field\":\"y\"}},\"id\":\"2156\",\"type\":\"Line\"},{\"attributes\":{\"source\":{\"id\":\"2155\",\"type\":\"ColumnDataSource\"}},\"id\":\"2159\",\"type\":\"CDSView\"},{\"attributes\":{\"source\":{\"id\":\"1913\",\"type\":\"ColumnDataSource\"}},\"id\":\"1917\",\"type\":\"CDSView\"},{\"attributes\":{\"source\":{\"id\":\"2027\",\"type\":\"ColumnDataSource\"}},\"id\":\"2031\",\"type\":\"CDSView\"},{\"attributes\":{\"data_source\":{\"id\":\"2155\",\"type\":\"ColumnDataSource\"},\"glyph\":{\"id\":\"2156\",\"type\":\"Line\"},\"hover_glyph\":null,\"muted_glyph\":null,\"nonselection_glyph\":{\"id\":\"2157\",\"type\":\"Line\"},\"selection_glyph\":null,\"view\":{\"id\":\"2159\",\"type\":\"CDSView\"}},\"id\":\"2158\",\"type\":\"GlyphRenderer\"},{\"attributes\":{},\"id\":\"1896\",\"type\":\"BasicTicker\"},{\"attributes\":{},\"id\":\"2217\",\"type\":\"UnionRenderers\"},{\"attributes\":{},\"id\":\"2218\",\"type\":\"Selection\"},{\"attributes\":{\"line_color\":\"red\",\"line_width\":3,\"x\":{\"field\":\"x\"},\"y\":{\"field\":\"y\"}},\"id\":\"2028\",\"type\":\"Line\"},{\"attributes\":{\"line_color\":\"#1f77b4\",\"x\":{\"field\":\"x\"},\"y\":{\"field\":\"y\"}},\"id\":\"1914\",\"type\":\"Line\"},{\"attributes\":{\"text\":\"\"},\"id\":\"1965\",\"type\":\"Title\"},{\"attributes\":{},\"id\":\"1900\",\"type\":\"PanTool\"},{\"attributes\":{\"formatter\":{\"id\":\"1966\",\"type\":\"BasicTickFormatter\"},\"ticker\":{\"id\":\"1891\",\"type\":\"BasicTicker\"}},\"id\":\"1890\",\"type\":\"LinearAxis\"},{\"attributes\":{\"callback\":null,\"data\":{\"x\":[2,3,4,6],\"y\":[4,2,6,4]},\"selected\":{\"id\":\"2218\",\"type\":\"Selection\"},\"selection_policy\":{\"id\":\"2217\",\"type\":\"UnionRenderers\"}},\"id\":\"2155\",\"type\":\"ColumnDataSource\"},{\"attributes\":{\"data_source\":{\"id\":\"2027\",\"type\":\"ColumnDataSource\"},\"glyph\":{\"id\":\"2028\",\"type\":\"Line\"},\"hover_glyph\":null,\"muted_glyph\":null,\"nonselection_glyph\":{\"id\":\"2029\",\"type\":\"Line\"},\"selection_glyph\":null,\"view\":{\"id\":\"2031\",\"type\":\"CDSView\"}},\"id\":\"2030\",\"type\":\"GlyphRenderer\"},{\"attributes\":{\"bottom_units\":\"screen\",\"fill_alpha\":{\"value\":0.5},\"fill_color\":{\"value\":\"lightgrey\"},\"left_units\":\"screen\",\"level\":\"overlay\",\"line_alpha\":{\"value\":1.0},\"line_color\":{\"value\":\"black\"},\"line_dash\":[4,4],\"line_width\":{\"value\":2},\"render_mode\":\"css\",\"right_units\":\"screen\",\"top_units\":\"screen\"},\"id\":\"1970\",\"type\":\"BoxAnnotation\"},{\"attributes\":{\"ticker\":{\"id\":\"1891\",\"type\":\"BasicTicker\"}},\"id\":\"1894\",\"type\":\"Grid\"},{\"attributes\":{\"formatter\":{\"id\":\"1968\",\"type\":\"BasicTickFormatter\"},\"ticker\":{\"id\":\"1896\",\"type\":\"BasicTicker\"}},\"id\":\"1895\",\"type\":\"LinearAxis\"},{\"attributes\":{\"callback\":null,\"data\":{\"x\":[2,3,4,6],\"y\":[4,2,6,4]},\"selected\":{\"id\":\"1972\",\"type\":\"Selection\"},\"selection_policy\":{\"id\":\"1971\",\"type\":\"UnionRenderers\"}},\"id\":\"1913\",\"type\":\"ColumnDataSource\"},{\"attributes\":{\"callback\":null,\"data\":{\"x\":[2,3,4,6],\"y\":[4,2,6,4]},\"selected\":{\"id\":\"2088\",\"type\":\"Selection\"},\"selection_policy\":{\"id\":\"2087\",\"type\":\"UnionRenderers\"}},\"id\":\"2027\",\"type\":\"ColumnDataSource\"},{\"attributes\":{\"line_alpha\":0.1,\"line_color\":\"#1f77b4\",\"line_width\":3,\"x\":{\"field\":\"x\"},\"y\":{\"field\":\"y\"}},\"id\":\"2157\",\"type\":\"Line\"},{\"attributes\":{},\"id\":\"1888\",\"type\":\"LinearScale\"},{\"attributes\":{},\"id\":\"1901\",\"type\":\"WheelZoomTool\"},{\"attributes\":{},\"id\":\"2088\",\"type\":\"Selection\"},{\"attributes\":{\"overlay\":{\"id\":\"1970\",\"type\":\"BoxAnnotation\"}},\"id\":\"1902\",\"type\":\"BoxZoomTool\"},{\"attributes\":{\"callback\":null},\"id\":\"1884\",\"type\":\"DataRange1d\"},{\"attributes\":{},\"id\":\"1903\",\"type\":\"SaveTool\"},{\"attributes\":{},\"id\":\"1886\",\"type\":\"LinearScale\"},{\"attributes\":{},\"id\":\"1904\",\"type\":\"ResetTool\"},{\"attributes\":{},\"id\":\"2087\",\"type\":\"UnionRenderers\"},{\"attributes\":{\"callback\":null},\"id\":\"1882\",\"type\":\"DataRange1d\"},{\"attributes\":{},\"id\":\"1905\",\"type\":\"HelpTool\"},{\"attributes\":{},\"id\":\"1966\",\"type\":\"BasicTickFormatter\"}],\"root_ids\":[\"1881\"]},\"title\":\"Bokeh Application\",\"version\":\"1.3.4\"}};\n",
       "  var render_items = [{\"docid\":\"8bf92055-2b99-46d7-af30-e6ef821457be\",\"roots\":{\"1881\":\"65e08fc3-a490-4154-b5b2-239b28a41397\"}}];\n",
       "  root.Bokeh.embed.embed_items_notebook(docs_json, render_items);\n",
       "\n",
       "  }\n",
       "  if (root.Bokeh !== undefined) {\n",
       "    embed_document(root);\n",
       "  } else {\n",
       "    var attempts = 0;\n",
       "    var timer = setInterval(function(root) {\n",
       "      if (root.Bokeh !== undefined) {\n",
       "        embed_document(root);\n",
       "        clearInterval(timer);\n",
       "      }\n",
       "      attempts++;\n",
       "      if (attempts > 100) {\n",
       "        console.log(\"Bokeh: ERROR: Unable to run BokehJS code because BokehJS library is missing\");\n",
       "        clearInterval(timer);\n",
       "      }\n",
       "    }, 10, root)\n",
       "  }\n",
       "})(window);"
      ],
      "application/vnd.bokehjs_exec.v0+json": ""
     },
     "metadata": {
      "application/vnd.bokehjs_exec.v0+json": {
       "id": "1881"
      }
     },
     "output_type": "display_data"
    }
   ],
   "source": [
    "l.line([2,3,4,6],[4,2,6,4], line_width = 3, color = 'red')\n",
    "\n",
    "show(l)"
   ]
  },
  {
   "cell_type": "code",
   "execution_count": 19,
   "metadata": {},
   "outputs": [
    {
     "data": {
      "text/html": [
       "\n",
       "\n",
       "\n",
       "\n",
       "\n",
       "\n",
       "  <div class=\"bk-root\" id=\"34790e56-34f4-474e-9e67-f07495971073\" data-root-id=\"1881\"></div>\n"
      ]
     },
     "metadata": {},
     "output_type": "display_data"
    },
    {
     "data": {
      "application/javascript": [
       "(function(root) {\n",
       "  function embed_document(root) {\n",
       "    \n",
       "  var docs_json = {\"f76051c2-cf32-4d81-840e-5a5b0ba69963\":{\"roots\":{\"references\":[{\"attributes\":{\"below\":[{\"id\":\"1890\",\"type\":\"LinearAxis\"}],\"center\":[{\"id\":\"1894\",\"type\":\"Grid\"},{\"id\":\"1899\",\"type\":\"Grid\"}],\"left\":[{\"id\":\"1895\",\"type\":\"LinearAxis\"}],\"plot_height\":350,\"plot_width\":450,\"renderers\":[{\"id\":\"1916\",\"type\":\"GlyphRenderer\"},{\"id\":\"2030\",\"type\":\"GlyphRenderer\"},{\"id\":\"2158\",\"type\":\"GlyphRenderer\"},{\"id\":\"2300\",\"type\":\"GlyphRenderer\"},{\"id\":\"2366\",\"type\":\"GlyphRenderer\"}],\"title\":{\"id\":\"1965\",\"type\":\"Title\"},\"toolbar\":{\"id\":\"1906\",\"type\":\"Toolbar\"},\"x_range\":{\"id\":\"1882\",\"type\":\"DataRange1d\"},\"x_scale\":{\"id\":\"1886\",\"type\":\"LinearScale\"},\"y_range\":{\"id\":\"1884\",\"type\":\"DataRange1d\"},\"y_scale\":{\"id\":\"1888\",\"type\":\"LinearScale\"}},\"id\":\"1881\",\"subtype\":\"Figure\",\"type\":\"Plot\"},{\"attributes\":{\"data_source\":{\"id\":\"1913\",\"type\":\"ColumnDataSource\"},\"glyph\":{\"id\":\"1914\",\"type\":\"Line\"},\"hover_glyph\":null,\"muted_glyph\":null,\"nonselection_glyph\":{\"id\":\"1915\",\"type\":\"Line\"},\"selection_glyph\":null,\"view\":{\"id\":\"1917\",\"type\":\"CDSView\"}},\"id\":\"1916\",\"type\":\"GlyphRenderer\"},{\"attributes\":{\"line_alpha\":0.1,\"line_color\":\"#1f77b4\",\"line_width\":3,\"x\":{\"field\":\"x\"},\"y\":{\"field\":\"y\"}},\"id\":\"2299\",\"type\":\"Line\"},{\"attributes\":{},\"id\":\"1971\",\"type\":\"UnionRenderers\"},{\"attributes\":{\"active_drag\":\"auto\",\"active_inspect\":\"auto\",\"active_multi\":null,\"active_scroll\":\"auto\",\"active_tap\":\"auto\",\"tools\":[{\"id\":\"1900\",\"type\":\"PanTool\"},{\"id\":\"1901\",\"type\":\"WheelZoomTool\"},{\"id\":\"1902\",\"type\":\"BoxZoomTool\"},{\"id\":\"1903\",\"type\":\"SaveTool\"},{\"id\":\"1904\",\"type\":\"ResetTool\"},{\"id\":\"1905\",\"type\":\"HelpTool\"}]},\"id\":\"1906\",\"type\":\"Toolbar\"},{\"attributes\":{\"dimension\":1,\"ticker\":{\"id\":\"1896\",\"type\":\"BasicTicker\"}},\"id\":\"1899\",\"type\":\"Grid\"},{\"attributes\":{},\"id\":\"2362\",\"type\":\"Selection\"},{\"attributes\":{\"line_alpha\":0.1,\"line_color\":\"#1f77b4\",\"line_width\":3,\"x\":{\"field\":\"x\"},\"y\":{\"field\":\"y\"}},\"id\":\"2029\",\"type\":\"Line\"},{\"attributes\":{},\"id\":\"1968\",\"type\":\"BasicTickFormatter\"},{\"attributes\":{},\"id\":\"1972\",\"type\":\"Selection\"},{\"attributes\":{},\"id\":\"1891\",\"type\":\"BasicTicker\"},{\"attributes\":{\"line_alpha\":0.1,\"line_color\":\"#1f77b4\",\"x\":{\"field\":\"x\"},\"y\":{\"field\":\"y\"}},\"id\":\"1915\",\"type\":\"Line\"},{\"attributes\":{\"line_color\":\"red\",\"line_width\":3,\"x\":{\"field\":\"x\"},\"y\":{\"field\":\"y\"}},\"id\":\"2156\",\"type\":\"Line\"},{\"attributes\":{\"source\":{\"id\":\"2155\",\"type\":\"ColumnDataSource\"}},\"id\":\"2159\",\"type\":\"CDSView\"},{\"attributes\":{\"fill_color\":{\"value\":\"yellow\"},\"line_color\":{\"value\":\"green\"},\"size\":{\"units\":\"screen\",\"value\":14},\"x\":{\"field\":\"x\"},\"y\":{\"field\":\"y\"}},\"id\":\"2364\",\"type\":\"Triangle\"},{\"attributes\":{},\"id\":\"2430\",\"type\":\"Selection\"},{\"attributes\":{\"source\":{\"id\":\"1913\",\"type\":\"ColumnDataSource\"}},\"id\":\"1917\",\"type\":\"CDSView\"},{\"attributes\":{\"source\":{\"id\":\"2027\",\"type\":\"ColumnDataSource\"}},\"id\":\"2031\",\"type\":\"CDSView\"},{\"attributes\":{\"data_source\":{\"id\":\"2155\",\"type\":\"ColumnDataSource\"},\"glyph\":{\"id\":\"2156\",\"type\":\"Line\"},\"hover_glyph\":null,\"muted_glyph\":null,\"nonselection_glyph\":{\"id\":\"2157\",\"type\":\"Line\"},\"selection_glyph\":null,\"view\":{\"id\":\"2159\",\"type\":\"CDSView\"}},\"id\":\"2158\",\"type\":\"GlyphRenderer\"},{\"attributes\":{},\"id\":\"1896\",\"type\":\"BasicTicker\"},{\"attributes\":{},\"id\":\"2217\",\"type\":\"UnionRenderers\"},{\"attributes\":{},\"id\":\"2218\",\"type\":\"Selection\"},{\"attributes\":{\"line_color\":\"red\",\"line_width\":3,\"x\":{\"field\":\"x\"},\"y\":{\"field\":\"y\"}},\"id\":\"2028\",\"type\":\"Line\"},{\"attributes\":{\"line_color\":\"#1f77b4\",\"x\":{\"field\":\"x\"},\"y\":{\"field\":\"y\"}},\"id\":\"1914\",\"type\":\"Line\"},{\"attributes\":{\"fill_alpha\":{\"value\":0.1},\"fill_color\":{\"value\":\"#1f77b4\"},\"line_alpha\":{\"value\":0.1},\"line_color\":{\"value\":\"#1f77b4\"},\"size\":{\"units\":\"screen\",\"value\":14},\"x\":{\"field\":\"x\"},\"y\":{\"field\":\"y\"}},\"id\":\"2365\",\"type\":\"Triangle\"},{\"attributes\":{},\"id\":\"2429\",\"type\":\"UnionRenderers\"},{\"attributes\":{\"text\":\"\"},\"id\":\"1965\",\"type\":\"Title\"},{\"attributes\":{},\"id\":\"1900\",\"type\":\"PanTool\"},{\"attributes\":{\"formatter\":{\"id\":\"1966\",\"type\":\"BasicTickFormatter\"},\"ticker\":{\"id\":\"1891\",\"type\":\"BasicTicker\"}},\"id\":\"1890\",\"type\":\"LinearAxis\"},{\"attributes\":{\"callback\":null,\"data\":{\"x\":[2,3,4,6],\"y\":[4,2,6,4]},\"selected\":{\"id\":\"2218\",\"type\":\"Selection\"},\"selection_policy\":{\"id\":\"2217\",\"type\":\"UnionRenderers\"}},\"id\":\"2155\",\"type\":\"ColumnDataSource\"},{\"attributes\":{\"line_color\":\"red\",\"line_width\":3,\"x\":{\"field\":\"x\"},\"y\":{\"field\":\"y\"}},\"id\":\"2298\",\"type\":\"Line\"},{\"attributes\":{\"data_source\":{\"id\":\"2027\",\"type\":\"ColumnDataSource\"},\"glyph\":{\"id\":\"2028\",\"type\":\"Line\"},\"hover_glyph\":null,\"muted_glyph\":null,\"nonselection_glyph\":{\"id\":\"2029\",\"type\":\"Line\"},\"selection_glyph\":null,\"view\":{\"id\":\"2031\",\"type\":\"CDSView\"}},\"id\":\"2030\",\"type\":\"GlyphRenderer\"},{\"attributes\":{\"source\":{\"id\":\"2363\",\"type\":\"ColumnDataSource\"}},\"id\":\"2367\",\"type\":\"CDSView\"},{\"attributes\":{\"bottom_units\":\"screen\",\"fill_alpha\":{\"value\":0.5},\"fill_color\":{\"value\":\"lightgrey\"},\"left_units\":\"screen\",\"level\":\"overlay\",\"line_alpha\":{\"value\":1.0},\"line_color\":{\"value\":\"black\"},\"line_dash\":[4,4],\"line_width\":{\"value\":2},\"render_mode\":\"css\",\"right_units\":\"screen\",\"top_units\":\"screen\"},\"id\":\"1970\",\"type\":\"BoxAnnotation\"},{\"attributes\":{\"ticker\":{\"id\":\"1891\",\"type\":\"BasicTicker\"}},\"id\":\"1894\",\"type\":\"Grid\"},{\"attributes\":{\"formatter\":{\"id\":\"1968\",\"type\":\"BasicTickFormatter\"},\"ticker\":{\"id\":\"1896\",\"type\":\"BasicTicker\"}},\"id\":\"1895\",\"type\":\"LinearAxis\"},{\"attributes\":{\"callback\":null,\"data\":{\"x\":[2,3,4,6],\"y\":[4,2,6,4]},\"selected\":{\"id\":\"1972\",\"type\":\"Selection\"},\"selection_policy\":{\"id\":\"1971\",\"type\":\"UnionRenderers\"}},\"id\":\"1913\",\"type\":\"ColumnDataSource\"},{\"attributes\":{\"callback\":null,\"data\":{\"x\":[2,3,4,6],\"y\":[4,2,6,4]},\"selected\":{\"id\":\"2088\",\"type\":\"Selection\"},\"selection_policy\":{\"id\":\"2087\",\"type\":\"UnionRenderers\"}},\"id\":\"2027\",\"type\":\"ColumnDataSource\"},{\"attributes\":{\"line_alpha\":0.1,\"line_color\":\"#1f77b4\",\"line_width\":3,\"x\":{\"field\":\"x\"},\"y\":{\"field\":\"y\"}},\"id\":\"2157\",\"type\":\"Line\"},{\"attributes\":{},\"id\":\"1888\",\"type\":\"LinearScale\"},{\"attributes\":{},\"id\":\"1901\",\"type\":\"WheelZoomTool\"},{\"attributes\":{},\"id\":\"2088\",\"type\":\"Selection\"},{\"attributes\":{\"source\":{\"id\":\"2297\",\"type\":\"ColumnDataSource\"}},\"id\":\"2301\",\"type\":\"CDSView\"},{\"attributes\":{\"overlay\":{\"id\":\"1970\",\"type\":\"BoxAnnotation\"}},\"id\":\"1902\",\"type\":\"BoxZoomTool\"},{\"attributes\":{\"callback\":null},\"id\":\"1884\",\"type\":\"DataRange1d\"},{\"attributes\":{\"callback\":null,\"data\":{\"x\":[2,3,4,5],\"y\":[2,3,4,5]},\"selected\":{\"id\":\"2362\",\"type\":\"Selection\"},\"selection_policy\":{\"id\":\"2361\",\"type\":\"UnionRenderers\"}},\"id\":\"2297\",\"type\":\"ColumnDataSource\"},{\"attributes\":{},\"id\":\"1886\",\"type\":\"LinearScale\"},{\"attributes\":{},\"id\":\"1903\",\"type\":\"SaveTool\"},{\"attributes\":{\"data_source\":{\"id\":\"2363\",\"type\":\"ColumnDataSource\"},\"glyph\":{\"id\":\"2364\",\"type\":\"Triangle\"},\"hover_glyph\":null,\"muted_glyph\":null,\"nonselection_glyph\":{\"id\":\"2365\",\"type\":\"Triangle\"},\"selection_glyph\":null,\"view\":{\"id\":\"2367\",\"type\":\"CDSView\"}},\"id\":\"2366\",\"type\":\"GlyphRenderer\"},{\"attributes\":{},\"id\":\"1904\",\"type\":\"ResetTool\"},{\"attributes\":{\"callback\":null,\"data\":{\"x\":[2,3,4,5],\"y\":[2,3,4,5]},\"selected\":{\"id\":\"2430\",\"type\":\"Selection\"},\"selection_policy\":{\"id\":\"2429\",\"type\":\"UnionRenderers\"}},\"id\":\"2363\",\"type\":\"ColumnDataSource\"},{\"attributes\":{},\"id\":\"2087\",\"type\":\"UnionRenderers\"},{\"attributes\":{\"data_source\":{\"id\":\"2297\",\"type\":\"ColumnDataSource\"},\"glyph\":{\"id\":\"2298\",\"type\":\"Line\"},\"hover_glyph\":null,\"muted_glyph\":null,\"nonselection_glyph\":{\"id\":\"2299\",\"type\":\"Line\"},\"selection_glyph\":null,\"view\":{\"id\":\"2301\",\"type\":\"CDSView\"}},\"id\":\"2300\",\"type\":\"GlyphRenderer\"},{\"attributes\":{},\"id\":\"2361\",\"type\":\"UnionRenderers\"},{\"attributes\":{\"callback\":null},\"id\":\"1882\",\"type\":\"DataRange1d\"},{\"attributes\":{},\"id\":\"1905\",\"type\":\"HelpTool\"},{\"attributes\":{},\"id\":\"1966\",\"type\":\"BasicTickFormatter\"}],\"root_ids\":[\"1881\"]},\"title\":\"Bokeh Application\",\"version\":\"1.3.4\"}};\n",
       "  var render_items = [{\"docid\":\"f76051c2-cf32-4d81-840e-5a5b0ba69963\",\"roots\":{\"1881\":\"34790e56-34f4-474e-9e67-f07495971073\"}}];\n",
       "  root.Bokeh.embed.embed_items_notebook(docs_json, render_items);\n",
       "\n",
       "  }\n",
       "  if (root.Bokeh !== undefined) {\n",
       "    embed_document(root);\n",
       "  } else {\n",
       "    var attempts = 0;\n",
       "    var timer = setInterval(function(root) {\n",
       "      if (root.Bokeh !== undefined) {\n",
       "        embed_document(root);\n",
       "        clearInterval(timer);\n",
       "      }\n",
       "      attempts++;\n",
       "      if (attempts > 100) {\n",
       "        console.log(\"Bokeh: ERROR: Unable to run BokehJS code because BokehJS library is missing\");\n",
       "        clearInterval(timer);\n",
       "      }\n",
       "    }, 10, root)\n",
       "  }\n",
       "})(window);"
      ],
      "application/vnd.bokehjs_exec.v0+json": ""
     },
     "metadata": {
      "application/vnd.bokehjs_exec.v0+json": {
       "id": "1881"
      }
     },
     "output_type": "display_data"
    }
   ],
   "source": [
    "l.line([2,3,4,5], [2,3,4,5], line_width = 3, color = 'red')\n",
    "l.triangle([2,3,4,5],[2,3,4,5], size = 14, fill_color = 'yellow', color='green')\n",
    "\n",
    "show(l)"
   ]
  },
  {
   "cell_type": "code",
   "execution_count": 20,
   "metadata": {},
   "outputs": [
    {
     "data": {
      "text/html": [
       "\n",
       "\n",
       "\n",
       "\n",
       "\n",
       "\n",
       "  <div class=\"bk-root\" id=\"fd91969a-2b8e-4ee2-a710-660c1f76430c\" data-root-id=\"1881\"></div>\n"
      ]
     },
     "metadata": {},
     "output_type": "display_data"
    },
    {
     "data": {
      "application/javascript": [
       "(function(root) {\n",
       "  function embed_document(root) {\n",
       "    \n",
       "  var docs_json = {\"7ce17845-46b9-482a-9921-c82686c39792\":{\"roots\":{\"references\":[{\"attributes\":{\"below\":[{\"id\":\"1890\",\"type\":\"LinearAxis\"}],\"center\":[{\"id\":\"1894\",\"type\":\"Grid\"},{\"id\":\"1899\",\"type\":\"Grid\"}],\"left\":[{\"id\":\"1895\",\"type\":\"LinearAxis\"}],\"plot_height\":350,\"plot_width\":450,\"renderers\":[{\"id\":\"1916\",\"type\":\"GlyphRenderer\"},{\"id\":\"2030\",\"type\":\"GlyphRenderer\"},{\"id\":\"2158\",\"type\":\"GlyphRenderer\"},{\"id\":\"2300\",\"type\":\"GlyphRenderer\"},{\"id\":\"2366\",\"type\":\"GlyphRenderer\"},{\"id\":\"2536\",\"type\":\"GlyphRenderer\"},{\"id\":\"2606\",\"type\":\"GlyphRenderer\"},{\"id\":\"2678\",\"type\":\"GlyphRenderer\"},{\"id\":\"2752\",\"type\":\"GlyphRenderer\"}],\"title\":{\"id\":\"1965\",\"type\":\"Title\"},\"toolbar\":{\"id\":\"1906\",\"type\":\"Toolbar\"},\"x_range\":{\"id\":\"1882\",\"type\":\"DataRange1d\"},\"x_scale\":{\"id\":\"1886\",\"type\":\"LinearScale\"},\"y_range\":{\"id\":\"1884\",\"type\":\"DataRange1d\"},\"y_scale\":{\"id\":\"1888\",\"type\":\"LinearScale\"}},\"id\":\"1881\",\"subtype\":\"Figure\",\"type\":\"Plot\"},{\"attributes\":{},\"id\":\"2824\",\"type\":\"Selection\"},{\"attributes\":{\"line_color\":\"red\",\"line_width\":3,\"x\":{\"field\":\"x\"},\"y\":{\"field\":\"y\"}},\"id\":\"2156\",\"type\":\"Line\"},{\"attributes\":{\"source\":{\"id\":\"2155\",\"type\":\"ColumnDataSource\"}},\"id\":\"2159\",\"type\":\"CDSView\"},{\"attributes\":{\"data_source\":{\"id\":\"2155\",\"type\":\"ColumnDataSource\"},\"glyph\":{\"id\":\"2156\",\"type\":\"Line\"},\"hover_glyph\":null,\"muted_glyph\":null,\"nonselection_glyph\":{\"id\":\"2157\",\"type\":\"Line\"},\"selection_glyph\":null,\"view\":{\"id\":\"2159\",\"type\":\"CDSView\"}},\"id\":\"2158\",\"type\":\"GlyphRenderer\"},{\"attributes\":{},\"id\":\"2217\",\"type\":\"UnionRenderers\"},{\"attributes\":{\"callback\":null,\"data\":{\"x\":[2,3,4,5],\"y\":[2,3,4,5]},\"selected\":{\"id\":\"2674\",\"type\":\"Selection\"},\"selection_policy\":{\"id\":\"2673\",\"type\":\"UnionRenderers\"}},\"id\":\"2603\",\"type\":\"ColumnDataSource\"},{\"attributes\":{\"fill_alpha\":{\"value\":0.1},\"fill_color\":{\"value\":\"#1f77b4\"},\"line_alpha\":{\"value\":0.1},\"line_color\":{\"value\":\"#1f77b4\"},\"size\":{\"units\":\"screen\",\"value\":14},\"x\":{\"field\":\"x\"},\"y\":{\"field\":\"y\"}},\"id\":\"2365\",\"type\":\"Triangle\"},{\"attributes\":{\"callback\":null,\"data\":{\"x\":[2,3,4,5],\"y\":[2,3,4,5]},\"selected\":{\"id\":\"2602\",\"type\":\"Selection\"},\"selection_policy\":{\"id\":\"2601\",\"type\":\"UnionRenderers\"}},\"id\":\"2533\",\"type\":\"ColumnDataSource\"},{\"attributes\":{\"line_color\":\"red\",\"line_width\":3,\"x\":{\"field\":\"x\"},\"y\":{\"field\":\"y\"}},\"id\":\"2534\",\"type\":\"Line\"},{\"attributes\":{\"text\":\"\"},\"id\":\"1965\",\"type\":\"Title\"},{\"attributes\":{\"callback\":null,\"data\":{\"x\":[2,3,4,6],\"y\":[4,2,6,4]},\"selected\":{\"id\":\"2218\",\"type\":\"Selection\"},\"selection_policy\":{\"id\":\"2217\",\"type\":\"UnionRenderers\"}},\"id\":\"2155\",\"type\":\"ColumnDataSource\"},{\"attributes\":{\"line_alpha\":0.1,\"line_color\":\"#1f77b4\",\"line_width\":3,\"x\":{\"field\":\"x\"},\"y\":{\"field\":\"y\"}},\"id\":\"2535\",\"type\":\"Line\"},{\"attributes\":{\"data_source\":{\"id\":\"2533\",\"type\":\"ColumnDataSource\"},\"glyph\":{\"id\":\"2534\",\"type\":\"Line\"},\"hover_glyph\":null,\"muted_glyph\":null,\"nonselection_glyph\":{\"id\":\"2535\",\"type\":\"Line\"},\"selection_glyph\":null,\"view\":{\"id\":\"2537\",\"type\":\"CDSView\"}},\"id\":\"2536\",\"type\":\"GlyphRenderer\"},{\"attributes\":{\"fill_color\":{\"value\":\"yellow\"},\"line_color\":{\"value\":\"green\"},\"size\":{\"units\":\"screen\",\"value\":14},\"x\":{\"field\":\"x\"},\"y\":{\"field\":\"y\"}},\"id\":\"2604\",\"type\":\"Triangle\"},{\"attributes\":{\"fill_color\":{\"value\":\"orange\"},\"size\":{\"units\":\"screen\",\"value\":14},\"x\":{\"field\":\"x\"},\"y\":{\"field\":\"y\"}},\"id\":\"2750\",\"type\":\"Circle\"},{\"attributes\":{\"source\":{\"id\":\"2533\",\"type\":\"ColumnDataSource\"}},\"id\":\"2537\",\"type\":\"CDSView\"},{\"attributes\":{},\"id\":\"2747\",\"type\":\"UnionRenderers\"},{\"attributes\":{\"callback\":null,\"data\":{\"x\":[2,3,4,6],\"y\":[4,2,6,4]},\"selected\":{\"id\":\"2824\",\"type\":\"Selection\"},\"selection_policy\":{\"id\":\"2823\",\"type\":\"UnionRenderers\"}},\"id\":\"2749\",\"type\":\"ColumnDataSource\"},{\"attributes\":{\"source\":{\"id\":\"2749\",\"type\":\"ColumnDataSource\"}},\"id\":\"2753\",\"type\":\"CDSView\"},{\"attributes\":{\"line_alpha\":0.1,\"line_color\":\"#1f77b4\",\"line_width\":3,\"x\":{\"field\":\"x\"},\"y\":{\"field\":\"y\"}},\"id\":\"2299\",\"type\":\"Line\"},{\"attributes\":{},\"id\":\"1971\",\"type\":\"UnionRenderers\"},{\"attributes\":{\"data_source\":{\"id\":\"2749\",\"type\":\"ColumnDataSource\"},\"glyph\":{\"id\":\"2750\",\"type\":\"Circle\"},\"hover_glyph\":null,\"muted_glyph\":null,\"nonselection_glyph\":{\"id\":\"2751\",\"type\":\"Circle\"},\"selection_glyph\":null,\"view\":{\"id\":\"2753\",\"type\":\"CDSView\"}},\"id\":\"2752\",\"type\":\"GlyphRenderer\"},{\"attributes\":{\"fill_alpha\":{\"value\":0.1},\"fill_color\":{\"value\":\"#1f77b4\"},\"line_alpha\":{\"value\":0.1},\"line_color\":{\"value\":\"#1f77b4\"},\"size\":{\"units\":\"screen\",\"value\":14},\"x\":{\"field\":\"x\"},\"y\":{\"field\":\"y\"}},\"id\":\"2605\",\"type\":\"Triangle\"},{\"attributes\":{},\"id\":\"2673\",\"type\":\"UnionRenderers\"},{\"attributes\":{},\"id\":\"1968\",\"type\":\"BasicTickFormatter\"},{\"attributes\":{},\"id\":\"1972\",\"type\":\"Selection\"},{\"attributes\":{},\"id\":\"2602\",\"type\":\"Selection\"},{\"attributes\":{\"data_source\":{\"id\":\"2603\",\"type\":\"ColumnDataSource\"},\"glyph\":{\"id\":\"2604\",\"type\":\"Triangle\"},\"hover_glyph\":null,\"muted_glyph\":null,\"nonselection_glyph\":{\"id\":\"2605\",\"type\":\"Triangle\"},\"selection_glyph\":null,\"view\":{\"id\":\"2607\",\"type\":\"CDSView\"}},\"id\":\"2606\",\"type\":\"GlyphRenderer\"},{\"attributes\":{},\"id\":\"2748\",\"type\":\"Selection\"},{\"attributes\":{},\"id\":\"2218\",\"type\":\"Selection\"},{\"attributes\":{},\"id\":\"2429\",\"type\":\"UnionRenderers\"},{\"attributes\":{\"source\":{\"id\":\"2603\",\"type\":\"ColumnDataSource\"}},\"id\":\"2607\",\"type\":\"CDSView\"},{\"attributes\":{\"line_color\":\"red\",\"line_width\":3,\"x\":{\"field\":\"x\"},\"y\":{\"field\":\"y\"}},\"id\":\"2298\",\"type\":\"Line\"},{\"attributes\":{\"source\":{\"id\":\"2363\",\"type\":\"ColumnDataSource\"}},\"id\":\"2367\",\"type\":\"CDSView\"},{\"attributes\":{\"bottom_units\":\"screen\",\"fill_alpha\":{\"value\":0.5},\"fill_color\":{\"value\":\"lightgrey\"},\"left_units\":\"screen\",\"level\":\"overlay\",\"line_alpha\":{\"value\":1.0},\"line_color\":{\"value\":\"black\"},\"line_dash\":[4,4],\"line_width\":{\"value\":2},\"render_mode\":\"css\",\"right_units\":\"screen\",\"top_units\":\"screen\"},\"id\":\"1970\",\"type\":\"BoxAnnotation\"},{\"attributes\":{\"line_alpha\":0.1,\"line_color\":\"#1f77b4\",\"line_width\":3,\"x\":{\"field\":\"x\"},\"y\":{\"field\":\"y\"}},\"id\":\"2157\",\"type\":\"Line\"},{\"attributes\":{},\"id\":\"2674\",\"type\":\"Selection\"},{\"attributes\":{\"line_color\":\"green\",\"line_width\":3,\"x\":{\"field\":\"x\"},\"y\":{\"field\":\"y\"}},\"id\":\"2676\",\"type\":\"Line\"},{\"attributes\":{\"callback\":null,\"data\":{\"x\":[2,3,4,5],\"y\":[2,3,4,5]},\"selected\":{\"id\":\"2362\",\"type\":\"Selection\"},\"selection_policy\":{\"id\":\"2361\",\"type\":\"UnionRenderers\"}},\"id\":\"2297\",\"type\":\"ColumnDataSource\"},{\"attributes\":{\"line_alpha\":0.1,\"line_color\":\"#1f77b4\",\"line_width\":3,\"x\":{\"field\":\"x\"},\"y\":{\"field\":\"y\"}},\"id\":\"2677\",\"type\":\"Line\"},{\"attributes\":{\"data_source\":{\"id\":\"2363\",\"type\":\"ColumnDataSource\"},\"glyph\":{\"id\":\"2364\",\"type\":\"Triangle\"},\"hover_glyph\":null,\"muted_glyph\":null,\"nonselection_glyph\":{\"id\":\"2365\",\"type\":\"Triangle\"},\"selection_glyph\":null,\"view\":{\"id\":\"2367\",\"type\":\"CDSView\"}},\"id\":\"2366\",\"type\":\"GlyphRenderer\"},{\"attributes\":{\"callback\":null,\"data\":{\"x\":[2,3,4,5],\"y\":[2,3,4,5]},\"selected\":{\"id\":\"2430\",\"type\":\"Selection\"},\"selection_policy\":{\"id\":\"2429\",\"type\":\"UnionRenderers\"}},\"id\":\"2363\",\"type\":\"ColumnDataSource\"},{\"attributes\":{\"data_source\":{\"id\":\"2297\",\"type\":\"ColumnDataSource\"},\"glyph\":{\"id\":\"2298\",\"type\":\"Line\"},\"hover_glyph\":null,\"muted_glyph\":null,\"nonselection_glyph\":{\"id\":\"2299\",\"type\":\"Line\"},\"selection_glyph\":null,\"view\":{\"id\":\"2301\",\"type\":\"CDSView\"}},\"id\":\"2300\",\"type\":\"GlyphRenderer\"},{\"attributes\":{\"fill_alpha\":{\"value\":0.1},\"fill_color\":{\"value\":\"#1f77b4\"},\"line_alpha\":{\"value\":0.1},\"line_color\":{\"value\":\"#1f77b4\"},\"size\":{\"units\":\"screen\",\"value\":14},\"x\":{\"field\":\"x\"},\"y\":{\"field\":\"y\"}},\"id\":\"2751\",\"type\":\"Circle\"},{\"attributes\":{\"data_source\":{\"id\":\"2675\",\"type\":\"ColumnDataSource\"},\"glyph\":{\"id\":\"2676\",\"type\":\"Line\"},\"hover_glyph\":null,\"muted_glyph\":null,\"nonselection_glyph\":{\"id\":\"2677\",\"type\":\"Line\"},\"selection_glyph\":null,\"view\":{\"id\":\"2679\",\"type\":\"CDSView\"}},\"id\":\"2678\",\"type\":\"GlyphRenderer\"},{\"attributes\":{},\"id\":\"1966\",\"type\":\"BasicTickFormatter\"},{\"attributes\":{},\"id\":\"2823\",\"type\":\"UnionRenderers\"},{\"attributes\":{\"source\":{\"id\":\"2675\",\"type\":\"ColumnDataSource\"}},\"id\":\"2679\",\"type\":\"CDSView\"},{\"attributes\":{\"dimension\":1,\"ticker\":{\"id\":\"1896\",\"type\":\"BasicTicker\"}},\"id\":\"1899\",\"type\":\"Grid\"},{\"attributes\":{},\"id\":\"2362\",\"type\":\"Selection\"},{\"attributes\":{\"line_alpha\":0.1,\"line_color\":\"#1f77b4\",\"x\":{\"field\":\"x\"},\"y\":{\"field\":\"y\"}},\"id\":\"1915\",\"type\":\"Line\"},{\"attributes\":{\"fill_color\":{\"value\":\"yellow\"},\"line_color\":{\"value\":\"green\"},\"size\":{\"units\":\"screen\",\"value\":14},\"x\":{\"field\":\"x\"},\"y\":{\"field\":\"y\"}},\"id\":\"2364\",\"type\":\"Triangle\"},{\"attributes\":{},\"id\":\"2430\",\"type\":\"Selection\"},{\"attributes\":{},\"id\":\"1896\",\"type\":\"BasicTicker\"},{\"attributes\":{\"line_color\":\"#1f77b4\",\"x\":{\"field\":\"x\"},\"y\":{\"field\":\"y\"}},\"id\":\"1914\",\"type\":\"Line\"},{\"attributes\":{},\"id\":\"1900\",\"type\":\"PanTool\"},{\"attributes\":{\"formatter\":{\"id\":\"1968\",\"type\":\"BasicTickFormatter\"},\"ticker\":{\"id\":\"1896\",\"type\":\"BasicTicker\"}},\"id\":\"1895\",\"type\":\"LinearAxis\"},{\"attributes\":{\"callback\":null,\"data\":{\"x\":[2,3,4,6],\"y\":[4,2,6,4]},\"selected\":{\"id\":\"1972\",\"type\":\"Selection\"},\"selection_policy\":{\"id\":\"1971\",\"type\":\"UnionRenderers\"}},\"id\":\"1913\",\"type\":\"ColumnDataSource\"},{\"attributes\":{},\"id\":\"1901\",\"type\":\"WheelZoomTool\"},{\"attributes\":{\"overlay\":{\"id\":\"1970\",\"type\":\"BoxAnnotation\"}},\"id\":\"1902\",\"type\":\"BoxZoomTool\"},{\"attributes\":{},\"id\":\"1903\",\"type\":\"SaveTool\"},{\"attributes\":{},\"id\":\"1904\",\"type\":\"ResetTool\"},{\"attributes\":{},\"id\":\"2361\",\"type\":\"UnionRenderers\"},{\"attributes\":{},\"id\":\"2601\",\"type\":\"UnionRenderers\"},{\"attributes\":{},\"id\":\"1905\",\"type\":\"HelpTool\"},{\"attributes\":{\"source\":{\"id\":\"2027\",\"type\":\"ColumnDataSource\"}},\"id\":\"2031\",\"type\":\"CDSView\"},{\"attributes\":{\"data_source\":{\"id\":\"1913\",\"type\":\"ColumnDataSource\"},\"glyph\":{\"id\":\"1914\",\"type\":\"Line\"},\"hover_glyph\":null,\"muted_glyph\":null,\"nonselection_glyph\":{\"id\":\"1915\",\"type\":\"Line\"},\"selection_glyph\":null,\"view\":{\"id\":\"1917\",\"type\":\"CDSView\"}},\"id\":\"1916\",\"type\":\"GlyphRenderer\"},{\"attributes\":{\"active_drag\":\"auto\",\"active_inspect\":\"auto\",\"active_multi\":null,\"active_scroll\":\"auto\",\"active_tap\":\"auto\",\"tools\":[{\"id\":\"1900\",\"type\":\"PanTool\"},{\"id\":\"1901\",\"type\":\"WheelZoomTool\"},{\"id\":\"1902\",\"type\":\"BoxZoomTool\"},{\"id\":\"1903\",\"type\":\"SaveTool\"},{\"id\":\"1904\",\"type\":\"ResetTool\"},{\"id\":\"1905\",\"type\":\"HelpTool\"}]},\"id\":\"1906\",\"type\":\"Toolbar\"},{\"attributes\":{\"line_alpha\":0.1,\"line_color\":\"#1f77b4\",\"line_width\":3,\"x\":{\"field\":\"x\"},\"y\":{\"field\":\"y\"}},\"id\":\"2029\",\"type\":\"Line\"},{\"attributes\":{},\"id\":\"1891\",\"type\":\"BasicTicker\"},{\"attributes\":{\"source\":{\"id\":\"1913\",\"type\":\"ColumnDataSource\"}},\"id\":\"1917\",\"type\":\"CDSView\"},{\"attributes\":{\"line_color\":\"red\",\"line_width\":3,\"x\":{\"field\":\"x\"},\"y\":{\"field\":\"y\"}},\"id\":\"2028\",\"type\":\"Line\"},{\"attributes\":{\"formatter\":{\"id\":\"1966\",\"type\":\"BasicTickFormatter\"},\"ticker\":{\"id\":\"1891\",\"type\":\"BasicTicker\"}},\"id\":\"1890\",\"type\":\"LinearAxis\"},{\"attributes\":{\"data_source\":{\"id\":\"2027\",\"type\":\"ColumnDataSource\"},\"glyph\":{\"id\":\"2028\",\"type\":\"Line\"},\"hover_glyph\":null,\"muted_glyph\":null,\"nonselection_glyph\":{\"id\":\"2029\",\"type\":\"Line\"},\"selection_glyph\":null,\"view\":{\"id\":\"2031\",\"type\":\"CDSView\"}},\"id\":\"2030\",\"type\":\"GlyphRenderer\"},{\"attributes\":{\"ticker\":{\"id\":\"1891\",\"type\":\"BasicTicker\"}},\"id\":\"1894\",\"type\":\"Grid\"},{\"attributes\":{\"callback\":null,\"data\":{\"x\":[2,3,4,6],\"y\":[4,2,6,4]},\"selected\":{\"id\":\"2088\",\"type\":\"Selection\"},\"selection_policy\":{\"id\":\"2087\",\"type\":\"UnionRenderers\"}},\"id\":\"2027\",\"type\":\"ColumnDataSource\"},{\"attributes\":{},\"id\":\"2088\",\"type\":\"Selection\"},{\"attributes\":{},\"id\":\"1888\",\"type\":\"LinearScale\"},{\"attributes\":{\"source\":{\"id\":\"2297\",\"type\":\"ColumnDataSource\"}},\"id\":\"2301\",\"type\":\"CDSView\"},{\"attributes\":{\"callback\":null},\"id\":\"1884\",\"type\":\"DataRange1d\"},{\"attributes\":{},\"id\":\"1886\",\"type\":\"LinearScale\"},{\"attributes\":{},\"id\":\"2087\",\"type\":\"UnionRenderers\"},{\"attributes\":{\"callback\":null},\"id\":\"1882\",\"type\":\"DataRange1d\"},{\"attributes\":{\"callback\":null,\"data\":{\"x\":[2,3,4,6],\"y\":[4,2,6,4]},\"selected\":{\"id\":\"2748\",\"type\":\"Selection\"},\"selection_policy\":{\"id\":\"2747\",\"type\":\"UnionRenderers\"}},\"id\":\"2675\",\"type\":\"ColumnDataSource\"}],\"root_ids\":[\"1881\"]},\"title\":\"Bokeh Application\",\"version\":\"1.3.4\"}};\n",
       "  var render_items = [{\"docid\":\"7ce17845-46b9-482a-9921-c82686c39792\",\"roots\":{\"1881\":\"fd91969a-2b8e-4ee2-a710-660c1f76430c\"}}];\n",
       "  root.Bokeh.embed.embed_items_notebook(docs_json, render_items);\n",
       "\n",
       "  }\n",
       "  if (root.Bokeh !== undefined) {\n",
       "    embed_document(root);\n",
       "  } else {\n",
       "    var attempts = 0;\n",
       "    var timer = setInterval(function(root) {\n",
       "      if (root.Bokeh !== undefined) {\n",
       "        embed_document(root);\n",
       "        clearInterval(timer);\n",
       "      }\n",
       "      attempts++;\n",
       "      if (attempts > 100) {\n",
       "        console.log(\"Bokeh: ERROR: Unable to run BokehJS code because BokehJS library is missing\");\n",
       "        clearInterval(timer);\n",
       "      }\n",
       "    }, 10, root)\n",
       "  }\n",
       "})(window);"
      ],
      "application/vnd.bokehjs_exec.v0+json": ""
     },
     "metadata": {
      "application/vnd.bokehjs_exec.v0+json": {
       "id": "1881"
      }
     },
     "output_type": "display_data"
    }
   ],
   "source": [
    "l.line([2,3,4,5], [2,3,4,5], line_width = 3, color = 'red')\n",
    "l.triangle([2,3,4,5],[2,3,4,5], size = 14, fill_color = 'yellow', color='green')\n",
    "\n",
    "l.line([2,3,4,6],[4,2,6,4], line_width = 3, color = 'green')\n",
    "l.circle([2,3,4,6],[4,2,6,4], size = 14, fill_color = 'orange', color='black')\n",
    "\n",
    "show(l)"
   ]
  },
  {
   "cell_type": "code",
   "execution_count": 21,
   "metadata": {},
   "outputs": [],
   "source": [
    "from bokeh.layouts import gridplot"
   ]
  },
  {
   "cell_type": "code",
   "execution_count": 24,
   "metadata": {},
   "outputs": [],
   "source": [
    "x = [-3,-4,-2,-6,-9,-8,-11,2,3,1,5,8,3,6,4,11,9]\n",
    "y0 = [i*0.5 for i in x]\n",
    "y1 = [i**2 for i in x]\n",
    "y2 = [i**3 for i in x]"
   ]
  },
  {
   "cell_type": "code",
   "execution_count": 25,
   "metadata": {},
   "outputs": [
    {
     "data": {
      "text/plain": [
       "(([-3, -4, -2, -6, -9, -8, -11, 2, 3, 1, 5, 8, 3, 6, 4, 11, 9],\n",
       "  [-1.5,\n",
       "   -2.0,\n",
       "   -1.0,\n",
       "   -3.0,\n",
       "   -4.5,\n",
       "   -4.0,\n",
       "   -5.5,\n",
       "   1.0,\n",
       "   1.5,\n",
       "   0.5,\n",
       "   2.5,\n",
       "   4.0,\n",
       "   1.5,\n",
       "   3.0,\n",
       "   2.0,\n",
       "   5.5,\n",
       "   4.5]),\n",
       " ([-3, -4, -2, -6, -9, -8, -11, 2, 3, 1, 5, 8, 3, 6, 4, 11, 9],\n",
       "  [9, 16, 4, 36, 81, 64, 121, 4, 9, 1, 25, 64, 9, 36, 16, 121, 81]),\n",
       " ([-3, -4, -2, -6, -9, -8, -11, 2, 3, 1, 5, 8, 3, 6, 4, 11, 9],\n",
       "  [-27,\n",
       "   -64,\n",
       "   -8,\n",
       "   -216,\n",
       "   -729,\n",
       "   -512,\n",
       "   -1331,\n",
       "   8,\n",
       "   27,\n",
       "   1,\n",
       "   125,\n",
       "   512,\n",
       "   27,\n",
       "   216,\n",
       "   64,\n",
       "   1331,\n",
       "   729]))"
      ]
     },
     "execution_count": 25,
     "metadata": {},
     "output_type": "execute_result"
    }
   ],
   "source": [
    "(x,y0),(x,y1),(x,y2)"
   ]
  },
  {
   "cell_type": "code",
   "execution_count": 26,
   "metadata": {},
   "outputs": [
    {
     "data": {
      "text/html": [
       "\n",
       "\n",
       "\n",
       "\n",
       "\n",
       "\n",
       "  <div class=\"bk-root\" id=\"b6ba21aa-e405-4f17-9d16-8254936c3ead\" data-root-id=\"3119\"></div>\n"
      ]
     },
     "metadata": {},
     "output_type": "display_data"
    },
    {
     "data": {
      "application/javascript": [
       "(function(root) {\n",
       "  function embed_document(root) {\n",
       "    \n",
       "  var docs_json = {\"f3182e2f-f9a4-436b-969c-215c96892bbf\":{\"roots\":{\"references\":[{\"attributes\":{\"children\":[{\"id\":\"3118\",\"type\":\"ToolbarBox\"},{\"id\":\"3116\",\"type\":\"GridBox\"}]},\"id\":\"3119\",\"type\":\"Column\"},{\"attributes\":{\"data_source\":{\"id\":\"3007\",\"type\":\"ColumnDataSource\"},\"glyph\":{\"id\":\"3008\",\"type\":\"Circle\"},\"hover_glyph\":null,\"muted_glyph\":null,\"nonselection_glyph\":{\"id\":\"3009\",\"type\":\"Circle\"},\"selection_glyph\":null,\"view\":{\"id\":\"3011\",\"type\":\"CDSView\"}},\"id\":\"3010\",\"type\":\"GlyphRenderer\"},{\"attributes\":{\"dimension\":1,\"ticker\":{\"id\":\"3064\",\"type\":\"BasicTicker\"}},\"id\":\"3067\",\"type\":\"Grid\"},{\"attributes\":{},\"id\":\"3113\",\"type\":\"UnionRenderers\"},{\"attributes\":{},\"id\":\"3114\",\"type\":\"Selection\"},{\"attributes\":{\"toolbar\":{\"id\":\"3117\",\"type\":\"ProxyToolbar\"},\"toolbar_location\":\"above\"},\"id\":\"3118\",\"type\":\"ToolbarBox\"},{\"attributes\":{\"tools\":[{\"id\":\"2994\",\"type\":\"PanTool\"},{\"id\":\"2995\",\"type\":\"WheelZoomTool\"},{\"id\":\"2996\",\"type\":\"BoxZoomTool\"},{\"id\":\"2997\",\"type\":\"SaveTool\"},{\"id\":\"2998\",\"type\":\"ResetTool\"},{\"id\":\"2999\",\"type\":\"HelpTool\"},{\"id\":\"3031\",\"type\":\"PanTool\"},{\"id\":\"3032\",\"type\":\"WheelZoomTool\"},{\"id\":\"3033\",\"type\":\"BoxZoomTool\"},{\"id\":\"3034\",\"type\":\"SaveTool\"},{\"id\":\"3035\",\"type\":\"ResetTool\"},{\"id\":\"3036\",\"type\":\"HelpTool\"},{\"id\":\"3068\",\"type\":\"PanTool\"},{\"id\":\"3069\",\"type\":\"WheelZoomTool\"},{\"id\":\"3070\",\"type\":\"BoxZoomTool\"},{\"id\":\"3071\",\"type\":\"SaveTool\"},{\"id\":\"3072\",\"type\":\"ResetTool\"},{\"id\":\"3073\",\"type\":\"HelpTool\"}]},\"id\":\"3117\",\"type\":\"ProxyToolbar\"},{\"attributes\":{},\"id\":\"3064\",\"type\":\"BasicTicker\"},{\"attributes\":{},\"id\":\"3059\",\"type\":\"BasicTicker\"},{\"attributes\":{\"below\":[{\"id\":\"3021\",\"type\":\"LinearAxis\"}],\"center\":[{\"id\":\"3025\",\"type\":\"Grid\"},{\"id\":\"3030\",\"type\":\"Grid\"}],\"left\":[{\"id\":\"3026\",\"type\":\"LinearAxis\"}],\"plot_height\":250,\"plot_width\":275,\"renderers\":[{\"id\":\"3047\",\"type\":\"GlyphRenderer\"}],\"title\":{\"id\":\"3097\",\"type\":\"Title\"},\"toolbar\":{\"id\":\"3037\",\"type\":\"Toolbar\"},\"toolbar_location\":null,\"x_range\":{\"id\":\"3013\",\"type\":\"DataRange1d\"},\"x_scale\":{\"id\":\"3017\",\"type\":\"LinearScale\"},\"y_range\":{\"id\":\"3015\",\"type\":\"DataRange1d\"},\"y_scale\":{\"id\":\"3019\",\"type\":\"LinearScale\"}},\"id\":\"3012\",\"subtype\":\"Figure\",\"type\":\"Plot\"},{\"attributes\":{\"ticker\":{\"id\":\"3059\",\"type\":\"BasicTicker\"}},\"id\":\"3062\",\"type\":\"Grid\"},{\"attributes\":{\"data_source\":{\"id\":\"3081\",\"type\":\"ColumnDataSource\"},\"glyph\":{\"id\":\"3082\",\"type\":\"Square\"},\"hover_glyph\":null,\"muted_glyph\":null,\"nonselection_glyph\":{\"id\":\"3083\",\"type\":\"Square\"},\"selection_glyph\":null,\"view\":{\"id\":\"3085\",\"type\":\"CDSView\"}},\"id\":\"3084\",\"type\":\"GlyphRenderer\"},{\"attributes\":{\"below\":[{\"id\":\"2984\",\"type\":\"LinearAxis\"}],\"center\":[{\"id\":\"2988\",\"type\":\"Grid\"},{\"id\":\"2993\",\"type\":\"Grid\"}],\"left\":[{\"id\":\"2989\",\"type\":\"LinearAxis\"}],\"plot_height\":250,\"plot_width\":275,\"renderers\":[{\"id\":\"3010\",\"type\":\"GlyphRenderer\"}],\"title\":{\"id\":\"3087\",\"type\":\"Title\"},\"toolbar\":{\"id\":\"3000\",\"type\":\"Toolbar\"},\"toolbar_location\":null,\"x_range\":{\"id\":\"2976\",\"type\":\"DataRange1d\"},\"x_scale\":{\"id\":\"2980\",\"type\":\"LinearScale\"},\"y_range\":{\"id\":\"2978\",\"type\":\"DataRange1d\"},\"y_scale\":{\"id\":\"2982\",\"type\":\"LinearScale\"}},\"id\":\"2975\",\"subtype\":\"Figure\",\"type\":\"Plot\"},{\"attributes\":{\"children\":[[{\"id\":\"2975\",\"subtype\":\"Figure\",\"type\":\"Plot\"},0,0],[{\"id\":\"3012\",\"subtype\":\"Figure\",\"type\":\"Plot\"},0,1],[{\"id\":\"3049\",\"subtype\":\"Figure\",\"type\":\"Plot\"},0,2]]},\"id\":\"3116\",\"type\":\"GridBox\"},{\"attributes\":{\"fill_alpha\":{\"value\":0.9},\"fill_color\":{\"value\":\"blue\"},\"line_alpha\":{\"value\":0.9},\"line_color\":{\"value\":\"blue\"},\"size\":{\"units\":\"screen\",\"value\":13},\"x\":{\"field\":\"x\"},\"y\":{\"field\":\"y\"}},\"id\":\"3082\",\"type\":\"Square\"},{\"attributes\":{\"callback\":null,\"data\":{\"x\":[-3,-4,-2,-6,-9,-8,-11,2,3,1,5,8,3,6,4,11,9],\"y\":[-1.5,-2.0,-1.0,-3.0,-4.5,-4.0,-5.5,1.0,1.5,0.5,2.5,4.0,1.5,3.0,2.0,5.5,4.5]},\"selected\":{\"id\":\"3094\",\"type\":\"Selection\"},\"selection_policy\":{\"id\":\"3093\",\"type\":\"UnionRenderers\"}},\"id\":\"3007\",\"type\":\"ColumnDataSource\"},{\"attributes\":{\"formatter\":{\"id\":\"3098\",\"type\":\"BasicTickFormatter\"},\"ticker\":{\"id\":\"3022\",\"type\":\"BasicTicker\"}},\"id\":\"3021\",\"type\":\"LinearAxis\"},{\"attributes\":{\"source\":{\"id\":\"3044\",\"type\":\"ColumnDataSource\"}},\"id\":\"3048\",\"type\":\"CDSView\"},{\"attributes\":{\"formatter\":{\"id\":\"3110\",\"type\":\"BasicTickFormatter\"},\"ticker\":{\"id\":\"3064\",\"type\":\"BasicTicker\"}},\"id\":\"3063\",\"type\":\"LinearAxis\"},{\"attributes\":{\"fill_alpha\":{\"value\":0.4},\"fill_color\":{\"value\":\"green\"},\"line_alpha\":{\"value\":0.4},\"line_color\":{\"value\":\"green\"},\"size\":{\"units\":\"screen\",\"value\":13},\"x\":{\"field\":\"x\"},\"y\":{\"field\":\"y\"}},\"id\":\"3008\",\"type\":\"Circle\"},{\"attributes\":{},\"id\":\"3068\",\"type\":\"PanTool\"},{\"attributes\":{\"formatter\":{\"id\":\"3088\",\"type\":\"BasicTickFormatter\"},\"ticker\":{\"id\":\"2985\",\"type\":\"BasicTicker\"}},\"id\":\"2984\",\"type\":\"LinearAxis\"},{\"attributes\":{\"callback\":null,\"data\":{\"x\":[-3,-4,-2,-6,-9,-8,-11,2,3,1,5,8,3,6,4,11,9],\"y\":[9,16,4,36,81,64,121,4,9,1,25,64,9,36,16,121,81]},\"selected\":{\"id\":\"3104\",\"type\":\"Selection\"},\"selection_policy\":{\"id\":\"3103\",\"type\":\"UnionRenderers\"}},\"id\":\"3044\",\"type\":\"ColumnDataSource\"},{\"attributes\":{\"callback\":null},\"id\":\"2976\",\"type\":\"DataRange1d\"},{\"attributes\":{\"callback\":null},\"id\":\"2978\",\"type\":\"DataRange1d\"},{\"attributes\":{\"fill_alpha\":{\"value\":0.1},\"fill_color\":{\"value\":\"#1f77b4\"},\"line_alpha\":{\"value\":0.1},\"line_color\":{\"value\":\"#1f77b4\"},\"size\":{\"units\":\"screen\",\"value\":13},\"x\":{\"field\":\"x\"},\"y\":{\"field\":\"y\"}},\"id\":\"3046\",\"type\":\"Diamond\"},{\"attributes\":{\"callback\":null},\"id\":\"3013\",\"type\":\"DataRange1d\"},{\"attributes\":{},\"id\":\"2980\",\"type\":\"LinearScale\"},{\"attributes\":{\"callback\":null},\"id\":\"3050\",\"type\":\"DataRange1d\"},{\"attributes\":{\"callback\":null},\"id\":\"3015\",\"type\":\"DataRange1d\"},{\"attributes\":{},\"id\":\"3069\",\"type\":\"WheelZoomTool\"},{\"attributes\":{},\"id\":\"2982\",\"type\":\"LinearScale\"},{\"attributes\":{\"callback\":null},\"id\":\"3052\",\"type\":\"DataRange1d\"},{\"attributes\":{\"ticker\":{\"id\":\"2985\",\"type\":\"BasicTicker\"}},\"id\":\"2988\",\"type\":\"Grid\"},{\"attributes\":{},\"id\":\"3017\",\"type\":\"LinearScale\"},{\"attributes\":{},\"id\":\"3019\",\"type\":\"LinearScale\"},{\"attributes\":{},\"id\":\"3054\",\"type\":\"LinearScale\"},{\"attributes\":{},\"id\":\"2985\",\"type\":\"BasicTicker\"},{\"attributes\":{\"formatter\":{\"id\":\"3090\",\"type\":\"BasicTickFormatter\"},\"ticker\":{\"id\":\"2990\",\"type\":\"BasicTicker\"}},\"id\":\"2989\",\"type\":\"LinearAxis\"},{\"attributes\":{\"ticker\":{\"id\":\"3022\",\"type\":\"BasicTicker\"}},\"id\":\"3025\",\"type\":\"Grid\"},{\"attributes\":{},\"id\":\"3056\",\"type\":\"LinearScale\"},{\"attributes\":{\"dimension\":1,\"ticker\":{\"id\":\"2990\",\"type\":\"BasicTicker\"}},\"id\":\"2993\",\"type\":\"Grid\"},{\"attributes\":{},\"id\":\"3022\",\"type\":\"BasicTicker\"},{\"attributes\":{\"formatter\":{\"id\":\"3100\",\"type\":\"BasicTickFormatter\"},\"ticker\":{\"id\":\"3027\",\"type\":\"BasicTicker\"}},\"id\":\"3026\",\"type\":\"LinearAxis\"},{\"attributes\":{},\"id\":\"2990\",\"type\":\"BasicTicker\"},{\"attributes\":{\"overlay\":{\"id\":\"3112\",\"type\":\"BoxAnnotation\"}},\"id\":\"3070\",\"type\":\"BoxZoomTool\"},{\"attributes\":{\"dimension\":1,\"ticker\":{\"id\":\"3027\",\"type\":\"BasicTicker\"}},\"id\":\"3030\",\"type\":\"Grid\"},{\"attributes\":{},\"id\":\"3071\",\"type\":\"SaveTool\"},{\"attributes\":{\"callback\":null,\"data\":{\"x\":[-3,-4,-2,-6,-9,-8,-11,2,3,1,5,8,3,6,4,11,9],\"y\":[-27,-64,-8,-216,-729,-512,-1331,8,27,1,125,512,27,216,64,1331,729]},\"selected\":{\"id\":\"3114\",\"type\":\"Selection\"},\"selection_policy\":{\"id\":\"3113\",\"type\":\"UnionRenderers\"}},\"id\":\"3081\",\"type\":\"ColumnDataSource\"},{\"attributes\":{},\"id\":\"3072\",\"type\":\"ResetTool\"},{\"attributes\":{\"fill_alpha\":{\"value\":0.1},\"fill_color\":{\"value\":\"#1f77b4\"},\"line_alpha\":{\"value\":0.1},\"line_color\":{\"value\":\"#1f77b4\"},\"size\":{\"units\":\"screen\",\"value\":13},\"x\":{\"field\":\"x\"},\"y\":{\"field\":\"y\"}},\"id\":\"3009\",\"type\":\"Circle\"},{\"attributes\":{},\"id\":\"3027\",\"type\":\"BasicTicker\"},{\"attributes\":{\"text\":\"\"},\"id\":\"3087\",\"type\":\"Title\"},{\"attributes\":{},\"id\":\"3073\",\"type\":\"HelpTool\"},{\"attributes\":{\"active_drag\":\"auto\",\"active_inspect\":\"auto\",\"active_multi\":null,\"active_scroll\":\"auto\",\"active_tap\":\"auto\",\"tools\":[{\"id\":\"3068\",\"type\":\"PanTool\"},{\"id\":\"3069\",\"type\":\"WheelZoomTool\"},{\"id\":\"3070\",\"type\":\"BoxZoomTool\"},{\"id\":\"3071\",\"type\":\"SaveTool\"},{\"id\":\"3072\",\"type\":\"ResetTool\"},{\"id\":\"3073\",\"type\":\"HelpTool\"}]},\"id\":\"3074\",\"type\":\"Toolbar\"},{\"attributes\":{\"fill_alpha\":{\"value\":0.1},\"fill_color\":{\"value\":\"#1f77b4\"},\"line_alpha\":{\"value\":0.1},\"line_color\":{\"value\":\"#1f77b4\"},\"size\":{\"units\":\"screen\",\"value\":13},\"x\":{\"field\":\"x\"},\"y\":{\"field\":\"y\"}},\"id\":\"3083\",\"type\":\"Square\"},{\"attributes\":{\"formatter\":{\"id\":\"3108\",\"type\":\"BasicTickFormatter\"},\"ticker\":{\"id\":\"3059\",\"type\":\"BasicTicker\"}},\"id\":\"3058\",\"type\":\"LinearAxis\"},{\"attributes\":{\"source\":{\"id\":\"3007\",\"type\":\"ColumnDataSource\"}},\"id\":\"3011\",\"type\":\"CDSView\"},{\"attributes\":{},\"id\":\"2994\",\"type\":\"PanTool\"},{\"attributes\":{},\"id\":\"3088\",\"type\":\"BasicTickFormatter\"},{\"attributes\":{\"fill_alpha\":{\"value\":0.6},\"fill_color\":{\"value\":\"red\"},\"line_alpha\":{\"value\":0.6},\"line_color\":{\"value\":\"red\"},\"size\":{\"units\":\"screen\",\"value\":13},\"x\":{\"field\":\"x\"},\"y\":{\"field\":\"y\"}},\"id\":\"3045\",\"type\":\"Diamond\"},{\"attributes\":{\"source\":{\"id\":\"3081\",\"type\":\"ColumnDataSource\"}},\"id\":\"3085\",\"type\":\"CDSView\"},{\"attributes\":{\"below\":[{\"id\":\"3058\",\"type\":\"LinearAxis\"}],\"center\":[{\"id\":\"3062\",\"type\":\"Grid\"},{\"id\":\"3067\",\"type\":\"Grid\"}],\"left\":[{\"id\":\"3063\",\"type\":\"LinearAxis\"}],\"plot_height\":250,\"plot_width\":275,\"renderers\":[{\"id\":\"3084\",\"type\":\"GlyphRenderer\"}],\"title\":{\"id\":\"3107\",\"type\":\"Title\"},\"toolbar\":{\"id\":\"3074\",\"type\":\"Toolbar\"},\"toolbar_location\":null,\"x_range\":{\"id\":\"3050\",\"type\":\"DataRange1d\"},\"x_scale\":{\"id\":\"3054\",\"type\":\"LinearScale\"},\"y_range\":{\"id\":\"3052\",\"type\":\"DataRange1d\"},\"y_scale\":{\"id\":\"3056\",\"type\":\"LinearScale\"}},\"id\":\"3049\",\"subtype\":\"Figure\",\"type\":\"Plot\"},{\"attributes\":{\"data_source\":{\"id\":\"3044\",\"type\":\"ColumnDataSource\"},\"glyph\":{\"id\":\"3045\",\"type\":\"Diamond\"},\"hover_glyph\":null,\"muted_glyph\":null,\"nonselection_glyph\":{\"id\":\"3046\",\"type\":\"Diamond\"},\"selection_glyph\":null,\"view\":{\"id\":\"3048\",\"type\":\"CDSView\"}},\"id\":\"3047\",\"type\":\"GlyphRenderer\"},{\"attributes\":{},\"id\":\"3031\",\"type\":\"PanTool\"},{\"attributes\":{},\"id\":\"3090\",\"type\":\"BasicTickFormatter\"},{\"attributes\":{},\"id\":\"2995\",\"type\":\"WheelZoomTool\"},{\"attributes\":{\"overlay\":{\"id\":\"3092\",\"type\":\"BoxAnnotation\"}},\"id\":\"2996\",\"type\":\"BoxZoomTool\"},{\"attributes\":{},\"id\":\"3093\",\"type\":\"UnionRenderers\"},{\"attributes\":{},\"id\":\"2997\",\"type\":\"SaveTool\"},{\"attributes\":{},\"id\":\"3032\",\"type\":\"WheelZoomTool\"},{\"attributes\":{},\"id\":\"2998\",\"type\":\"ResetTool\"},{\"attributes\":{\"bottom_units\":\"screen\",\"fill_alpha\":{\"value\":0.5},\"fill_color\":{\"value\":\"lightgrey\"},\"left_units\":\"screen\",\"level\":\"overlay\",\"line_alpha\":{\"value\":1.0},\"line_color\":{\"value\":\"black\"},\"line_dash\":[4,4],\"line_width\":{\"value\":2},\"render_mode\":\"css\",\"right_units\":\"screen\",\"top_units\":\"screen\"},\"id\":\"3092\",\"type\":\"BoxAnnotation\"},{\"attributes\":{\"overlay\":{\"id\":\"3102\",\"type\":\"BoxAnnotation\"}},\"id\":\"3033\",\"type\":\"BoxZoomTool\"},{\"attributes\":{\"text\":\"\"},\"id\":\"3097\",\"type\":\"Title\"},{\"attributes\":{},\"id\":\"3094\",\"type\":\"Selection\"},{\"attributes\":{},\"id\":\"2999\",\"type\":\"HelpTool\"},{\"attributes\":{},\"id\":\"3034\",\"type\":\"SaveTool\"},{\"attributes\":{},\"id\":\"3035\",\"type\":\"ResetTool\"},{\"attributes\":{},\"id\":\"3100\",\"type\":\"BasicTickFormatter\"},{\"attributes\":{},\"id\":\"3098\",\"type\":\"BasicTickFormatter\"},{\"attributes\":{},\"id\":\"3036\",\"type\":\"HelpTool\"},{\"attributes\":{\"active_drag\":\"auto\",\"active_inspect\":\"auto\",\"active_multi\":null,\"active_scroll\":\"auto\",\"active_tap\":\"auto\",\"tools\":[{\"id\":\"2994\",\"type\":\"PanTool\"},{\"id\":\"2995\",\"type\":\"WheelZoomTool\"},{\"id\":\"2996\",\"type\":\"BoxZoomTool\"},{\"id\":\"2997\",\"type\":\"SaveTool\"},{\"id\":\"2998\",\"type\":\"ResetTool\"},{\"id\":\"2999\",\"type\":\"HelpTool\"}]},\"id\":\"3000\",\"type\":\"Toolbar\"},{\"attributes\":{},\"id\":\"3103\",\"type\":\"UnionRenderers\"},{\"attributes\":{\"bottom_units\":\"screen\",\"fill_alpha\":{\"value\":0.5},\"fill_color\":{\"value\":\"lightgrey\"},\"left_units\":\"screen\",\"level\":\"overlay\",\"line_alpha\":{\"value\":1.0},\"line_color\":{\"value\":\"black\"},\"line_dash\":[4,4],\"line_width\":{\"value\":2},\"render_mode\":\"css\",\"right_units\":\"screen\",\"top_units\":\"screen\"},\"id\":\"3102\",\"type\":\"BoxAnnotation\"},{\"attributes\":{\"active_drag\":\"auto\",\"active_inspect\":\"auto\",\"active_multi\":null,\"active_scroll\":\"auto\",\"active_tap\":\"auto\",\"tools\":[{\"id\":\"3031\",\"type\":\"PanTool\"},{\"id\":\"3032\",\"type\":\"WheelZoomTool\"},{\"id\":\"3033\",\"type\":\"BoxZoomTool\"},{\"id\":\"3034\",\"type\":\"SaveTool\"},{\"id\":\"3035\",\"type\":\"ResetTool\"},{\"id\":\"3036\",\"type\":\"HelpTool\"}]},\"id\":\"3037\",\"type\":\"Toolbar\"},{\"attributes\":{},\"id\":\"3104\",\"type\":\"Selection\"},{\"attributes\":{},\"id\":\"3108\",\"type\":\"BasicTickFormatter\"},{\"attributes\":{\"text\":\"\"},\"id\":\"3107\",\"type\":\"Title\"},{\"attributes\":{},\"id\":\"3110\",\"type\":\"BasicTickFormatter\"},{\"attributes\":{\"bottom_units\":\"screen\",\"fill_alpha\":{\"value\":0.5},\"fill_color\":{\"value\":\"lightgrey\"},\"left_units\":\"screen\",\"level\":\"overlay\",\"line_alpha\":{\"value\":1.0},\"line_color\":{\"value\":\"black\"},\"line_dash\":[4,4],\"line_width\":{\"value\":2},\"render_mode\":\"css\",\"right_units\":\"screen\",\"top_units\":\"screen\"},\"id\":\"3112\",\"type\":\"BoxAnnotation\"}],\"root_ids\":[\"3119\"]},\"title\":\"Bokeh Application\",\"version\":\"1.3.4\"}};\n",
       "  var render_items = [{\"docid\":\"f3182e2f-f9a4-436b-969c-215c96892bbf\",\"roots\":{\"3119\":\"b6ba21aa-e405-4f17-9d16-8254936c3ead\"}}];\n",
       "  root.Bokeh.embed.embed_items_notebook(docs_json, render_items);\n",
       "\n",
       "  }\n",
       "  if (root.Bokeh !== undefined) {\n",
       "    embed_document(root);\n",
       "  } else {\n",
       "    var attempts = 0;\n",
       "    var timer = setInterval(function(root) {\n",
       "      if (root.Bokeh !== undefined) {\n",
       "        embed_document(root);\n",
       "        clearInterval(timer);\n",
       "      }\n",
       "      attempts++;\n",
       "      if (attempts > 100) {\n",
       "        console.log(\"Bokeh: ERROR: Unable to run BokehJS code because BokehJS library is missing\");\n",
       "        clearInterval(timer);\n",
       "      }\n",
       "    }, 10, root)\n",
       "  }\n",
       "})(window);"
      ],
      "application/vnd.bokehjs_exec.v0+json": ""
     },
     "metadata": {
      "application/vnd.bokehjs_exec.v0+json": {
       "id": "3119"
      }
     },
     "output_type": "display_data"
    }
   ],
   "source": [
    "p1 = figure(plot_width=275, plot_height=250)\n",
    "p1.circle(x, y0, size=13, color='green', alpha=0.4)\n",
    "\n",
    "p2 = figure(plot_width=275, plot_height=250)\n",
    "p2.diamond(x, y1, size=13, color='red', alpha=0.6)\n",
    "\n",
    "p3 = figure(plot_width=275, plot_height=250)\n",
    "p3.square(x, y2, size=13, color='blue', alpha=0.9)\n",
    "\n",
    "p = gridplot([[p1,p2,p3]])\n",
    "\n",
    "show(p)"
   ]
  },
  {
   "cell_type": "code",
   "execution_count": 27,
   "metadata": {},
   "outputs": [
    {
     "data": {
      "text/html": [
       "\n",
       "\n",
       "\n",
       "\n",
       "\n",
       "\n",
       "  <div class=\"bk-root\" id=\"318015a8-f83a-4a88-afe5-b2a6f80a935d\" data-root-id=\"3521\"></div>\n"
      ]
     },
     "metadata": {},
     "output_type": "display_data"
    },
    {
     "data": {
      "application/javascript": [
       "(function(root) {\n",
       "  function embed_document(root) {\n",
       "    \n",
       "  var docs_json = {\"ece2447a-3a82-409a-b56b-59904a8bf358\":{\"roots\":{\"references\":[{\"attributes\":{\"children\":[[{\"id\":\"3380\",\"subtype\":\"Figure\",\"type\":\"Plot\"},0,0],[{\"id\":\"3417\",\"subtype\":\"Figure\",\"type\":\"Plot\"},0,1],[{\"id\":\"3454\",\"subtype\":\"Figure\",\"type\":\"Plot\"},0,2]]},\"id\":\"3521\",\"type\":\"GridBox\"},{\"attributes\":{\"callback\":null,\"data\":{\"x\":[-3,-4,-2,-6,-9,-8,-11,2,3,1,5,8,3,6,4,11,9],\"y\":[9,16,4,36,81,64,121,4,9,1,25,64,9,36,16,121,81]},\"selected\":{\"id\":\"3509\",\"type\":\"Selection\"},\"selection_policy\":{\"id\":\"3508\",\"type\":\"UnionRenderers\"}},\"id\":\"3449\",\"type\":\"ColumnDataSource\"},{\"attributes\":{\"data_source\":{\"id\":\"3412\",\"type\":\"ColumnDataSource\"},\"glyph\":{\"id\":\"3413\",\"type\":\"Circle\"},\"hover_glyph\":null,\"muted_glyph\":null,\"nonselection_glyph\":{\"id\":\"3414\",\"type\":\"Circle\"},\"selection_glyph\":null,\"view\":{\"id\":\"3416\",\"type\":\"CDSView\"}},\"id\":\"3415\",\"type\":\"GlyphRenderer\"},{\"attributes\":{\"source\":{\"id\":\"3412\",\"type\":\"ColumnDataSource\"}},\"id\":\"3416\",\"type\":\"CDSView\"},{\"attributes\":{},\"id\":\"3402\",\"type\":\"SaveTool\"},{\"attributes\":{},\"id\":\"3422\",\"type\":\"LinearScale\"},{\"attributes\":{\"callback\":null,\"data\":{\"x\":[-3,-4,-2,-6,-9,-8,-11,2,3,1,5,8,3,6,4,11,9],\"y\":[-1.5,-2.0,-1.0,-3.0,-4.5,-4.0,-5.5,1.0,1.5,0.5,2.5,4.0,1.5,3.0,2.0,5.5,4.5]},\"selected\":{\"id\":\"3499\",\"type\":\"Selection\"},\"selection_policy\":{\"id\":\"3498\",\"type\":\"UnionRenderers\"}},\"id\":\"3412\",\"type\":\"ColumnDataSource\"},{\"attributes\":{\"callback\":null},\"id\":\"3383\",\"type\":\"DataRange1d\"},{\"attributes\":{\"callback\":null},\"id\":\"3420\",\"type\":\"DataRange1d\"},{\"attributes\":{\"fill_alpha\":{\"value\":0.4},\"fill_color\":{\"value\":\"white\"},\"line_alpha\":{\"value\":0.4},\"line_color\":{\"value\":\"green\"},\"size\":{\"units\":\"screen\",\"value\":13},\"x\":{\"field\":\"x\"},\"y\":{\"field\":\"y\"}},\"id\":\"3413\",\"type\":\"Circle\"},{\"attributes\":{\"below\":[{\"id\":\"3389\",\"type\":\"LinearAxis\"}],\"center\":[{\"id\":\"3393\",\"type\":\"Grid\"},{\"id\":\"3398\",\"type\":\"Grid\"}],\"left\":[{\"id\":\"3394\",\"type\":\"LinearAxis\"}],\"plot_height\":250,\"plot_width\":255,\"renderers\":[{\"id\":\"3415\",\"type\":\"GlyphRenderer\"}],\"title\":{\"id\":\"3492\",\"type\":\"Title\"},\"toolbar\":{\"id\":\"3405\",\"type\":\"Toolbar\"},\"toolbar_location\":null,\"x_range\":{\"id\":\"3381\",\"type\":\"DataRange1d\"},\"x_scale\":{\"id\":\"3385\",\"type\":\"LinearScale\"},\"y_range\":{\"id\":\"3383\",\"type\":\"DataRange1d\"},\"y_scale\":{\"id\":\"3387\",\"type\":\"LinearScale\"}},\"id\":\"3380\",\"subtype\":\"Figure\",\"type\":\"Plot\"},{\"attributes\":{\"callback\":null},\"id\":\"3418\",\"type\":\"DataRange1d\"},{\"attributes\":{\"data_source\":{\"id\":\"3449\",\"type\":\"ColumnDataSource\"},\"glyph\":{\"id\":\"3450\",\"type\":\"Diamond\"},\"hover_glyph\":null,\"muted_glyph\":null,\"nonselection_glyph\":{\"id\":\"3451\",\"type\":\"Diamond\"},\"selection_glyph\":null,\"view\":{\"id\":\"3453\",\"type\":\"CDSView\"}},\"id\":\"3452\",\"type\":\"GlyphRenderer\"},{\"attributes\":{\"dimension\":1,\"ticker\":{\"id\":\"3469\",\"type\":\"BasicTicker\"}},\"id\":\"3472\",\"type\":\"Grid\"},{\"attributes\":{\"callback\":null},\"id\":\"3381\",\"type\":\"DataRange1d\"},{\"attributes\":{\"formatter\":{\"id\":\"3493\",\"type\":\"BasicTickFormatter\"},\"ticker\":{\"id\":\"3390\",\"type\":\"BasicTicker\"}},\"id\":\"3389\",\"type\":\"LinearAxis\"},{\"attributes\":{\"active_drag\":\"auto\",\"active_inspect\":\"auto\",\"active_multi\":null,\"active_scroll\":\"auto\",\"active_tap\":\"auto\",\"tools\":[{\"id\":\"3399\",\"type\":\"PanTool\"},{\"id\":\"3400\",\"type\":\"WheelZoomTool\"},{\"id\":\"3401\",\"type\":\"BoxZoomTool\"},{\"id\":\"3402\",\"type\":\"SaveTool\"},{\"id\":\"3403\",\"type\":\"ResetTool\"},{\"id\":\"3404\",\"type\":\"HelpTool\"}]},\"id\":\"3405\",\"type\":\"Toolbar\"},{\"attributes\":{},\"id\":\"3395\",\"type\":\"BasicTicker\"},{\"attributes\":{\"fill_alpha\":{\"value\":0.1},\"fill_color\":{\"value\":\"#1f77b4\"},\"line_alpha\":{\"value\":0.1},\"line_color\":{\"value\":\"#1f77b4\"},\"size\":{\"units\":\"screen\",\"value\":13},\"x\":{\"field\":\"x\"},\"y\":{\"field\":\"y\"}},\"id\":\"3451\",\"type\":\"Diamond\"},{\"attributes\":{\"dimension\":1,\"ticker\":{\"id\":\"3395\",\"type\":\"BasicTicker\"}},\"id\":\"3398\",\"type\":\"Grid\"},{\"attributes\":{\"formatter\":{\"id\":\"3503\",\"type\":\"BasicTickFormatter\"},\"ticker\":{\"id\":\"3427\",\"type\":\"BasicTicker\"}},\"id\":\"3426\",\"type\":\"LinearAxis\"},{\"attributes\":{\"formatter\":{\"id\":\"3495\",\"type\":\"BasicTickFormatter\"},\"ticker\":{\"id\":\"3395\",\"type\":\"BasicTicker\"}},\"id\":\"3394\",\"type\":\"LinearAxis\"},{\"attributes\":{},\"id\":\"3424\",\"type\":\"LinearScale\"},{\"attributes\":{\"ticker\":{\"id\":\"3427\",\"type\":\"BasicTicker\"}},\"id\":\"3430\",\"type\":\"Grid\"},{\"attributes\":{},\"id\":\"3390\",\"type\":\"BasicTicker\"},{\"attributes\":{},\"id\":\"3469\",\"type\":\"BasicTicker\"},{\"attributes\":{},\"id\":\"3387\",\"type\":\"LinearScale\"},{\"attributes\":{},\"id\":\"3439\",\"type\":\"SaveTool\"},{\"attributes\":{\"ticker\":{\"id\":\"3390\",\"type\":\"BasicTicker\"}},\"id\":\"3393\",\"type\":\"Grid\"},{\"attributes\":{},\"id\":\"3440\",\"type\":\"ResetTool\"},{\"attributes\":{\"formatter\":{\"id\":\"3515\",\"type\":\"BasicTickFormatter\"},\"ticker\":{\"id\":\"3469\",\"type\":\"BasicTicker\"}},\"id\":\"3468\",\"type\":\"LinearAxis\"},{\"attributes\":{},\"id\":\"3427\",\"type\":\"BasicTicker\"},{\"attributes\":{},\"id\":\"3385\",\"type\":\"LinearScale\"},{\"attributes\":{},\"id\":\"3437\",\"type\":\"WheelZoomTool\"},{\"attributes\":{\"formatter\":{\"id\":\"3505\",\"type\":\"BasicTickFormatter\"},\"ticker\":{\"id\":\"3432\",\"type\":\"BasicTicker\"}},\"id\":\"3431\",\"type\":\"LinearAxis\"},{\"attributes\":{\"bottom_units\":\"screen\",\"fill_alpha\":{\"value\":0.5},\"fill_color\":{\"value\":\"lightgrey\"},\"left_units\":\"screen\",\"level\":\"overlay\",\"line_alpha\":{\"value\":1.0},\"line_color\":{\"value\":\"black\"},\"line_dash\":[4,4],\"line_width\":{\"value\":2},\"render_mode\":\"css\",\"right_units\":\"screen\",\"top_units\":\"screen\"},\"id\":\"3507\",\"type\":\"BoxAnnotation\"},{\"attributes\":{\"dimension\":1,\"ticker\":{\"id\":\"3432\",\"type\":\"BasicTicker\"}},\"id\":\"3435\",\"type\":\"Grid\"},{\"attributes\":{\"callback\":null,\"data\":{\"x\":[-3,-4,-2,-6,-9,-8,-11,2,3,1,5,8,3,6,4,11,9],\"y\":[-27,-64,-8,-216,-729,-512,-1331,8,27,1,125,512,27,216,64,1331,729]},\"selected\":{\"id\":\"3519\",\"type\":\"Selection\"},\"selection_policy\":{\"id\":\"3518\",\"type\":\"UnionRenderers\"}},\"id\":\"3486\",\"type\":\"ColumnDataSource\"},{\"attributes\":{\"active_drag\":\"auto\",\"active_inspect\":\"auto\",\"active_multi\":null,\"active_scroll\":\"auto\",\"active_tap\":\"auto\",\"tools\":[{\"id\":\"3473\",\"type\":\"PanTool\"},{\"id\":\"3474\",\"type\":\"WheelZoomTool\"},{\"id\":\"3475\",\"type\":\"BoxZoomTool\"},{\"id\":\"3476\",\"type\":\"SaveTool\"},{\"id\":\"3477\",\"type\":\"ResetTool\"},{\"id\":\"3478\",\"type\":\"HelpTool\"}]},\"id\":\"3479\",\"type\":\"Toolbar\"},{\"attributes\":{},\"id\":\"3432\",\"type\":\"BasicTicker\"},{\"attributes\":{\"overlay\":{\"id\":\"3507\",\"type\":\"BoxAnnotation\"}},\"id\":\"3438\",\"type\":\"BoxZoomTool\"},{\"attributes\":{\"below\":[{\"id\":\"3426\",\"type\":\"LinearAxis\"}],\"center\":[{\"id\":\"3430\",\"type\":\"Grid\"},{\"id\":\"3435\",\"type\":\"Grid\"}],\"left\":[{\"id\":\"3431\",\"type\":\"LinearAxis\"}],\"plot_height\":250,\"plot_width\":255,\"renderers\":[{\"id\":\"3452\",\"type\":\"GlyphRenderer\"}],\"title\":{\"id\":\"3502\",\"type\":\"Title\"},\"toolbar\":{\"id\":\"3442\",\"type\":\"Toolbar\"},\"toolbar_location\":null,\"x_range\":{\"id\":\"3418\",\"type\":\"DataRange1d\"},\"x_scale\":{\"id\":\"3422\",\"type\":\"LinearScale\"},\"y_range\":{\"id\":\"3420\",\"type\":\"DataRange1d\"},\"y_scale\":{\"id\":\"3424\",\"type\":\"LinearScale\"}},\"id\":\"3417\",\"subtype\":\"Figure\",\"type\":\"Plot\"},{\"attributes\":{\"callback\":null},\"id\":\"3457\",\"type\":\"DataRange1d\"},{\"attributes\":{\"below\":[{\"id\":\"3463\",\"type\":\"LinearAxis\"}],\"center\":[{\"id\":\"3467\",\"type\":\"Grid\"},{\"id\":\"3472\",\"type\":\"Grid\"}],\"left\":[{\"id\":\"3468\",\"type\":\"LinearAxis\"}],\"plot_height\":250,\"plot_width\":255,\"renderers\":[{\"id\":\"3489\",\"type\":\"GlyphRenderer\"}],\"title\":{\"id\":\"3512\",\"type\":\"Title\"},\"toolbar\":{\"id\":\"3479\",\"type\":\"Toolbar\"},\"toolbar_location\":null,\"x_range\":{\"id\":\"3455\",\"type\":\"DataRange1d\"},\"x_scale\":{\"id\":\"3459\",\"type\":\"LinearScale\"},\"y_range\":{\"id\":\"3457\",\"type\":\"DataRange1d\"},\"y_scale\":{\"id\":\"3461\",\"type\":\"LinearScale\"}},\"id\":\"3454\",\"subtype\":\"Figure\",\"type\":\"Plot\"},{\"attributes\":{\"fill_alpha\":{\"value\":0.1},\"fill_color\":{\"value\":\"#1f77b4\"},\"line_alpha\":{\"value\":0.1},\"line_color\":{\"value\":\"#1f77b4\"},\"size\":{\"units\":\"screen\",\"value\":13},\"x\":{\"field\":\"x\"},\"y\":{\"field\":\"y\"}},\"id\":\"3414\",\"type\":\"Circle\"},{\"attributes\":{},\"id\":\"3399\",\"type\":\"PanTool\"},{\"attributes\":{\"overlay\":{\"id\":\"3497\",\"type\":\"BoxAnnotation\"}},\"id\":\"3401\",\"type\":\"BoxZoomTool\"},{\"attributes\":{\"fill_alpha\":{\"value\":0.6},\"line_alpha\":{\"value\":0.6},\"line_color\":{\"value\":\"red\"},\"size\":{\"units\":\"screen\",\"value\":13},\"x\":{\"field\":\"x\"},\"y\":{\"field\":\"y\"}},\"id\":\"3450\",\"type\":\"Diamond\"},{\"attributes\":{},\"id\":\"3404\",\"type\":\"HelpTool\"},{\"attributes\":{},\"id\":\"3403\",\"type\":\"ResetTool\"},{\"attributes\":{},\"id\":\"3436\",\"type\":\"PanTool\"},{\"attributes\":{},\"id\":\"3400\",\"type\":\"WheelZoomTool\"},{\"attributes\":{},\"id\":\"3441\",\"type\":\"HelpTool\"},{\"attributes\":{},\"id\":\"3509\",\"type\":\"Selection\"},{\"attributes\":{},\"id\":\"3513\",\"type\":\"BasicTickFormatter\"},{\"attributes\":{},\"id\":\"3461\",\"type\":\"LinearScale\"},{\"attributes\":{\"text\":\"\"},\"id\":\"3512\",\"type\":\"Title\"},{\"attributes\":{},\"id\":\"3474\",\"type\":\"WheelZoomTool\"},{\"attributes\":{\"active_drag\":\"auto\",\"active_inspect\":\"auto\",\"active_multi\":null,\"active_scroll\":\"auto\",\"active_tap\":\"auto\",\"tools\":[{\"id\":\"3436\",\"type\":\"PanTool\"},{\"id\":\"3437\",\"type\":\"WheelZoomTool\"},{\"id\":\"3438\",\"type\":\"BoxZoomTool\"},{\"id\":\"3439\",\"type\":\"SaveTool\"},{\"id\":\"3440\",\"type\":\"ResetTool\"},{\"id\":\"3441\",\"type\":\"HelpTool\"}]},\"id\":\"3442\",\"type\":\"Toolbar\"},{\"attributes\":{},\"id\":\"3515\",\"type\":\"BasicTickFormatter\"},{\"attributes\":{},\"id\":\"3518\",\"type\":\"UnionRenderers\"},{\"attributes\":{},\"id\":\"3519\",\"type\":\"Selection\"},{\"attributes\":{},\"id\":\"3464\",\"type\":\"BasicTicker\"},{\"attributes\":{\"data_source\":{\"id\":\"3486\",\"type\":\"ColumnDataSource\"},\"glyph\":{\"id\":\"3487\",\"type\":\"Square\"},\"hover_glyph\":null,\"muted_glyph\":null,\"nonselection_glyph\":{\"id\":\"3488\",\"type\":\"Square\"},\"selection_glyph\":null,\"view\":{\"id\":\"3490\",\"type\":\"CDSView\"}},\"id\":\"3489\",\"type\":\"GlyphRenderer\"},{\"attributes\":{\"formatter\":{\"id\":\"3513\",\"type\":\"BasicTickFormatter\"},\"ticker\":{\"id\":\"3464\",\"type\":\"BasicTicker\"}},\"id\":\"3463\",\"type\":\"LinearAxis\"},{\"attributes\":{\"source\":{\"id\":\"3449\",\"type\":\"ColumnDataSource\"}},\"id\":\"3453\",\"type\":\"CDSView\"},{\"attributes\":{},\"id\":\"3459\",\"type\":\"LinearScale\"},{\"attributes\":{\"callback\":null},\"id\":\"3455\",\"type\":\"DataRange1d\"},{\"attributes\":{},\"id\":\"3473\",\"type\":\"PanTool\"},{\"attributes\":{\"overlay\":{\"id\":\"3517\",\"type\":\"BoxAnnotation\"}},\"id\":\"3475\",\"type\":\"BoxZoomTool\"},{\"attributes\":{},\"id\":\"3476\",\"type\":\"SaveTool\"},{\"attributes\":{},\"id\":\"3477\",\"type\":\"ResetTool\"},{\"attributes\":{\"text\":\"\"},\"id\":\"3492\",\"type\":\"Title\"},{\"attributes\":{},\"id\":\"3478\",\"type\":\"HelpTool\"},{\"attributes\":{},\"id\":\"3493\",\"type\":\"BasicTickFormatter\"},{\"attributes\":{\"source\":{\"id\":\"3486\",\"type\":\"ColumnDataSource\"}},\"id\":\"3490\",\"type\":\"CDSView\"},{\"attributes\":{},\"id\":\"3495\",\"type\":\"BasicTickFormatter\"},{\"attributes\":{},\"id\":\"3498\",\"type\":\"UnionRenderers\"},{\"attributes\":{\"ticker\":{\"id\":\"3464\",\"type\":\"BasicTicker\"}},\"id\":\"3467\",\"type\":\"Grid\"},{\"attributes\":{\"bottom_units\":\"screen\",\"fill_alpha\":{\"value\":0.5},\"fill_color\":{\"value\":\"lightgrey\"},\"left_units\":\"screen\",\"level\":\"overlay\",\"line_alpha\":{\"value\":1.0},\"line_color\":{\"value\":\"black\"},\"line_dash\":[4,4],\"line_width\":{\"value\":2},\"render_mode\":\"css\",\"right_units\":\"screen\",\"top_units\":\"screen\"},\"id\":\"3497\",\"type\":\"BoxAnnotation\"},{\"attributes\":{},\"id\":\"3499\",\"type\":\"Selection\"},{\"attributes\":{},\"id\":\"3503\",\"type\":\"BasicTickFormatter\"},{\"attributes\":{\"text\":\"\"},\"id\":\"3502\",\"type\":\"Title\"},{\"attributes\":{},\"id\":\"3505\",\"type\":\"BasicTickFormatter\"},{\"attributes\":{\"fill_alpha\":{\"value\":0.9},\"fill_color\":{\"value\":\"yellow\"},\"line_alpha\":{\"value\":0.9},\"line_color\":{\"value\":\"blue\"},\"size\":{\"units\":\"screen\",\"value\":13},\"x\":{\"field\":\"x\"},\"y\":{\"field\":\"y\"}},\"id\":\"3487\",\"type\":\"Square\"},{\"attributes\":{\"bottom_units\":\"screen\",\"fill_alpha\":{\"value\":0.5},\"fill_color\":{\"value\":\"lightgrey\"},\"left_units\":\"screen\",\"level\":\"overlay\",\"line_alpha\":{\"value\":1.0},\"line_color\":{\"value\":\"black\"},\"line_dash\":[4,4],\"line_width\":{\"value\":2},\"render_mode\":\"css\",\"right_units\":\"screen\",\"top_units\":\"screen\"},\"id\":\"3517\",\"type\":\"BoxAnnotation\"},{\"attributes\":{},\"id\":\"3508\",\"type\":\"UnionRenderers\"},{\"attributes\":{\"fill_alpha\":{\"value\":0.1},\"fill_color\":{\"value\":\"#1f77b4\"},\"line_alpha\":{\"value\":0.1},\"line_color\":{\"value\":\"#1f77b4\"},\"size\":{\"units\":\"screen\",\"value\":13},\"x\":{\"field\":\"x\"},\"y\":{\"field\":\"y\"}},\"id\":\"3488\",\"type\":\"Square\"}],\"root_ids\":[\"3521\"]},\"title\":\"Bokeh Application\",\"version\":\"1.3.4\"}};\n",
       "  var render_items = [{\"docid\":\"ece2447a-3a82-409a-b56b-59904a8bf358\",\"roots\":{\"3521\":\"318015a8-f83a-4a88-afe5-b2a6f80a935d\"}}];\n",
       "  root.Bokeh.embed.embed_items_notebook(docs_json, render_items);\n",
       "\n",
       "  }\n",
       "  if (root.Bokeh !== undefined) {\n",
       "    embed_document(root);\n",
       "  } else {\n",
       "    var attempts = 0;\n",
       "    var timer = setInterval(function(root) {\n",
       "      if (root.Bokeh !== undefined) {\n",
       "        embed_document(root);\n",
       "        clearInterval(timer);\n",
       "      }\n",
       "      attempts++;\n",
       "      if (attempts > 100) {\n",
       "        console.log(\"Bokeh: ERROR: Unable to run BokehJS code because BokehJS library is missing\");\n",
       "        clearInterval(timer);\n",
       "      }\n",
       "    }, 10, root)\n",
       "  }\n",
       "})(window);"
      ],
      "application/vnd.bokehjs_exec.v0+json": ""
     },
     "metadata": {
      "application/vnd.bokehjs_exec.v0+json": {
       "id": "3521"
      }
     },
     "output_type": "display_data"
    }
   ],
   "source": [
    "p1 = figure(plot_width=255, plot_height=250)\n",
    "p1.circle(x, y0, size=13, color='green',fill_color='white', alpha=0.4)\n",
    "\n",
    "p2 = figure(plot_width=255, plot_height=250)\n",
    "p2.diamond(x, y1, size=13, color='red', fill_color='gray', alpha=0.6)\n",
    "\n",
    "p3 = figure(plot_width=255, plot_height=250)\n",
    "p3.square(x, y2, size=13, color='blue', fill_color='yellow', alpha=0.9)\n",
    "\n",
    "p = gridplot([[p1,p2,p3]], toolbar_location=None)\n",
    "\n",
    "show(p)"
   ]
  },
  {
   "cell_type": "code",
   "execution_count": 28,
   "metadata": {},
   "outputs": [],
   "source": [
    "from bokeh.layouts import gridplot"
   ]
  },
  {
   "cell_type": "code",
   "execution_count": 29,
   "metadata": {},
   "outputs": [],
   "source": [
    "x = [-3,-4,-2,-6,-9,-8,-11,2,3,1,5,8,3,6,4,11,9]"
   ]
  },
  {
   "cell_type": "code",
   "execution_count": 30,
   "metadata": {},
   "outputs": [],
   "source": [
    "y0 = [i*0.5 for i in x]\n",
    "y1 = [i**2 for i in x]\n",
    "y2 = [i**3 for i in x]"
   ]
  },
  {
   "cell_type": "code",
   "execution_count": 31,
   "metadata": {},
   "outputs": [
    {
     "data": {
      "text/html": [
       "\n",
       "\n",
       "\n",
       "\n",
       "\n",
       "\n",
       "  <div class=\"bk-root\" id=\"f1c65ce7-c479-477a-b717-6090f0545242\" data-root-id=\"3949\"></div>\n"
      ]
     },
     "metadata": {},
     "output_type": "display_data"
    },
    {
     "data": {
      "application/javascript": [
       "(function(root) {\n",
       "  function embed_document(root) {\n",
       "    \n",
       "  var docs_json = {\"07c60841-f816-40ec-aa18-7e887d9e362e\":{\"roots\":{\"references\":[{\"attributes\":{\"children\":[{\"id\":\"3948\",\"type\":\"ToolbarBox\"},{\"id\":\"3946\",\"type\":\"GridBox\"}]},\"id\":\"3949\",\"type\":\"Column\"},{\"attributes\":{},\"id\":\"3938\",\"type\":\"BasicTickFormatter\"},{\"attributes\":{},\"id\":\"3943\",\"type\":\"UnionRenderers\"},{\"attributes\":{},\"id\":\"3884\",\"type\":\"LinearScale\"},{\"attributes\":{\"bottom_units\":\"screen\",\"fill_alpha\":{\"value\":0.5},\"fill_color\":{\"value\":\"lightgrey\"},\"left_units\":\"screen\",\"level\":\"overlay\",\"line_alpha\":{\"value\":1.0},\"line_color\":{\"value\":\"black\"},\"line_dash\":[4,4],\"line_width\":{\"value\":2},\"render_mode\":\"css\",\"right_units\":\"screen\",\"top_units\":\"screen\"},\"id\":\"3942\",\"type\":\"BoxAnnotation\"},{\"attributes\":{},\"id\":\"3894\",\"type\":\"BasicTicker\"},{\"attributes\":{},\"id\":\"3944\",\"type\":\"Selection\"},{\"attributes\":{},\"id\":\"3886\",\"type\":\"LinearScale\"},{\"attributes\":{\"toolbar\":{\"id\":\"3947\",\"type\":\"ProxyToolbar\"},\"toolbar_location\":\"above\"},\"id\":\"3948\",\"type\":\"ToolbarBox\"},{\"attributes\":{\"tools\":[{\"id\":\"3828\",\"type\":\"PanTool\"},{\"id\":\"3829\",\"type\":\"WheelZoomTool\"},{\"id\":\"3830\",\"type\":\"BoxZoomTool\"},{\"id\":\"3831\",\"type\":\"SaveTool\"},{\"id\":\"3832\",\"type\":\"ResetTool\"},{\"id\":\"3833\",\"type\":\"HelpTool\"},{\"id\":\"3863\",\"type\":\"PanTool\"},{\"id\":\"3864\",\"type\":\"WheelZoomTool\"},{\"id\":\"3865\",\"type\":\"BoxZoomTool\"},{\"id\":\"3866\",\"type\":\"SaveTool\"},{\"id\":\"3867\",\"type\":\"ResetTool\"},{\"id\":\"3868\",\"type\":\"HelpTool\"},{\"id\":\"3898\",\"type\":\"PanTool\"},{\"id\":\"3899\",\"type\":\"WheelZoomTool\"},{\"id\":\"3900\",\"type\":\"BoxZoomTool\"},{\"id\":\"3901\",\"type\":\"SaveTool\"},{\"id\":\"3902\",\"type\":\"ResetTool\"},{\"id\":\"3903\",\"type\":\"HelpTool\"}]},\"id\":\"3947\",\"type\":\"ProxyToolbar\"},{\"attributes\":{\"source\":{\"id\":\"3876\",\"type\":\"ColumnDataSource\"}},\"id\":\"3880\",\"type\":\"CDSView\"},{\"attributes\":{\"fill_alpha\":{\"value\":0.8},\"fill_color\":{\"value\":\"blue\"},\"line_alpha\":{\"value\":0.8},\"line_color\":{\"value\":\"blue\"},\"size\":{\"units\":\"screen\",\"value\":13},\"x\":{\"field\":\"x\"},\"y\":{\"field\":\"y\"}},\"id\":\"3912\",\"type\":\"Square\"},{\"attributes\":{},\"id\":\"3923\",\"type\":\"UnionRenderers\"},{\"attributes\":{},\"id\":\"3940\",\"type\":\"BasicTickFormatter\"},{\"attributes\":{},\"id\":\"3934\",\"type\":\"Selection\"},{\"attributes\":{},\"id\":\"3933\",\"type\":\"UnionRenderers\"},{\"attributes\":{\"callback\":null,\"data\":{\"x\":[-3,-4,-2,-6,-9,-8,-11,2,3,1,5,8,3,6,4,11,9],\"y\":[-1.5,-2.0,-1.0,-3.0,-4.5,-4.0,-5.5,1.0,1.5,0.5,2.5,4.0,1.5,3.0,2.0,5.5,4.5]},\"selected\":{\"id\":\"3924\",\"type\":\"Selection\"},\"selection_policy\":{\"id\":\"3923\",\"type\":\"UnionRenderers\"}},\"id\":\"3841\",\"type\":\"ColumnDataSource\"},{\"attributes\":{\"fill_alpha\":{\"value\":0.1},\"fill_color\":{\"value\":\"#1f77b4\"},\"line_alpha\":{\"value\":0.1},\"line_color\":{\"value\":\"#1f77b4\"},\"size\":{\"units\":\"screen\",\"value\":13},\"x\":{\"field\":\"x\"},\"y\":{\"field\":\"y\"}},\"id\":\"3913\",\"type\":\"Square\"},{\"attributes\":{\"below\":[{\"id\":\"3818\",\"type\":\"LinearAxis\"}],\"center\":[{\"id\":\"3822\",\"type\":\"Grid\"},{\"id\":\"3827\",\"type\":\"Grid\"}],\"left\":[{\"id\":\"3823\",\"type\":\"LinearAxis\"}],\"plot_height\":250,\"plot_width\":255,\"renderers\":[{\"id\":\"3844\",\"type\":\"GlyphRenderer\"}],\"title\":{\"id\":\"3917\",\"type\":\"Title\"},\"toolbar\":{\"id\":\"3834\",\"type\":\"Toolbar\"},\"toolbar_location\":null,\"x_range\":{\"id\":\"3810\",\"type\":\"DataRange1d\"},\"x_scale\":{\"id\":\"3814\",\"type\":\"LinearScale\"},\"y_range\":{\"id\":\"3812\",\"type\":\"DataRange1d\"},\"y_scale\":{\"id\":\"3816\",\"type\":\"LinearScale\"}},\"id\":\"3809\",\"subtype\":\"Figure\",\"type\":\"Plot\"},{\"attributes\":{\"ticker\":{\"id\":\"3889\",\"type\":\"BasicTicker\"}},\"id\":\"3892\",\"type\":\"Grid\"},{\"attributes\":{\"text\":\"\"},\"id\":\"3937\",\"type\":\"Title\"},{\"attributes\":{},\"id\":\"3889\",\"type\":\"BasicTicker\"},{\"attributes\":{\"formatter\":{\"id\":\"3938\",\"type\":\"BasicTickFormatter\"},\"ticker\":{\"id\":\"3889\",\"type\":\"BasicTicker\"}},\"id\":\"3888\",\"type\":\"LinearAxis\"},{\"attributes\":{\"formatter\":{\"id\":\"3940\",\"type\":\"BasicTickFormatter\"},\"ticker\":{\"id\":\"3894\",\"type\":\"BasicTicker\"}},\"id\":\"3893\",\"type\":\"LinearAxis\"},{\"attributes\":{},\"id\":\"3814\",\"type\":\"LinearScale\"},{\"attributes\":{\"callback\":null},\"id\":\"3812\",\"type\":\"DataRange1d\"},{\"attributes\":{\"callback\":null,\"data\":{\"x\":[-3,-4,-2,-6,-9,-8,-11,2,3,1,5,8,3,6,4,11,9],\"y\":[9,16,4,36,81,64,121,4,9,1,25,64,9,36,16,121,81]},\"selected\":{\"id\":\"3934\",\"type\":\"Selection\"},\"selection_policy\":{\"id\":\"3933\",\"type\":\"UnionRenderers\"}},\"id\":\"3876\",\"type\":\"ColumnDataSource\"},{\"attributes\":{\"callback\":null},\"id\":\"3810\",\"type\":\"DataRange1d\"},{\"attributes\":{},\"id\":\"3849\",\"type\":\"LinearScale\"},{\"attributes\":{},\"id\":\"3924\",\"type\":\"Selection\"},{\"attributes\":{\"children\":[[{\"id\":\"3809\",\"subtype\":\"Figure\",\"type\":\"Plot\"},0,0],[{\"id\":\"3846\",\"subtype\":\"Figure\",\"type\":\"Plot\"},0,1],[{\"id\":\"3881\",\"subtype\":\"Figure\",\"type\":\"Plot\"},0,2]]},\"id\":\"3946\",\"type\":\"GridBox\"},{\"attributes\":{},\"id\":\"3903\",\"type\":\"HelpTool\"},{\"attributes\":{\"source\":{\"id\":\"3841\",\"type\":\"ColumnDataSource\"}},\"id\":\"3845\",\"type\":\"CDSView\"},{\"attributes\":{},\"id\":\"3816\",\"type\":\"LinearScale\"},{\"attributes\":{\"ticker\":{\"id\":\"3819\",\"type\":\"BasicTicker\"}},\"id\":\"3822\",\"type\":\"Grid\"},{\"attributes\":{\"fill_color\":{\"value\":\"orange\"},\"line_color\":{\"value\":\"red\"},\"size\":{\"units\":\"screen\",\"value\":13},\"x\":{\"field\":\"x\"},\"y\":{\"field\":\"y\"}},\"id\":\"3877\",\"type\":\"Diamond\"},{\"attributes\":{},\"id\":\"3819\",\"type\":\"BasicTicker\"},{\"attributes\":{\"fill_alpha\":{\"value\":0.1},\"fill_color\":{\"value\":\"#1f77b4\"},\"line_alpha\":{\"value\":0.1},\"line_color\":{\"value\":\"#1f77b4\"},\"size\":{\"units\":\"screen\",\"value\":13},\"x\":{\"field\":\"x\"},\"y\":{\"field\":\"y\"}},\"id\":\"3878\",\"type\":\"Diamond\"},{\"attributes\":{\"formatter\":{\"id\":\"3928\",\"type\":\"BasicTickFormatter\"},\"ticker\":{\"id\":\"3854\",\"type\":\"BasicTicker\"}},\"id\":\"3853\",\"type\":\"LinearAxis\"},{\"attributes\":{},\"id\":\"3824\",\"type\":\"BasicTicker\"},{\"attributes\":{},\"id\":\"3898\",\"type\":\"PanTool\"},{\"attributes\":{},\"id\":\"3851\",\"type\":\"LinearScale\"},{\"attributes\":{\"formatter\":{\"id\":\"3920\",\"type\":\"BasicTickFormatter\"},\"ticker\":{\"id\":\"3824\",\"type\":\"BasicTicker\"}},\"id\":\"3823\",\"type\":\"LinearAxis\"},{\"attributes\":{\"overlay\":{\"id\":\"3942\",\"type\":\"BoxAnnotation\"}},\"id\":\"3900\",\"type\":\"BoxZoomTool\"},{\"attributes\":{\"dimension\":1,\"ticker\":{\"id\":\"3824\",\"type\":\"BasicTicker\"}},\"id\":\"3827\",\"type\":\"Grid\"},{\"attributes\":{\"data_source\":{\"id\":\"3911\",\"type\":\"ColumnDataSource\"},\"glyph\":{\"id\":\"3912\",\"type\":\"Square\"},\"hover_glyph\":null,\"muted_glyph\":null,\"nonselection_glyph\":{\"id\":\"3913\",\"type\":\"Square\"},\"selection_glyph\":null,\"view\":{\"id\":\"3915\",\"type\":\"CDSView\"}},\"id\":\"3914\",\"type\":\"GlyphRenderer\"},{\"attributes\":{\"ticker\":{\"id\":\"3854\",\"type\":\"BasicTicker\"}},\"id\":\"3857\",\"type\":\"Grid\"},{\"attributes\":{\"below\":[{\"id\":\"3853\",\"type\":\"LinearAxis\"}],\"center\":[{\"id\":\"3857\",\"type\":\"Grid\"},{\"id\":\"3862\",\"type\":\"Grid\"}],\"left\":[{\"id\":\"3858\",\"type\":\"LinearAxis\"}],\"plot_height\":250,\"plot_width\":255,\"renderers\":[{\"id\":\"3879\",\"type\":\"GlyphRenderer\"}],\"title\":{\"id\":\"3927\",\"type\":\"Title\"},\"toolbar\":{\"id\":\"3869\",\"type\":\"Toolbar\"},\"toolbar_location\":null,\"x_range\":{\"id\":\"3810\",\"type\":\"DataRange1d\"},\"x_scale\":{\"id\":\"3849\",\"type\":\"LinearScale\"},\"y_range\":{\"id\":\"3812\",\"type\":\"DataRange1d\"},\"y_scale\":{\"id\":\"3851\",\"type\":\"LinearScale\"}},\"id\":\"3846\",\"subtype\":\"Figure\",\"type\":\"Plot\"},{\"attributes\":{},\"id\":\"3854\",\"type\":\"BasicTicker\"},{\"attributes\":{\"formatter\":{\"id\":\"3930\",\"type\":\"BasicTickFormatter\"},\"ticker\":{\"id\":\"3859\",\"type\":\"BasicTicker\"}},\"id\":\"3858\",\"type\":\"LinearAxis\"},{\"attributes\":{},\"id\":\"3928\",\"type\":\"BasicTickFormatter\"},{\"attributes\":{\"dimension\":1,\"ticker\":{\"id\":\"3859\",\"type\":\"BasicTicker\"}},\"id\":\"3862\",\"type\":\"Grid\"},{\"attributes\":{\"bottom_units\":\"screen\",\"fill_alpha\":{\"value\":0.5},\"fill_color\":{\"value\":\"lightgrey\"},\"left_units\":\"screen\",\"level\":\"overlay\",\"line_alpha\":{\"value\":1.0},\"line_color\":{\"value\":\"black\"},\"line_dash\":[4,4],\"line_width\":{\"value\":2},\"render_mode\":\"css\",\"right_units\":\"screen\",\"top_units\":\"screen\"},\"id\":\"3922\",\"type\":\"BoxAnnotation\"},{\"attributes\":{\"dimension\":1,\"ticker\":{\"id\":\"3894\",\"type\":\"BasicTicker\"}},\"id\":\"3897\",\"type\":\"Grid\"},{\"attributes\":{},\"id\":\"3859\",\"type\":\"BasicTicker\"},{\"attributes\":{},\"id\":\"3930\",\"type\":\"BasicTickFormatter\"},{\"attributes\":{},\"id\":\"3828\",\"type\":\"PanTool\"},{\"attributes\":{\"data_source\":{\"id\":\"3841\",\"type\":\"ColumnDataSource\"},\"glyph\":{\"id\":\"3842\",\"type\":\"Circle\"},\"hover_glyph\":null,\"muted_glyph\":null,\"nonselection_glyph\":{\"id\":\"3843\",\"type\":\"Circle\"},\"selection_glyph\":null,\"view\":{\"id\":\"3845\",\"type\":\"CDSView\"}},\"id\":\"3844\",\"type\":\"GlyphRenderer\"},{\"attributes\":{\"callback\":null,\"data\":{\"x\":[-3,-4,-2,-6,-9,-8,-11,2,3,1,5,8,3,6,4,11,9],\"y\":[-27,-64,-8,-216,-729,-512,-1331,8,27,1,125,512,27,216,64,1331,729]},\"selected\":{\"id\":\"3944\",\"type\":\"Selection\"},\"selection_policy\":{\"id\":\"3943\",\"type\":\"UnionRenderers\"}},\"id\":\"3911\",\"type\":\"ColumnDataSource\"},{\"attributes\":{},\"id\":\"3829\",\"type\":\"WheelZoomTool\"},{\"attributes\":{\"below\":[{\"id\":\"3888\",\"type\":\"LinearAxis\"}],\"center\":[{\"id\":\"3892\",\"type\":\"Grid\"},{\"id\":\"3897\",\"type\":\"Grid\"}],\"left\":[{\"id\":\"3893\",\"type\":\"LinearAxis\"}],\"plot_height\":250,\"plot_width\":255,\"renderers\":[{\"id\":\"3914\",\"type\":\"GlyphRenderer\"}],\"title\":{\"id\":\"3937\",\"type\":\"Title\"},\"toolbar\":{\"id\":\"3904\",\"type\":\"Toolbar\"},\"toolbar_location\":null,\"x_range\":{\"id\":\"3810\",\"type\":\"DataRange1d\"},\"x_scale\":{\"id\":\"3884\",\"type\":\"LinearScale\"},\"y_range\":{\"id\":\"3812\",\"type\":\"DataRange1d\"},\"y_scale\":{\"id\":\"3886\",\"type\":\"LinearScale\"}},\"id\":\"3881\",\"subtype\":\"Figure\",\"type\":\"Plot\"},{\"attributes\":{},\"id\":\"3863\",\"type\":\"PanTool\"},{\"attributes\":{},\"id\":\"3902\",\"type\":\"ResetTool\"},{\"attributes\":{\"fill_alpha\":{\"value\":0.1},\"fill_color\":{\"value\":\"#1f77b4\"},\"line_alpha\":{\"value\":0.1},\"line_color\":{\"value\":\"#1f77b4\"},\"size\":{\"units\":\"screen\",\"value\":13},\"x\":{\"field\":\"x\"},\"y\":{\"field\":\"y\"}},\"id\":\"3843\",\"type\":\"Circle\"},{\"attributes\":{\"text\":\"\"},\"id\":\"3917\",\"type\":\"Title\"},{\"attributes\":{\"fill_alpha\":{\"value\":0.5},\"fill_color\":{\"value\":\"yellow\"},\"line_alpha\":{\"value\":0.5},\"line_color\":{\"value\":\"green\"},\"size\":{\"units\":\"screen\",\"value\":13},\"x\":{\"field\":\"x\"},\"y\":{\"field\":\"y\"}},\"id\":\"3842\",\"type\":\"Circle\"},{\"attributes\":{\"formatter\":{\"id\":\"3918\",\"type\":\"BasicTickFormatter\"},\"ticker\":{\"id\":\"3819\",\"type\":\"BasicTicker\"}},\"id\":\"3818\",\"type\":\"LinearAxis\"},{\"attributes\":{},\"id\":\"3920\",\"type\":\"BasicTickFormatter\"},{\"attributes\":{\"overlay\":{\"id\":\"3922\",\"type\":\"BoxAnnotation\"}},\"id\":\"3830\",\"type\":\"BoxZoomTool\"},{\"attributes\":{},\"id\":\"3864\",\"type\":\"WheelZoomTool\"},{\"attributes\":{\"overlay\":{\"id\":\"3932\",\"type\":\"BoxAnnotation\"}},\"id\":\"3865\",\"type\":\"BoxZoomTool\"},{\"attributes\":{\"active_drag\":\"auto\",\"active_inspect\":\"auto\",\"active_multi\":null,\"active_scroll\":\"auto\",\"active_tap\":\"auto\",\"tools\":[{\"id\":\"3828\",\"type\":\"PanTool\"},{\"id\":\"3829\",\"type\":\"WheelZoomTool\"},{\"id\":\"3830\",\"type\":\"BoxZoomTool\"},{\"id\":\"3831\",\"type\":\"SaveTool\"},{\"id\":\"3832\",\"type\":\"ResetTool\"},{\"id\":\"3833\",\"type\":\"HelpTool\"}]},\"id\":\"3834\",\"type\":\"Toolbar\"},{\"attributes\":{},\"id\":\"3831\",\"type\":\"SaveTool\"},{\"attributes\":{\"source\":{\"id\":\"3911\",\"type\":\"ColumnDataSource\"}},\"id\":\"3915\",\"type\":\"CDSView\"},{\"attributes\":{},\"id\":\"3866\",\"type\":\"SaveTool\"},{\"attributes\":{},\"id\":\"3867\",\"type\":\"ResetTool\"},{\"attributes\":{},\"id\":\"3899\",\"type\":\"WheelZoomTool\"},{\"attributes\":{\"data_source\":{\"id\":\"3876\",\"type\":\"ColumnDataSource\"},\"glyph\":{\"id\":\"3877\",\"type\":\"Diamond\"},\"hover_glyph\":null,\"muted_glyph\":null,\"nonselection_glyph\":{\"id\":\"3878\",\"type\":\"Diamond\"},\"selection_glyph\":null,\"view\":{\"id\":\"3880\",\"type\":\"CDSView\"}},\"id\":\"3879\",\"type\":\"GlyphRenderer\"},{\"attributes\":{},\"id\":\"3868\",\"type\":\"HelpTool\"},{\"attributes\":{},\"id\":\"3832\",\"type\":\"ResetTool\"},{\"attributes\":{\"active_drag\":\"auto\",\"active_inspect\":\"auto\",\"active_multi\":null,\"active_scroll\":\"auto\",\"active_tap\":\"auto\",\"tools\":[{\"id\":\"3863\",\"type\":\"PanTool\"},{\"id\":\"3864\",\"type\":\"WheelZoomTool\"},{\"id\":\"3865\",\"type\":\"BoxZoomTool\"},{\"id\":\"3866\",\"type\":\"SaveTool\"},{\"id\":\"3867\",\"type\":\"ResetTool\"},{\"id\":\"3868\",\"type\":\"HelpTool\"}]},\"id\":\"3869\",\"type\":\"Toolbar\"},{\"attributes\":{},\"id\":\"3918\",\"type\":\"BasicTickFormatter\"},{\"attributes\":{},\"id\":\"3833\",\"type\":\"HelpTool\"},{\"attributes\":{},\"id\":\"3901\",\"type\":\"SaveTool\"},{\"attributes\":{\"text\":\"\"},\"id\":\"3927\",\"type\":\"Title\"},{\"attributes\":{\"bottom_units\":\"screen\",\"fill_alpha\":{\"value\":0.5},\"fill_color\":{\"value\":\"lightgrey\"},\"left_units\":\"screen\",\"level\":\"overlay\",\"line_alpha\":{\"value\":1.0},\"line_color\":{\"value\":\"black\"},\"line_dash\":[4,4],\"line_width\":{\"value\":2},\"render_mode\":\"css\",\"right_units\":\"screen\",\"top_units\":\"screen\"},\"id\":\"3932\",\"type\":\"BoxAnnotation\"},{\"attributes\":{\"active_drag\":\"auto\",\"active_inspect\":\"auto\",\"active_multi\":null,\"active_scroll\":\"auto\",\"active_tap\":\"auto\",\"tools\":[{\"id\":\"3898\",\"type\":\"PanTool\"},{\"id\":\"3899\",\"type\":\"WheelZoomTool\"},{\"id\":\"3900\",\"type\":\"BoxZoomTool\"},{\"id\":\"3901\",\"type\":\"SaveTool\"},{\"id\":\"3902\",\"type\":\"ResetTool\"},{\"id\":\"3903\",\"type\":\"HelpTool\"}]},\"id\":\"3904\",\"type\":\"Toolbar\"}],\"root_ids\":[\"3949\"]},\"title\":\"Bokeh Application\",\"version\":\"1.3.4\"}};\n",
       "  var render_items = [{\"docid\":\"07c60841-f816-40ec-aa18-7e887d9e362e\",\"roots\":{\"3949\":\"f1c65ce7-c479-477a-b717-6090f0545242\"}}];\n",
       "  root.Bokeh.embed.embed_items_notebook(docs_json, render_items);\n",
       "\n",
       "  }\n",
       "  if (root.Bokeh !== undefined) {\n",
       "    embed_document(root);\n",
       "  } else {\n",
       "    var attempts = 0;\n",
       "    var timer = setInterval(function(root) {\n",
       "      if (root.Bokeh !== undefined) {\n",
       "        embed_document(root);\n",
       "        clearInterval(timer);\n",
       "      }\n",
       "      attempts++;\n",
       "      if (attempts > 100) {\n",
       "        console.log(\"Bokeh: ERROR: Unable to run BokehJS code because BokehJS library is missing\");\n",
       "        clearInterval(timer);\n",
       "      }\n",
       "    }, 10, root)\n",
       "  }\n",
       "})(window);"
      ],
      "application/vnd.bokehjs_exec.v0+json": ""
     },
     "metadata": {
      "application/vnd.bokehjs_exec.v0+json": {
       "id": "3949"
      }
     },
     "output_type": "display_data"
    }
   ],
   "source": [
    "p1 = figure(plot_width=255, plot_height=250)\n",
    "p1.circle(x, y0, size=13, color='green', fill_color='yellow', alpha=0.5)\n",
    "\n",
    "p2 = figure(x_range=p1.x_range, y_range=p1.y_range, plot_width=255, plot_height=250)\n",
    "p2.diamond(x, y1, size=13, color='red', fill_color='orange')\n",
    "\n",
    "p3 = figure(x_range=p1.x_range, y_range=p1.y_range, plot_width=255, plot_height=250)\n",
    "p3.square(x, y2, size=13, color='blue', alpha=0.8)\n",
    "\n",
    "p = gridplot([[p1,p2,p3]])\n",
    "\n",
    "show(p)"
   ]
  },
  {
   "cell_type": "code",
   "execution_count": 32,
   "metadata": {},
   "outputs": [
    {
     "data": {
      "text/html": [
       "\n",
       "\n",
       "\n",
       "\n",
       "\n",
       "\n",
       "  <div class=\"bk-root\" id=\"2a528e1c-b001-4992-ad61-d885034a6249\" data-root-id=\"4378\"></div>\n"
      ]
     },
     "metadata": {},
     "output_type": "display_data"
    },
    {
     "data": {
      "application/javascript": [
       "(function(root) {\n",
       "  function embed_document(root) {\n",
       "    \n",
       "  var docs_json = {\"ecdc1992-3ffa-4406-9093-cd4030fed49c\":{\"roots\":{\"references\":[{\"attributes\":{\"children\":[{\"id\":\"4377\",\"type\":\"ToolbarBox\"},{\"id\":\"4375\",\"type\":\"GridBox\"}]},\"id\":\"4378\",\"type\":\"Column\"},{\"attributes\":{},\"id\":\"4298\",\"type\":\"LinearScale\"},{\"attributes\":{\"formatter\":{\"id\":\"4368\",\"type\":\"BasicTickFormatter\"},\"ticker\":{\"id\":\"4329\",\"type\":\"BasicTicker\"}},\"id\":\"4328\",\"type\":\"LinearAxis\"},{\"attributes\":{},\"id\":\"4296\",\"type\":\"LinearScale\"},{\"attributes\":{\"fill_alpha\":{\"value\":0.1},\"fill_color\":{\"value\":\"#1f77b4\"},\"line_alpha\":{\"value\":0.1},\"line_color\":{\"value\":\"#1f77b4\"},\"size\":{\"units\":\"screen\",\"value\":13},\"x\":{\"field\":\"x\"},\"y\":{\"field\":\"y\"}},\"id\":\"4290\",\"type\":\"Circle\"},{\"attributes\":{\"text\":\"\"},\"id\":\"4358\",\"type\":\"Title\"},{\"attributes\":{\"ticker\":{\"id\":\"4329\",\"type\":\"BasicTicker\"}},\"id\":\"4332\",\"type\":\"Grid\"},{\"attributes\":{},\"id\":\"4364\",\"type\":\"Selection\"},{\"attributes\":{\"formatter\":{\"id\":\"4350\",\"type\":\"BasicTickFormatter\"},\"ticker\":{\"id\":\"4274\",\"type\":\"BasicTicker\"}},\"id\":\"4273\",\"type\":\"LinearAxis\"},{\"attributes\":{\"data_source\":{\"id\":\"4288\",\"type\":\"ColumnDataSource\"},\"glyph\":{\"id\":\"4289\",\"type\":\"Circle\"},\"hover_glyph\":null,\"muted_glyph\":null,\"nonselection_glyph\":{\"id\":\"4290\",\"type\":\"Circle\"},\"selection_glyph\":null,\"view\":{\"id\":\"4292\",\"type\":\"CDSView\"}},\"id\":\"4291\",\"type\":\"GlyphRenderer\"},{\"attributes\":{\"fill_color\":{\"value\":\"orange\"},\"line_color\":{\"value\":\"red\"},\"size\":{\"units\":\"screen\",\"value\":13},\"x\":{\"field\":\"x\"},\"y\":{\"field\":\"y\"}},\"id\":\"4316\",\"type\":\"Diamond\"},{\"attributes\":{},\"id\":\"4324\",\"type\":\"LinearScale\"},{\"attributes\":{},\"id\":\"4329\",\"type\":\"BasicTicker\"},{\"attributes\":{},\"id\":\"4363\",\"type\":\"UnionRenderers\"},{\"attributes\":{\"active_drag\":\"auto\",\"active_inspect\":\"auto\",\"active_multi\":null,\"active_scroll\":\"auto\",\"active_tap\":\"auto\",\"tools\":[{\"id\":\"4310\",\"type\":\"ResetTool\"},{\"id\":\"4311\",\"type\":\"PanTool\"}]},\"id\":\"4312\",\"type\":\"Toolbar\"},{\"attributes\":{\"formatter\":{\"id\":\"4370\",\"type\":\"BasicTickFormatter\"},\"ticker\":{\"id\":\"4334\",\"type\":\"BasicTicker\"}},\"id\":\"4333\",\"type\":\"LinearAxis\"},{\"attributes\":{\"callback\":null,\"data\":{\"x\":[-3,-4,-2,-6,-9,-8,-11,2,3,1,5,8,3,6,4,11,9],\"y\":[-1.5,-2.0,-1.0,-3.0,-4.5,-4.0,-5.5,1.0,1.5,0.5,2.5,4.0,1.5,3.0,2.0,5.5,4.5]},\"selected\":{\"id\":\"4355\",\"type\":\"Selection\"},\"selection_policy\":{\"id\":\"4354\",\"type\":\"UnionRenderers\"}},\"id\":\"4288\",\"type\":\"ColumnDataSource\"},{\"attributes\":{\"fill_alpha\":{\"value\":0.5},\"fill_color\":{\"value\":\"yellow\"},\"line_alpha\":{\"value\":0.5},\"line_color\":{\"value\":\"green\"},\"size\":{\"units\":\"screen\",\"value\":13},\"x\":{\"field\":\"x\"},\"y\":{\"field\":\"y\"}},\"id\":\"4289\",\"type\":\"Circle\"},{\"attributes\":{},\"id\":\"4368\",\"type\":\"BasicTickFormatter\"},{\"attributes\":{\"below\":[{\"id\":\"4328\",\"type\":\"LinearAxis\"}],\"center\":[{\"id\":\"4332\",\"type\":\"Grid\"},{\"id\":\"4337\",\"type\":\"Grid\"}],\"left\":[{\"id\":\"4333\",\"type\":\"LinearAxis\"}],\"plot_height\":250,\"plot_width\":255,\"renderers\":[{\"id\":\"4346\",\"type\":\"GlyphRenderer\"}],\"title\":{\"id\":\"4367\",\"type\":\"Title\"},\"toolbar\":{\"id\":\"4340\",\"type\":\"Toolbar\"},\"toolbar_location\":null,\"x_range\":{\"id\":\"4265\",\"type\":\"DataRange1d\"},\"x_scale\":{\"id\":\"4324\",\"type\":\"LinearScale\"},\"y_range\":{\"id\":\"4322\",\"type\":\"DataRange1d\"},\"y_scale\":{\"id\":\"4326\",\"type\":\"LinearScale\"}},\"id\":\"4320\",\"subtype\":\"Figure\",\"type\":\"Plot\"},{\"attributes\":{\"dimension\":1,\"ticker\":{\"id\":\"4334\",\"type\":\"BasicTicker\"}},\"id\":\"4337\",\"type\":\"Grid\"},{\"attributes\":{\"text\":\"\"},\"id\":\"4367\",\"type\":\"Title\"},{\"attributes\":{},\"id\":\"4361\",\"type\":\"BasicTickFormatter\"},{\"attributes\":{},\"id\":\"4370\",\"type\":\"BasicTickFormatter\"},{\"attributes\":{},\"id\":\"4311\",\"type\":\"PanTool\"},{\"attributes\":{},\"id\":\"4269\",\"type\":\"LinearScale\"},{\"attributes\":{\"ticker\":{\"id\":\"4301\",\"type\":\"BasicTicker\"}},\"id\":\"4304\",\"type\":\"Grid\"},{\"attributes\":{},\"id\":\"4352\",\"type\":\"BasicTickFormatter\"},{\"attributes\":{},\"id\":\"4284\",\"type\":\"PanTool\"},{\"attributes\":{\"callback\":null},\"id\":\"4322\",\"type\":\"DataRange1d\"},{\"attributes\":{},\"id\":\"4334\",\"type\":\"BasicTicker\"},{\"attributes\":{\"text\":\"\"},\"id\":\"4349\",\"type\":\"Title\"},{\"attributes\":{},\"id\":\"4301\",\"type\":\"BasicTicker\"},{\"attributes\":{},\"id\":\"4373\",\"type\":\"Selection\"},{\"attributes\":{\"callback\":null},\"id\":\"4267\",\"type\":\"DataRange1d\"},{\"attributes\":{\"dimension\":1,\"ticker\":{\"id\":\"4279\",\"type\":\"BasicTicker\"}},\"id\":\"4282\",\"type\":\"Grid\"},{\"attributes\":{\"fill_alpha\":{\"value\":0.1},\"fill_color\":{\"value\":\"#1f77b4\"},\"line_alpha\":{\"value\":0.1},\"line_color\":{\"value\":\"#1f77b4\"},\"size\":{\"units\":\"screen\",\"value\":13},\"x\":{\"field\":\"x\"},\"y\":{\"field\":\"y\"}},\"id\":\"4317\",\"type\":\"Diamond\"},{\"attributes\":{\"formatter\":{\"id\":\"4361\",\"type\":\"BasicTickFormatter\"},\"ticker\":{\"id\":\"4306\",\"type\":\"BasicTicker\"}},\"id\":\"4305\",\"type\":\"LinearAxis\"},{\"attributes\":{},\"id\":\"4372\",\"type\":\"UnionRenderers\"},{\"attributes\":{},\"id\":\"4283\",\"type\":\"ResetTool\"},{\"attributes\":{\"fill_alpha\":{\"value\":0.1},\"fill_color\":{\"value\":\"#1f77b4\"},\"line_alpha\":{\"value\":0.1},\"line_color\":{\"value\":\"#1f77b4\"},\"size\":{\"units\":\"screen\",\"value\":13},\"x\":{\"field\":\"x\"},\"y\":{\"field\":\"y\"}},\"id\":\"4345\",\"type\":\"Square\"},{\"attributes\":{},\"id\":\"4355\",\"type\":\"Selection\"},{\"attributes\":{\"active_drag\":\"auto\",\"active_inspect\":\"auto\",\"active_multi\":null,\"active_scroll\":\"auto\",\"active_tap\":\"auto\",\"tools\":[{\"id\":\"4283\",\"type\":\"ResetTool\"},{\"id\":\"4284\",\"type\":\"PanTool\"}]},\"id\":\"4285\",\"type\":\"Toolbar\"},{\"attributes\":{\"dimension\":1,\"ticker\":{\"id\":\"4306\",\"type\":\"BasicTicker\"}},\"id\":\"4309\",\"type\":\"Grid\"},{\"attributes\":{\"active_drag\":\"auto\",\"active_inspect\":\"auto\",\"active_multi\":null,\"active_scroll\":\"auto\",\"active_tap\":\"auto\",\"tools\":[{\"id\":\"4338\",\"type\":\"ResetTool\"},{\"id\":\"4339\",\"type\":\"PanTool\"}]},\"id\":\"4340\",\"type\":\"Toolbar\"},{\"attributes\":{\"toolbar\":{\"id\":\"4376\",\"type\":\"ProxyToolbar\"},\"toolbar_location\":\"above\"},\"id\":\"4377\",\"type\":\"ToolbarBox\"},{\"attributes\":{},\"id\":\"4338\",\"type\":\"ResetTool\"},{\"attributes\":{},\"id\":\"4350\",\"type\":\"BasicTickFormatter\"},{\"attributes\":{},\"id\":\"4306\",\"type\":\"BasicTicker\"},{\"attributes\":{\"below\":[{\"id\":\"4300\",\"type\":\"LinearAxis\"}],\"center\":[{\"id\":\"4304\",\"type\":\"Grid\"},{\"id\":\"4309\",\"type\":\"Grid\"}],\"left\":[{\"id\":\"4305\",\"type\":\"LinearAxis\"}],\"plot_height\":250,\"plot_width\":255,\"renderers\":[{\"id\":\"4318\",\"type\":\"GlyphRenderer\"}],\"title\":{\"id\":\"4358\",\"type\":\"Title\"},\"toolbar\":{\"id\":\"4312\",\"type\":\"Toolbar\"},\"toolbar_location\":null,\"x_range\":{\"id\":\"4265\",\"type\":\"DataRange1d\"},\"x_scale\":{\"id\":\"4296\",\"type\":\"LinearScale\"},\"y_range\":{\"id\":\"4267\",\"type\":\"DataRange1d\"},\"y_scale\":{\"id\":\"4298\",\"type\":\"LinearScale\"}},\"id\":\"4293\",\"subtype\":\"Figure\",\"type\":\"Plot\"},{\"attributes\":{\"data_source\":{\"id\":\"4315\",\"type\":\"ColumnDataSource\"},\"glyph\":{\"id\":\"4316\",\"type\":\"Diamond\"},\"hover_glyph\":null,\"muted_glyph\":null,\"nonselection_glyph\":{\"id\":\"4317\",\"type\":\"Diamond\"},\"selection_glyph\":null,\"view\":{\"id\":\"4319\",\"type\":\"CDSView\"}},\"id\":\"4318\",\"type\":\"GlyphRenderer\"},{\"attributes\":{},\"id\":\"4354\",\"type\":\"UnionRenderers\"},{\"attributes\":{\"tools\":[{\"id\":\"4283\",\"type\":\"ResetTool\"},{\"id\":\"4284\",\"type\":\"PanTool\"},{\"id\":\"4310\",\"type\":\"ResetTool\"},{\"id\":\"4311\",\"type\":\"PanTool\"},{\"id\":\"4338\",\"type\":\"ResetTool\"},{\"id\":\"4339\",\"type\":\"PanTool\"}]},\"id\":\"4376\",\"type\":\"ProxyToolbar\"},{\"attributes\":{\"callback\":null},\"id\":\"4265\",\"type\":\"DataRange1d\"},{\"attributes\":{\"source\":{\"id\":\"4343\",\"type\":\"ColumnDataSource\"}},\"id\":\"4347\",\"type\":\"CDSView\"},{\"attributes\":{},\"id\":\"4339\",\"type\":\"PanTool\"},{\"attributes\":{},\"id\":\"4271\",\"type\":\"LinearScale\"},{\"attributes\":{\"data_source\":{\"id\":\"4343\",\"type\":\"ColumnDataSource\"},\"glyph\":{\"id\":\"4344\",\"type\":\"Square\"},\"hover_glyph\":null,\"muted_glyph\":null,\"nonselection_glyph\":{\"id\":\"4345\",\"type\":\"Square\"},\"selection_glyph\":null,\"view\":{\"id\":\"4347\",\"type\":\"CDSView\"}},\"id\":\"4346\",\"type\":\"GlyphRenderer\"},{\"attributes\":{},\"id\":\"4279\",\"type\":\"BasicTicker\"},{\"attributes\":{\"fill_alpha\":{\"value\":0.8},\"fill_color\":{\"value\":\"blue\"},\"line_alpha\":{\"value\":0.8},\"line_color\":{\"value\":\"blue\"},\"size\":{\"units\":\"screen\",\"value\":13},\"x\":{\"field\":\"x\"},\"y\":{\"field\":\"y\"}},\"id\":\"4344\",\"type\":\"Square\"},{\"attributes\":{},\"id\":\"4274\",\"type\":\"BasicTicker\"},{\"attributes\":{\"callback\":null,\"data\":{\"x\":[-3,-4,-2,-6,-9,-8,-11,2,3,1,5,8,3,6,4,11,9],\"y\":[-27,-64,-8,-216,-729,-512,-1331,8,27,1,125,512,27,216,64,1331,729]},\"selected\":{\"id\":\"4373\",\"type\":\"Selection\"},\"selection_policy\":{\"id\":\"4372\",\"type\":\"UnionRenderers\"}},\"id\":\"4343\",\"type\":\"ColumnDataSource\"},{\"attributes\":{\"source\":{\"id\":\"4288\",\"type\":\"ColumnDataSource\"}},\"id\":\"4292\",\"type\":\"CDSView\"},{\"attributes\":{\"source\":{\"id\":\"4315\",\"type\":\"ColumnDataSource\"}},\"id\":\"4319\",\"type\":\"CDSView\"},{\"attributes\":{},\"id\":\"4359\",\"type\":\"BasicTickFormatter\"},{\"attributes\":{\"callback\":null,\"data\":{\"x\":[-3,-4,-2,-6,-9,-8,-11,2,3,1,5,8,3,6,4,11,9],\"y\":[9,16,4,36,81,64,121,4,9,1,25,64,9,36,16,121,81]},\"selected\":{\"id\":\"4364\",\"type\":\"Selection\"},\"selection_policy\":{\"id\":\"4363\",\"type\":\"UnionRenderers\"}},\"id\":\"4315\",\"type\":\"ColumnDataSource\"},{\"attributes\":{\"children\":[[{\"id\":\"4264\",\"subtype\":\"Figure\",\"type\":\"Plot\"},0,0],[{\"id\":\"4293\",\"subtype\":\"Figure\",\"type\":\"Plot\"},0,1],[{\"id\":\"4320\",\"subtype\":\"Figure\",\"type\":\"Plot\"},0,2]]},\"id\":\"4375\",\"type\":\"GridBox\"},{\"attributes\":{\"below\":[{\"id\":\"4273\",\"type\":\"LinearAxis\"}],\"center\":[{\"id\":\"4277\",\"type\":\"Grid\"},{\"id\":\"4282\",\"type\":\"Grid\"}],\"left\":[{\"id\":\"4278\",\"type\":\"LinearAxis\"}],\"plot_height\":250,\"plot_width\":255,\"renderers\":[{\"id\":\"4291\",\"type\":\"GlyphRenderer\"}],\"title\":{\"id\":\"4349\",\"type\":\"Title\"},\"toolbar\":{\"id\":\"4285\",\"type\":\"Toolbar\"},\"toolbar_location\":null,\"x_range\":{\"id\":\"4265\",\"type\":\"DataRange1d\"},\"x_scale\":{\"id\":\"4269\",\"type\":\"LinearScale\"},\"y_range\":{\"id\":\"4267\",\"type\":\"DataRange1d\"},\"y_scale\":{\"id\":\"4271\",\"type\":\"LinearScale\"}},\"id\":\"4264\",\"subtype\":\"Figure\",\"type\":\"Plot\"},{\"attributes\":{\"formatter\":{\"id\":\"4359\",\"type\":\"BasicTickFormatter\"},\"ticker\":{\"id\":\"4301\",\"type\":\"BasicTicker\"}},\"id\":\"4300\",\"type\":\"LinearAxis\"},{\"attributes\":{\"formatter\":{\"id\":\"4352\",\"type\":\"BasicTickFormatter\"},\"ticker\":{\"id\":\"4279\",\"type\":\"BasicTicker\"}},\"id\":\"4278\",\"type\":\"LinearAxis\"},{\"attributes\":{},\"id\":\"4326\",\"type\":\"LinearScale\"},{\"attributes\":{},\"id\":\"4310\",\"type\":\"ResetTool\"},{\"attributes\":{\"ticker\":{\"id\":\"4274\",\"type\":\"BasicTicker\"}},\"id\":\"4277\",\"type\":\"Grid\"}],\"root_ids\":[\"4378\"]},\"title\":\"Bokeh Application\",\"version\":\"1.3.4\"}};\n",
       "  var render_items = [{\"docid\":\"ecdc1992-3ffa-4406-9093-cd4030fed49c\",\"roots\":{\"4378\":\"2a528e1c-b001-4992-ad61-d885034a6249\"}}];\n",
       "  root.Bokeh.embed.embed_items_notebook(docs_json, render_items);\n",
       "\n",
       "  }\n",
       "  if (root.Bokeh !== undefined) {\n",
       "    embed_document(root);\n",
       "  } else {\n",
       "    var attempts = 0;\n",
       "    var timer = setInterval(function(root) {\n",
       "      if (root.Bokeh !== undefined) {\n",
       "        embed_document(root);\n",
       "        clearInterval(timer);\n",
       "      }\n",
       "      attempts++;\n",
       "      if (attempts > 100) {\n",
       "        console.log(\"Bokeh: ERROR: Unable to run BokehJS code because BokehJS library is missing\");\n",
       "        clearInterval(timer);\n",
       "      }\n",
       "    }, 10, root)\n",
       "  }\n",
       "})(window);"
      ],
      "application/vnd.bokehjs_exec.v0+json": ""
     },
     "metadata": {
      "application/vnd.bokehjs_exec.v0+json": {
       "id": "4378"
      }
     },
     "output_type": "display_data"
    }
   ],
   "source": [
    "p1 = figure(plot_width=255, plot_height=250, tools='reset,pan')\n",
    "p1.circle(x, y0, size=13, color='green', fill_color='yellow', alpha=0.5)\n",
    "\n",
    "p2 = figure(x_range=p1.x_range, y_range=p1.y_range, plot_width=255, plot_height=250,tools='reset,pan')\n",
    "p2.diamond(x, y1, size=13, color='red', fill_color='orange')\n",
    "\n",
    "p3 = figure(x_range=p1.x_range, plot_width=255, plot_height=250,tools='reset,pan')\n",
    "p3.square(x, y2, size=13, color='blue', alpha=0.8)\n",
    "\n",
    "p = gridplot([[p1,p2,p3]])\n",
    "\n",
    "show(p)"
   ]
  },
  {
   "cell_type": "code",
   "execution_count": 33,
   "metadata": {},
   "outputs": [],
   "source": [
    "from bokeh.models import ColumnDataSource"
   ]
  },
  {
   "cell_type": "code",
   "execution_count": 35,
   "metadata": {},
   "outputs": [],
   "source": [
    "source = ColumnDataSource(data=dict(x=x,y0=y0,y1=y1))"
   ]
  },
  {
   "cell_type": "code",
   "execution_count": 36,
   "metadata": {},
   "outputs": [
    {
     "data": {
      "text/html": [
       "\n",
       "\n",
       "\n",
       "\n",
       "\n",
       "\n",
       "  <div class=\"bk-root\" id=\"0d35fd8b-0cda-42b8-a06b-bb48ec74ab4d\" data-root-id=\"4779\"></div>\n"
      ]
     },
     "metadata": {},
     "output_type": "display_data"
    },
    {
     "data": {
      "application/javascript": [
       "(function(root) {\n",
       "  function embed_document(root) {\n",
       "    \n",
       "  var docs_json = {\"93bf79a5-c019-4658-bc50-3512f6b24871\":{\"roots\":{\"references\":[{\"attributes\":{\"children\":[{\"id\":\"4778\",\"type\":\"ToolbarBox\"},{\"id\":\"4776\",\"type\":\"GridBox\"}]},\"id\":\"4779\",\"type\":\"Column\"},{\"attributes\":{},\"id\":\"4719\",\"type\":\"ResetTool\"},{\"attributes\":{\"text\":\"\"},\"id\":\"4759\",\"type\":\"Title\"},{\"attributes\":{\"formatter\":{\"id\":\"4771\",\"type\":\"BasicTickFormatter\"},\"ticker\":{\"id\":\"4744\",\"type\":\"BasicTicker\"}},\"id\":\"4743\",\"type\":\"LinearAxis\"},{\"attributes\":{\"callback\":null},\"id\":\"4701\",\"type\":\"DataRange1d\"},{\"attributes\":{\"source\":{\"id\":\"4699\",\"type\":\"ColumnDataSource\"}},\"id\":\"4757\",\"type\":\"CDSView\"},{\"attributes\":{\"active_drag\":\"auto\",\"active_inspect\":\"auto\",\"active_multi\":null,\"active_scroll\":\"auto\",\"active_tap\":\"auto\",\"tools\":[{\"id\":\"4719\",\"type\":\"ResetTool\"},{\"id\":\"4720\",\"type\":\"PanTool\"}]},\"id\":\"4721\",\"type\":\"Toolbar\"},{\"attributes\":{\"ticker\":{\"id\":\"4739\",\"type\":\"BasicTicker\"}},\"id\":\"4742\",\"type\":\"Grid\"},{\"attributes\":{},\"id\":\"4765\",\"type\":\"Selection\"},{\"attributes\":{},\"id\":\"4762\",\"type\":\"BasicTickFormatter\"},{\"attributes\":{\"formatter\":{\"id\":\"4760\",\"type\":\"BasicTickFormatter\"},\"ticker\":{\"id\":\"4710\",\"type\":\"BasicTicker\"}},\"id\":\"4709\",\"type\":\"LinearAxis\"},{\"attributes\":{\"dimension\":1,\"ticker\":{\"id\":\"4744\",\"type\":\"BasicTicker\"}},\"id\":\"4747\",\"type\":\"Grid\"},{\"attributes\":{},\"id\":\"4736\",\"type\":\"LinearScale\"},{\"attributes\":{},\"id\":\"4760\",\"type\":\"BasicTickFormatter\"},{\"attributes\":{},\"id\":\"4720\",\"type\":\"PanTool\"},{\"attributes\":{\"text\":\"\"},\"id\":\"4768\",\"type\":\"Title\"},{\"attributes\":{\"callback\":null},\"id\":\"4730\",\"type\":\"DataRange1d\"},{\"attributes\":{\"callback\":null},\"id\":\"4732\",\"type\":\"DataRange1d\"},{\"attributes\":{\"fill_alpha\":{\"value\":0.1},\"fill_color\":{\"value\":\"#1f77b4\"},\"line_alpha\":{\"value\":0.1},\"line_color\":{\"value\":\"#1f77b4\"},\"size\":{\"units\":\"screen\",\"value\":13},\"x\":{\"field\":\"x\"},\"y\":{\"field\":\"y0\"}},\"id\":\"4726\",\"type\":\"Circle\"},{\"attributes\":{},\"id\":\"4744\",\"type\":\"BasicTicker\"},{\"attributes\":{},\"id\":\"4769\",\"type\":\"BasicTickFormatter\"},{\"attributes\":{\"formatter\":{\"id\":\"4762\",\"type\":\"BasicTickFormatter\"},\"ticker\":{\"id\":\"4715\",\"type\":\"BasicTicker\"}},\"id\":\"4714\",\"type\":\"LinearAxis\"},{\"attributes\":{\"toolbar\":{\"id\":\"4777\",\"type\":\"ProxyToolbar\"},\"toolbar_location\":\"above\"},\"id\":\"4778\",\"type\":\"ToolbarBox\"},{\"attributes\":{\"callback\":null},\"id\":\"4703\",\"type\":\"DataRange1d\"},{\"attributes\":{\"active_drag\":\"auto\",\"active_inspect\":\"auto\",\"active_multi\":null,\"active_scroll\":\"auto\",\"active_tap\":\"auto\",\"tools\":[{\"id\":\"4748\",\"type\":\"ResetTool\"},{\"id\":\"4749\",\"type\":\"PanTool\"}]},\"id\":\"4750\",\"type\":\"Toolbar\"},{\"attributes\":{},\"id\":\"4748\",\"type\":\"ResetTool\"},{\"attributes\":{\"ticker\":{\"id\":\"4710\",\"type\":\"BasicTicker\"}},\"id\":\"4713\",\"type\":\"Grid\"},{\"attributes\":{},\"id\":\"4734\",\"type\":\"LinearScale\"},{\"attributes\":{\"data_source\":{\"id\":\"4699\",\"type\":\"ColumnDataSource\"},\"glyph\":{\"id\":\"4725\",\"type\":\"Circle\"},\"hover_glyph\":null,\"muted_glyph\":null,\"nonselection_glyph\":{\"id\":\"4726\",\"type\":\"Circle\"},\"selection_glyph\":null,\"view\":{\"id\":\"4728\",\"type\":\"CDSView\"}},\"id\":\"4727\",\"type\":\"GlyphRenderer\"},{\"attributes\":{},\"id\":\"4705\",\"type\":\"LinearScale\"},{\"attributes\":{\"fill_color\":{\"value\":\"red\"},\"line_color\":{\"value\":\"red\"},\"size\":{\"units\":\"screen\",\"value\":13},\"x\":{\"field\":\"x\"},\"y\":{\"field\":\"y0\"}},\"id\":\"4725\",\"type\":\"Circle\"},{\"attributes\":{},\"id\":\"4749\",\"type\":\"PanTool\"},{\"attributes\":{},\"id\":\"4707\",\"type\":\"LinearScale\"},{\"attributes\":{\"below\":[{\"id\":\"4709\",\"type\":\"LinearAxis\"}],\"center\":[{\"id\":\"4713\",\"type\":\"Grid\"},{\"id\":\"4718\",\"type\":\"Grid\"}],\"left\":[{\"id\":\"4714\",\"type\":\"LinearAxis\"}],\"plot_height\":250,\"plot_width\":255,\"renderers\":[{\"id\":\"4727\",\"type\":\"GlyphRenderer\"}],\"title\":{\"id\":\"4759\",\"type\":\"Title\"},\"toolbar\":{\"id\":\"4721\",\"type\":\"Toolbar\"},\"toolbar_location\":null,\"x_range\":{\"id\":\"4701\",\"type\":\"DataRange1d\"},\"x_scale\":{\"id\":\"4705\",\"type\":\"LinearScale\"},\"y_range\":{\"id\":\"4703\",\"type\":\"DataRange1d\"},\"y_scale\":{\"id\":\"4707\",\"type\":\"LinearScale\"}},\"id\":\"4700\",\"subtype\":\"Figure\",\"type\":\"Plot\"},{\"attributes\":{\"formatter\":{\"id\":\"4769\",\"type\":\"BasicTickFormatter\"},\"ticker\":{\"id\":\"4739\",\"type\":\"BasicTicker\"}},\"id\":\"4738\",\"type\":\"LinearAxis\"},{\"attributes\":{\"fill_alpha\":{\"value\":0.1},\"fill_color\":{\"value\":\"#1f77b4\"},\"line_alpha\":{\"value\":0.1},\"line_color\":{\"value\":\"#1f77b4\"},\"size\":{\"units\":\"screen\",\"value\":13},\"x\":{\"field\":\"x\"},\"y\":{\"field\":\"y1\"}},\"id\":\"4755\",\"type\":\"Circle\"},{\"attributes\":{},\"id\":\"4710\",\"type\":\"BasicTicker\"},{\"attributes\":{\"callback\":null,\"data\":{\"x\":[-3,-4,-2,-6,-9,-8,-11,2,3,1,5,8,3,6,4,11,9],\"y0\":[-1.5,-2.0,-1.0,-3.0,-4.5,-4.0,-5.5,1.0,1.5,0.5,2.5,4.0,1.5,3.0,2.0,5.5,4.5],\"y1\":[9,16,4,36,81,64,121,4,9,1,25,64,9,36,16,121,81]},\"selected\":{\"id\":\"4765\",\"type\":\"Selection\"},\"selection_policy\":{\"id\":\"4764\",\"type\":\"UnionRenderers\"}},\"id\":\"4699\",\"type\":\"ColumnDataSource\"},{\"attributes\":{\"below\":[{\"id\":\"4738\",\"type\":\"LinearAxis\"}],\"center\":[{\"id\":\"4742\",\"type\":\"Grid\"},{\"id\":\"4747\",\"type\":\"Grid\"}],\"left\":[{\"id\":\"4743\",\"type\":\"LinearAxis\"}],\"plot_height\":250,\"plot_width\":255,\"renderers\":[{\"id\":\"4756\",\"type\":\"GlyphRenderer\"}],\"title\":{\"id\":\"4768\",\"type\":\"Title\"},\"toolbar\":{\"id\":\"4750\",\"type\":\"Toolbar\"},\"toolbar_location\":null,\"x_range\":{\"id\":\"4730\",\"type\":\"DataRange1d\"},\"x_scale\":{\"id\":\"4734\",\"type\":\"LinearScale\"},\"y_range\":{\"id\":\"4732\",\"type\":\"DataRange1d\"},\"y_scale\":{\"id\":\"4736\",\"type\":\"LinearScale\"}},\"id\":\"4729\",\"subtype\":\"Figure\",\"type\":\"Plot\"},{\"attributes\":{\"dimension\":1,\"ticker\":{\"id\":\"4715\",\"type\":\"BasicTicker\"}},\"id\":\"4718\",\"type\":\"Grid\"},{\"attributes\":{},\"id\":\"4771\",\"type\":\"BasicTickFormatter\"},{\"attributes\":{},\"id\":\"4764\",\"type\":\"UnionRenderers\"},{\"attributes\":{\"source\":{\"id\":\"4699\",\"type\":\"ColumnDataSource\"}},\"id\":\"4728\",\"type\":\"CDSView\"},{\"attributes\":{},\"id\":\"4715\",\"type\":\"BasicTicker\"},{\"attributes\":{},\"id\":\"4739\",\"type\":\"BasicTicker\"},{\"attributes\":{\"children\":[[{\"id\":\"4700\",\"subtype\":\"Figure\",\"type\":\"Plot\"},0,0],[{\"id\":\"4729\",\"subtype\":\"Figure\",\"type\":\"Plot\"},0,1]]},\"id\":\"4776\",\"type\":\"GridBox\"},{\"attributes\":{\"data_source\":{\"id\":\"4699\",\"type\":\"ColumnDataSource\"},\"glyph\":{\"id\":\"4754\",\"type\":\"Circle\"},\"hover_glyph\":null,\"muted_glyph\":null,\"nonselection_glyph\":{\"id\":\"4755\",\"type\":\"Circle\"},\"selection_glyph\":null,\"view\":{\"id\":\"4757\",\"type\":\"CDSView\"}},\"id\":\"4756\",\"type\":\"GlyphRenderer\"},{\"attributes\":{\"fill_color\":{\"value\":\"blue\"},\"line_color\":{\"value\":\"blue\"},\"size\":{\"units\":\"screen\",\"value\":13},\"x\":{\"field\":\"x\"},\"y\":{\"field\":\"y1\"}},\"id\":\"4754\",\"type\":\"Circle\"},{\"attributes\":{\"tools\":[{\"id\":\"4719\",\"type\":\"ResetTool\"},{\"id\":\"4720\",\"type\":\"PanTool\"},{\"id\":\"4748\",\"type\":\"ResetTool\"},{\"id\":\"4749\",\"type\":\"PanTool\"}]},\"id\":\"4777\",\"type\":\"ProxyToolbar\"}],\"root_ids\":[\"4779\"]},\"title\":\"Bokeh Application\",\"version\":\"1.3.4\"}};\n",
       "  var render_items = [{\"docid\":\"93bf79a5-c019-4658-bc50-3512f6b24871\",\"roots\":{\"4779\":\"0d35fd8b-0cda-42b8-a06b-bb48ec74ab4d\"}}];\n",
       "  root.Bokeh.embed.embed_items_notebook(docs_json, render_items);\n",
       "\n",
       "  }\n",
       "  if (root.Bokeh !== undefined) {\n",
       "    embed_document(root);\n",
       "  } else {\n",
       "    var attempts = 0;\n",
       "    var timer = setInterval(function(root) {\n",
       "      if (root.Bokeh !== undefined) {\n",
       "        embed_document(root);\n",
       "        clearInterval(timer);\n",
       "      }\n",
       "      attempts++;\n",
       "      if (attempts > 100) {\n",
       "        console.log(\"Bokeh: ERROR: Unable to run BokehJS code because BokehJS library is missing\");\n",
       "        clearInterval(timer);\n",
       "      }\n",
       "    }, 10, root)\n",
       "  }\n",
       "})(window);"
      ],
      "application/vnd.bokehjs_exec.v0+json": ""
     },
     "metadata": {
      "application/vnd.bokehjs_exec.v0+json": {
       "id": "4779"
      }
     },
     "output_type": "display_data"
    }
   ],
   "source": [
    "first = figure(tools='reset,pan',plot_width=255, plot_height=250)\n",
    "first.circle('x','y0', size=13, color='red', source=source)\n",
    "\n",
    "second = figure(tools='reset,pan',plot_width=255, plot_height=250)\n",
    "second.circle('x','y1', size=13, color='blue', source=source)\n",
    "\n",
    "final = gridplot([[first, second]])\n",
    "\n",
    "show(final)"
   ]
  },
  {
   "cell_type": "code",
   "execution_count": 37,
   "metadata": {},
   "outputs": [
    {
     "data": {
      "text/html": [
       "\n",
       "\n",
       "\n",
       "\n",
       "\n",
       "\n",
       "  <div class=\"bk-root\" id=\"56f0de25-580c-40a4-b83d-15a27a43df62\" data-root-id=\"5138\"></div>\n"
      ]
     },
     "metadata": {},
     "output_type": "display_data"
    },
    {
     "data": {
      "application/javascript": [
       "(function(root) {\n",
       "  function embed_document(root) {\n",
       "    \n",
       "  var docs_json = {\"a06347a4-06bd-4a3d-8199-25985d64bb01\":{\"roots\":{\"references\":[{\"attributes\":{\"children\":[{\"id\":\"5137\",\"type\":\"ToolbarBox\"},{\"id\":\"5135\",\"type\":\"GridBox\"}]},\"id\":\"5138\",\"type\":\"Column\"},{\"attributes\":{},\"id\":\"5061\",\"type\":\"LinearScale\"},{\"attributes\":{\"text\":\"\"},\"id\":\"5127\",\"type\":\"Title\"},{\"attributes\":{},\"id\":\"5097\",\"type\":\"BasicTicker\"},{\"attributes\":{\"fill_alpha\":{\"value\":0.1},\"fill_color\":{\"value\":\"#1f77b4\"},\"line_alpha\":{\"value\":0.1},\"line_color\":{\"value\":\"#1f77b4\"},\"size\":{\"units\":\"screen\",\"value\":13},\"x\":{\"field\":\"x\"},\"y\":{\"field\":\"y1\"}},\"id\":\"5113\",\"type\":\"Circle\"},{\"attributes\":{\"tools\":[{\"id\":\"5075\",\"type\":\"ResetTool\"},{\"id\":\"5076\",\"type\":\"PanTool\"},{\"id\":\"5077\",\"type\":\"LassoSelectTool\"},{\"id\":\"5106\",\"type\":\"ResetTool\"},{\"id\":\"5107\",\"type\":\"PanTool\"}]},\"id\":\"5136\",\"type\":\"ProxyToolbar\"},{\"attributes\":{},\"id\":\"5075\",\"type\":\"ResetTool\"},{\"attributes\":{},\"id\":\"5107\",\"type\":\"PanTool\"},{\"attributes\":{},\"id\":\"5120\",\"type\":\"BasicTickFormatter\"},{\"attributes\":{\"ticker\":{\"id\":\"5066\",\"type\":\"BasicTicker\"}},\"id\":\"5069\",\"type\":\"Grid\"},{\"attributes\":{\"callback\":null},\"id\":\"5059\",\"type\":\"DataRange1d\"},{\"attributes\":{},\"id\":\"5066\",\"type\":\"BasicTicker\"},{\"attributes\":{\"formatter\":{\"id\":\"5120\",\"type\":\"BasicTickFormatter\"},\"ticker\":{\"id\":\"5071\",\"type\":\"BasicTicker\"}},\"id\":\"5070\",\"type\":\"LinearAxis\"},{\"attributes\":{\"callback\":null},\"id\":\"5057\",\"type\":\"DataRange1d\"},{\"attributes\":{},\"id\":\"5102\",\"type\":\"BasicTicker\"},{\"attributes\":{\"children\":[[{\"id\":\"5056\",\"subtype\":\"Figure\",\"type\":\"Plot\"},0,0],[{\"id\":\"5087\",\"subtype\":\"Figure\",\"type\":\"Plot\"},0,1]]},\"id\":\"5135\",\"type\":\"GridBox\"},{\"attributes\":{\"formatter\":{\"id\":\"5130\",\"type\":\"BasicTickFormatter\"},\"ticker\":{\"id\":\"5102\",\"type\":\"BasicTicker\"}},\"id\":\"5101\",\"type\":\"LinearAxis\"},{\"attributes\":{\"fill_color\":{\"value\":\"blue\"},\"line_color\":{\"value\":\"blue\"},\"size\":{\"units\":\"screen\",\"value\":13},\"x\":{\"field\":\"x\"},\"y\":{\"field\":\"y1\"}},\"id\":\"5112\",\"type\":\"Circle\"},{\"attributes\":{\"fill_color\":{\"value\":\"red\"},\"line_color\":{\"value\":\"red\"},\"size\":{\"units\":\"screen\",\"value\":13},\"x\":{\"field\":\"x\"},\"y\":{\"field\":\"y0\"}},\"id\":\"5083\",\"type\":\"Circle\"},{\"attributes\":{},\"id\":\"5128\",\"type\":\"BasicTickFormatter\"},{\"attributes\":{\"fill_alpha\":{\"value\":0.5},\"fill_color\":{\"value\":\"lightgrey\"},\"level\":\"overlay\",\"line_alpha\":{\"value\":1.0},\"line_color\":{\"value\":\"black\"},\"line_dash\":[4,4],\"line_width\":{\"value\":2},\"xs_units\":\"screen\",\"ys_units\":\"screen\"},\"id\":\"5122\",\"type\":\"PolyAnnotation\"},{\"attributes\":{\"active_drag\":\"auto\",\"active_inspect\":\"auto\",\"active_multi\":null,\"active_scroll\":\"auto\",\"active_tap\":\"auto\",\"tools\":[{\"id\":\"5075\",\"type\":\"ResetTool\"},{\"id\":\"5076\",\"type\":\"PanTool\"},{\"id\":\"5077\",\"type\":\"LassoSelectTool\"}]},\"id\":\"5078\",\"type\":\"Toolbar\"},{\"attributes\":{\"text\":\"\"},\"id\":\"5117\",\"type\":\"Title\"},{\"attributes\":{\"below\":[{\"id\":\"5065\",\"type\":\"LinearAxis\"}],\"center\":[{\"id\":\"5069\",\"type\":\"Grid\"},{\"id\":\"5074\",\"type\":\"Grid\"}],\"left\":[{\"id\":\"5070\",\"type\":\"LinearAxis\"}],\"plot_height\":250,\"plot_width\":255,\"renderers\":[{\"id\":\"5085\",\"type\":\"GlyphRenderer\"}],\"title\":{\"id\":\"5117\",\"type\":\"Title\"},\"toolbar\":{\"id\":\"5078\",\"type\":\"Toolbar\"},\"toolbar_location\":null,\"x_range\":{\"id\":\"5057\",\"type\":\"DataRange1d\"},\"x_scale\":{\"id\":\"5061\",\"type\":\"LinearScale\"},\"y_range\":{\"id\":\"5059\",\"type\":\"DataRange1d\"},\"y_scale\":{\"id\":\"5063\",\"type\":\"LinearScale\"}},\"id\":\"5056\",\"subtype\":\"Figure\",\"type\":\"Plot\"},{\"attributes\":{},\"id\":\"5063\",\"type\":\"LinearScale\"},{\"attributes\":{},\"id\":\"5071\",\"type\":\"BasicTicker\"},{\"attributes\":{\"source\":{\"id\":\"4699\",\"type\":\"ColumnDataSource\"}},\"id\":\"5115\",\"type\":\"CDSView\"},{\"attributes\":{\"fill_alpha\":{\"value\":0.1},\"fill_color\":{\"value\":\"#1f77b4\"},\"line_alpha\":{\"value\":0.1},\"line_color\":{\"value\":\"#1f77b4\"},\"size\":{\"units\":\"screen\",\"value\":13},\"x\":{\"field\":\"x\"},\"y\":{\"field\":\"y0\"}},\"id\":\"5084\",\"type\":\"Circle\"},{\"attributes\":{\"callback\":null},\"id\":\"5088\",\"type\":\"DataRange1d\"},{\"attributes\":{\"data_source\":{\"id\":\"4699\",\"type\":\"ColumnDataSource\"},\"glyph\":{\"id\":\"5112\",\"type\":\"Circle\"},\"hover_glyph\":null,\"muted_glyph\":null,\"nonselection_glyph\":{\"id\":\"5113\",\"type\":\"Circle\"},\"selection_glyph\":null,\"view\":{\"id\":\"5115\",\"type\":\"CDSView\"}},\"id\":\"5114\",\"type\":\"GlyphRenderer\"},{\"attributes\":{},\"id\":\"5092\",\"type\":\"LinearScale\"},{\"attributes\":{\"dimension\":1,\"ticker\":{\"id\":\"5071\",\"type\":\"BasicTicker\"}},\"id\":\"5074\",\"type\":\"Grid\"},{\"attributes\":{\"ticker\":{\"id\":\"5097\",\"type\":\"BasicTicker\"}},\"id\":\"5100\",\"type\":\"Grid\"},{\"attributes\":{\"below\":[{\"id\":\"5096\",\"type\":\"LinearAxis\"}],\"center\":[{\"id\":\"5100\",\"type\":\"Grid\"},{\"id\":\"5105\",\"type\":\"Grid\"}],\"left\":[{\"id\":\"5101\",\"type\":\"LinearAxis\"}],\"plot_height\":250,\"plot_width\":255,\"renderers\":[{\"id\":\"5114\",\"type\":\"GlyphRenderer\"}],\"title\":{\"id\":\"5127\",\"type\":\"Title\"},\"toolbar\":{\"id\":\"5108\",\"type\":\"Toolbar\"},\"toolbar_location\":null,\"x_range\":{\"id\":\"5088\",\"type\":\"DataRange1d\"},\"x_scale\":{\"id\":\"5092\",\"type\":\"LinearScale\"},\"y_range\":{\"id\":\"5090\",\"type\":\"DataRange1d\"},\"y_scale\":{\"id\":\"5094\",\"type\":\"LinearScale\"}},\"id\":\"5087\",\"subtype\":\"Figure\",\"type\":\"Plot\"},{\"attributes\":{},\"id\":\"5076\",\"type\":\"PanTool\"},{\"attributes\":{},\"id\":\"5106\",\"type\":\"ResetTool\"},{\"attributes\":{\"callback\":null,\"data\":{\"x\":[-3,-4,-2,-6,-9,-8,-11,2,3,1,5,8,3,6,4,11,9],\"y0\":[-1.5,-2.0,-1.0,-3.0,-4.5,-4.0,-5.5,1.0,1.5,0.5,2.5,4.0,1.5,3.0,2.0,5.5,4.5],\"y1\":[9,16,4,36,81,64,121,4,9,1,25,64,9,36,16,121,81]},\"selected\":{\"id\":\"4765\",\"type\":\"Selection\"},\"selection_policy\":{\"id\":\"4764\",\"type\":\"UnionRenderers\"}},\"id\":\"4699\",\"type\":\"ColumnDataSource\"},{\"attributes\":{\"active_drag\":\"auto\",\"active_inspect\":\"auto\",\"active_multi\":null,\"active_scroll\":\"auto\",\"active_tap\":\"auto\",\"tools\":[{\"id\":\"5106\",\"type\":\"ResetTool\"},{\"id\":\"5107\",\"type\":\"PanTool\"}]},\"id\":\"5108\",\"type\":\"Toolbar\"},{\"attributes\":{\"toolbar\":{\"id\":\"5136\",\"type\":\"ProxyToolbar\"},\"toolbar_location\":\"above\"},\"id\":\"5137\",\"type\":\"ToolbarBox\"},{\"attributes\":{\"formatter\":{\"id\":\"5118\",\"type\":\"BasicTickFormatter\"},\"ticker\":{\"id\":\"5066\",\"type\":\"BasicTicker\"}},\"id\":\"5065\",\"type\":\"LinearAxis\"},{\"attributes\":{\"formatter\":{\"id\":\"5128\",\"type\":\"BasicTickFormatter\"},\"ticker\":{\"id\":\"5097\",\"type\":\"BasicTicker\"}},\"id\":\"5096\",\"type\":\"LinearAxis\"},{\"attributes\":{},\"id\":\"4764\",\"type\":\"UnionRenderers\"},{\"attributes\":{\"callback\":null,\"overlay\":{\"id\":\"5122\",\"type\":\"PolyAnnotation\"}},\"id\":\"5077\",\"type\":\"LassoSelectTool\"},{\"attributes\":{\"callback\":null},\"id\":\"5090\",\"type\":\"DataRange1d\"},{\"attributes\":{},\"id\":\"5118\",\"type\":\"BasicTickFormatter\"},{\"attributes\":{\"source\":{\"id\":\"4699\",\"type\":\"ColumnDataSource\"}},\"id\":\"5086\",\"type\":\"CDSView\"},{\"attributes\":{\"data_source\":{\"id\":\"4699\",\"type\":\"ColumnDataSource\"},\"glyph\":{\"id\":\"5083\",\"type\":\"Circle\"},\"hover_glyph\":null,\"muted_glyph\":null,\"nonselection_glyph\":{\"id\":\"5084\",\"type\":\"Circle\"},\"selection_glyph\":null,\"view\":{\"id\":\"5086\",\"type\":\"CDSView\"}},\"id\":\"5085\",\"type\":\"GlyphRenderer\"},{\"attributes\":{\"dimension\":1,\"ticker\":{\"id\":\"5102\",\"type\":\"BasicTicker\"}},\"id\":\"5105\",\"type\":\"Grid\"},{\"attributes\":{},\"id\":\"5094\",\"type\":\"LinearScale\"},{\"attributes\":{},\"id\":\"5130\",\"type\":\"BasicTickFormatter\"},{\"attributes\":{},\"id\":\"4765\",\"type\":\"Selection\"}],\"root_ids\":[\"5138\"]},\"title\":\"Bokeh Application\",\"version\":\"1.3.4\"}};\n",
       "  var render_items = [{\"docid\":\"a06347a4-06bd-4a3d-8199-25985d64bb01\",\"roots\":{\"5138\":\"56f0de25-580c-40a4-b83d-15a27a43df62\"}}];\n",
       "  root.Bokeh.embed.embed_items_notebook(docs_json, render_items);\n",
       "\n",
       "  }\n",
       "  if (root.Bokeh !== undefined) {\n",
       "    embed_document(root);\n",
       "  } else {\n",
       "    var attempts = 0;\n",
       "    var timer = setInterval(function(root) {\n",
       "      if (root.Bokeh !== undefined) {\n",
       "        embed_document(root);\n",
       "        clearInterval(timer);\n",
       "      }\n",
       "      attempts++;\n",
       "      if (attempts > 100) {\n",
       "        console.log(\"Bokeh: ERROR: Unable to run BokehJS code because BokehJS library is missing\");\n",
       "        clearInterval(timer);\n",
       "      }\n",
       "    }, 10, root)\n",
       "  }\n",
       "})(window);"
      ],
      "application/vnd.bokehjs_exec.v0+json": ""
     },
     "metadata": {
      "application/vnd.bokehjs_exec.v0+json": {
       "id": "5138"
      }
     },
     "output_type": "display_data"
    }
   ],
   "source": [
    "first = figure(tools='reset,pan,lasso_select',plot_width=255, plot_height=250)\n",
    "first.circle('x','y0', size=13, color='red', source=source)\n",
    "\n",
    "second = figure(tools='reset,pan',plot_width=255, plot_height=250)\n",
    "second.circle('x','y1', size=13, color='blue', source=source)\n",
    "\n",
    "final = gridplot([[first, second]])\n",
    "\n",
    "show(final)"
   ]
  },
  {
   "cell_type": "code",
   "execution_count": null,
   "metadata": {},
   "outputs": [],
   "source": []
  }
 ],
 "metadata": {
  "kernelspec": {
   "display_name": "Python 3",
   "language": "python",
   "name": "python3"
  },
  "language_info": {
   "codemirror_mode": {
    "name": "ipython",
    "version": 3
   },
   "file_extension": ".py",
   "mimetype": "text/x-python",
   "name": "python",
   "nbconvert_exporter": "python",
   "pygments_lexer": "ipython3",
   "version": "3.7.4"
  }
 },
 "nbformat": 4,
 "nbformat_minor": 2
}
