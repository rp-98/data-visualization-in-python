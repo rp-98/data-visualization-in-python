{
 "cells": [
  {
   "cell_type": "markdown",
   "metadata": {},
   "source": [
    "# Chapter 1: Giving computers the ability to learn with data"
   ]
  },
  {
   "cell_type": "markdown",
   "metadata": {},
   "source": [
    "This chapter does not contain any code, but it emphasizes that the following packages will be used throughout this machine learning tutorial: numpy, pandas, matplotlib, sklearn. I will include here a small block of code from the preface of the book.\n"
   ]
  },
  {
   "cell_type": "markdown",
   "metadata": {},
   "source": [
    "## Important libraries"
   ]
  },
  {
   "cell_type": "code",
   "execution_count": 18,
   "metadata": {},
   "outputs": [],
   "source": [
    "from sklearn import datasets\n",
    "import pandas as pd\n",
    "import numpy as np\n",
    "import matplotlib.pyplot as plt\n",
    "%matplotlib inline\n",
    "from warnings import filterwarnings\n",
    "filterwarnings('ignore')"
   ]
  },
  {
   "cell_type": "markdown",
   "metadata": {},
   "source": [
    "## Iris dataset will be used throughout"
   ]
  },
  {
   "cell_type": "code",
   "execution_count": 3,
   "metadata": {},
   "outputs": [
    {
     "data": {
      "text/html": [
       "<div>\n",
       "<style scoped>\n",
       "    .dataframe tbody tr th:only-of-type {\n",
       "        vertical-align: middle;\n",
       "    }\n",
       "\n",
       "    .dataframe tbody tr th {\n",
       "        vertical-align: top;\n",
       "    }\n",
       "\n",
       "    .dataframe thead th {\n",
       "        text-align: right;\n",
       "    }\n",
       "</style>\n",
       "<table border=\"1\" class=\"dataframe\">\n",
       "  <thead>\n",
       "    <tr style=\"text-align: right;\">\n",
       "      <th></th>\n",
       "      <th>sepal length (cm)</th>\n",
       "      <th>sepal width (cm)</th>\n",
       "      <th>petal length (cm)</th>\n",
       "      <th>petal width (cm)</th>\n",
       "      <th>class label</th>\n",
       "    </tr>\n",
       "  </thead>\n",
       "  <tbody>\n",
       "    <tr>\n",
       "      <td>0</td>\n",
       "      <td>5.1</td>\n",
       "      <td>3.5</td>\n",
       "      <td>1.4</td>\n",
       "      <td>0.2</td>\n",
       "      <td>0</td>\n",
       "    </tr>\n",
       "    <tr>\n",
       "      <td>1</td>\n",
       "      <td>4.9</td>\n",
       "      <td>3.0</td>\n",
       "      <td>1.4</td>\n",
       "      <td>0.2</td>\n",
       "      <td>0</td>\n",
       "    </tr>\n",
       "    <tr>\n",
       "      <td>2</td>\n",
       "      <td>4.7</td>\n",
       "      <td>3.2</td>\n",
       "      <td>1.3</td>\n",
       "      <td>0.2</td>\n",
       "      <td>0</td>\n",
       "    </tr>\n",
       "    <tr>\n",
       "      <td>3</td>\n",
       "      <td>4.6</td>\n",
       "      <td>3.1</td>\n",
       "      <td>1.5</td>\n",
       "      <td>0.2</td>\n",
       "      <td>0</td>\n",
       "    </tr>\n",
       "    <tr>\n",
       "      <td>4</td>\n",
       "      <td>5.0</td>\n",
       "      <td>3.6</td>\n",
       "      <td>1.4</td>\n",
       "      <td>0.2</td>\n",
       "      <td>0</td>\n",
       "    </tr>\n",
       "  </tbody>\n",
       "</table>\n",
       "</div>"
      ],
      "text/plain": [
       "   sepal length (cm)  sepal width (cm)  petal length (cm)  petal width (cm)  \\\n",
       "0                5.1               3.5                1.4               0.2   \n",
       "1                4.9               3.0                1.4               0.2   \n",
       "2                4.7               3.2                1.3               0.2   \n",
       "3                4.6               3.1                1.5               0.2   \n",
       "4                5.0               3.6                1.4               0.2   \n",
       "\n",
       "   class label  \n",
       "0            0  \n",
       "1            0  \n",
       "2            0  \n",
       "3            0  \n",
       "4            0  "
      ]
     },
     "execution_count": 3,
     "metadata": {},
     "output_type": "execute_result"
    }
   ],
   "source": [
    "iris=datasets.load_iris()\n",
    "df=pd.DataFrame(iris.data,columns=iris.feature_names)\n",
    "df['class label']=iris.target\n",
    "df.head()"
   ]
  },
  {
   "cell_type": "code",
   "execution_count": 15,
   "metadata": {},
   "outputs": [],
   "source": [
    "#df.style\n",
    "def highlight_max(s):\n",
    "    '''\n",
    "    highlight the maximum in a Series yellow.\n",
    "    '''\n",
    "    is_max = s == s.max()\n",
    "    return ['background-color: yellow' if v else '' for v in is_max]"
   ]
  },
  {
   "cell_type": "code",
   "execution_count": 16,
   "metadata": {},
   "outputs": [
    {
     "data": {
      "text/html": [
       "<style  type=\"text/css\" >\n",
       "    #T_b49ad3d2_0b2e_11ea_a8a2_e4f89c390f11row5_col0 {\n",
       "            background-color:  yellow;\n",
       "        }    #T_b49ad3d2_0b2e_11ea_a8a2_e4f89c390f11row5_col1 {\n",
       "            background-color:  yellow;\n",
       "        }    #T_b49ad3d2_0b2e_11ea_a8a2_e4f89c390f11row5_col2 {\n",
       "            background-color:  yellow;\n",
       "        }    #T_b49ad3d2_0b2e_11ea_a8a2_e4f89c390f11row5_col3 {\n",
       "            background-color:  yellow;\n",
       "        }</style><table id=\"T_b49ad3d2_0b2e_11ea_a8a2_e4f89c390f11\" ><thead>    <tr>        <th class=\"blank level0\" ></th>        <th class=\"col_heading level0 col0\" >sepal length (cm)</th>        <th class=\"col_heading level0 col1\" >sepal width (cm)</th>        <th class=\"col_heading level0 col2\" >petal length (cm)</th>        <th class=\"col_heading level0 col3\" >petal width (cm)</th>    </tr></thead><tbody>\n",
       "                <tr>\n",
       "                        <th id=\"T_b49ad3d2_0b2e_11ea_a8a2_e4f89c390f11level0_row0\" class=\"row_heading level0 row0\" >0</th>\n",
       "                        <td id=\"T_b49ad3d2_0b2e_11ea_a8a2_e4f89c390f11row0_col0\" class=\"data row0 col0\" >5.1</td>\n",
       "                        <td id=\"T_b49ad3d2_0b2e_11ea_a8a2_e4f89c390f11row0_col1\" class=\"data row0 col1\" >3.5</td>\n",
       "                        <td id=\"T_b49ad3d2_0b2e_11ea_a8a2_e4f89c390f11row0_col2\" class=\"data row0 col2\" >1.4</td>\n",
       "                        <td id=\"T_b49ad3d2_0b2e_11ea_a8a2_e4f89c390f11row0_col3\" class=\"data row0 col3\" >0.2</td>\n",
       "            </tr>\n",
       "            <tr>\n",
       "                        <th id=\"T_b49ad3d2_0b2e_11ea_a8a2_e4f89c390f11level0_row1\" class=\"row_heading level0 row1\" >1</th>\n",
       "                        <td id=\"T_b49ad3d2_0b2e_11ea_a8a2_e4f89c390f11row1_col0\" class=\"data row1 col0\" >4.9</td>\n",
       "                        <td id=\"T_b49ad3d2_0b2e_11ea_a8a2_e4f89c390f11row1_col1\" class=\"data row1 col1\" >3</td>\n",
       "                        <td id=\"T_b49ad3d2_0b2e_11ea_a8a2_e4f89c390f11row1_col2\" class=\"data row1 col2\" >1.4</td>\n",
       "                        <td id=\"T_b49ad3d2_0b2e_11ea_a8a2_e4f89c390f11row1_col3\" class=\"data row1 col3\" >0.2</td>\n",
       "            </tr>\n",
       "            <tr>\n",
       "                        <th id=\"T_b49ad3d2_0b2e_11ea_a8a2_e4f89c390f11level0_row2\" class=\"row_heading level0 row2\" >2</th>\n",
       "                        <td id=\"T_b49ad3d2_0b2e_11ea_a8a2_e4f89c390f11row2_col0\" class=\"data row2 col0\" >4.7</td>\n",
       "                        <td id=\"T_b49ad3d2_0b2e_11ea_a8a2_e4f89c390f11row2_col1\" class=\"data row2 col1\" >3.2</td>\n",
       "                        <td id=\"T_b49ad3d2_0b2e_11ea_a8a2_e4f89c390f11row2_col2\" class=\"data row2 col2\" >1.3</td>\n",
       "                        <td id=\"T_b49ad3d2_0b2e_11ea_a8a2_e4f89c390f11row2_col3\" class=\"data row2 col3\" >0.2</td>\n",
       "            </tr>\n",
       "            <tr>\n",
       "                        <th id=\"T_b49ad3d2_0b2e_11ea_a8a2_e4f89c390f11level0_row3\" class=\"row_heading level0 row3\" >3</th>\n",
       "                        <td id=\"T_b49ad3d2_0b2e_11ea_a8a2_e4f89c390f11row3_col0\" class=\"data row3 col0\" >4.6</td>\n",
       "                        <td id=\"T_b49ad3d2_0b2e_11ea_a8a2_e4f89c390f11row3_col1\" class=\"data row3 col1\" >3.1</td>\n",
       "                        <td id=\"T_b49ad3d2_0b2e_11ea_a8a2_e4f89c390f11row3_col2\" class=\"data row3 col2\" >1.5</td>\n",
       "                        <td id=\"T_b49ad3d2_0b2e_11ea_a8a2_e4f89c390f11row3_col3\" class=\"data row3 col3\" >0.2</td>\n",
       "            </tr>\n",
       "            <tr>\n",
       "                        <th id=\"T_b49ad3d2_0b2e_11ea_a8a2_e4f89c390f11level0_row4\" class=\"row_heading level0 row4\" >4</th>\n",
       "                        <td id=\"T_b49ad3d2_0b2e_11ea_a8a2_e4f89c390f11row4_col0\" class=\"data row4 col0\" >5</td>\n",
       "                        <td id=\"T_b49ad3d2_0b2e_11ea_a8a2_e4f89c390f11row4_col1\" class=\"data row4 col1\" >3.6</td>\n",
       "                        <td id=\"T_b49ad3d2_0b2e_11ea_a8a2_e4f89c390f11row4_col2\" class=\"data row4 col2\" >1.4</td>\n",
       "                        <td id=\"T_b49ad3d2_0b2e_11ea_a8a2_e4f89c390f11row4_col3\" class=\"data row4 col3\" >0.2</td>\n",
       "            </tr>\n",
       "            <tr>\n",
       "                        <th id=\"T_b49ad3d2_0b2e_11ea_a8a2_e4f89c390f11level0_row5\" class=\"row_heading level0 row5\" >5</th>\n",
       "                        <td id=\"T_b49ad3d2_0b2e_11ea_a8a2_e4f89c390f11row5_col0\" class=\"data row5 col0\" >5.4</td>\n",
       "                        <td id=\"T_b49ad3d2_0b2e_11ea_a8a2_e4f89c390f11row5_col1\" class=\"data row5 col1\" >3.9</td>\n",
       "                        <td id=\"T_b49ad3d2_0b2e_11ea_a8a2_e4f89c390f11row5_col2\" class=\"data row5 col2\" >1.7</td>\n",
       "                        <td id=\"T_b49ad3d2_0b2e_11ea_a8a2_e4f89c390f11row5_col3\" class=\"data row5 col3\" >0.4</td>\n",
       "            </tr>\n",
       "            <tr>\n",
       "                        <th id=\"T_b49ad3d2_0b2e_11ea_a8a2_e4f89c390f11level0_row6\" class=\"row_heading level0 row6\" >6</th>\n",
       "                        <td id=\"T_b49ad3d2_0b2e_11ea_a8a2_e4f89c390f11row6_col0\" class=\"data row6 col0\" >4.6</td>\n",
       "                        <td id=\"T_b49ad3d2_0b2e_11ea_a8a2_e4f89c390f11row6_col1\" class=\"data row6 col1\" >3.4</td>\n",
       "                        <td id=\"T_b49ad3d2_0b2e_11ea_a8a2_e4f89c390f11row6_col2\" class=\"data row6 col2\" >1.4</td>\n",
       "                        <td id=\"T_b49ad3d2_0b2e_11ea_a8a2_e4f89c390f11row6_col3\" class=\"data row6 col3\" >0.3</td>\n",
       "            </tr>\n",
       "            <tr>\n",
       "                        <th id=\"T_b49ad3d2_0b2e_11ea_a8a2_e4f89c390f11level0_row7\" class=\"row_heading level0 row7\" >7</th>\n",
       "                        <td id=\"T_b49ad3d2_0b2e_11ea_a8a2_e4f89c390f11row7_col0\" class=\"data row7 col0\" >5</td>\n",
       "                        <td id=\"T_b49ad3d2_0b2e_11ea_a8a2_e4f89c390f11row7_col1\" class=\"data row7 col1\" >3.4</td>\n",
       "                        <td id=\"T_b49ad3d2_0b2e_11ea_a8a2_e4f89c390f11row7_col2\" class=\"data row7 col2\" >1.5</td>\n",
       "                        <td id=\"T_b49ad3d2_0b2e_11ea_a8a2_e4f89c390f11row7_col3\" class=\"data row7 col3\" >0.2</td>\n",
       "            </tr>\n",
       "            <tr>\n",
       "                        <th id=\"T_b49ad3d2_0b2e_11ea_a8a2_e4f89c390f11level0_row8\" class=\"row_heading level0 row8\" >8</th>\n",
       "                        <td id=\"T_b49ad3d2_0b2e_11ea_a8a2_e4f89c390f11row8_col0\" class=\"data row8 col0\" >4.4</td>\n",
       "                        <td id=\"T_b49ad3d2_0b2e_11ea_a8a2_e4f89c390f11row8_col1\" class=\"data row8 col1\" >2.9</td>\n",
       "                        <td id=\"T_b49ad3d2_0b2e_11ea_a8a2_e4f89c390f11row8_col2\" class=\"data row8 col2\" >1.4</td>\n",
       "                        <td id=\"T_b49ad3d2_0b2e_11ea_a8a2_e4f89c390f11row8_col3\" class=\"data row8 col3\" >0.2</td>\n",
       "            </tr>\n",
       "            <tr>\n",
       "                        <th id=\"T_b49ad3d2_0b2e_11ea_a8a2_e4f89c390f11level0_row9\" class=\"row_heading level0 row9\" >9</th>\n",
       "                        <td id=\"T_b49ad3d2_0b2e_11ea_a8a2_e4f89c390f11row9_col0\" class=\"data row9 col0\" >4.9</td>\n",
       "                        <td id=\"T_b49ad3d2_0b2e_11ea_a8a2_e4f89c390f11row9_col1\" class=\"data row9 col1\" >3.1</td>\n",
       "                        <td id=\"T_b49ad3d2_0b2e_11ea_a8a2_e4f89c390f11row9_col2\" class=\"data row9 col2\" >1.5</td>\n",
       "                        <td id=\"T_b49ad3d2_0b2e_11ea_a8a2_e4f89c390f11row9_col3\" class=\"data row9 col3\" >0.1</td>\n",
       "            </tr>\n",
       "    </tbody></table>"
      ],
      "text/plain": [
       "<pandas.io.formats.style.Styler at 0x1ee81d6f648>"
      ]
     },
     "execution_count": 16,
     "metadata": {},
     "output_type": "execute_result"
    }
   ],
   "source": [
    "df.iloc[0:10,0:4].style.apply(highlight_max)"
   ]
  },
  {
   "cell_type": "code",
   "execution_count": 26,
   "metadata": {},
   "outputs": [
    {
     "data": {
      "text/html": [
       "<style  type=\"text/css\" >\n",
       "    #T_25f31862_0b31_11ea_b68f_e4f89c390f11row0_col0 {\n",
       "            background-color:  #ff0000;\n",
       "            color:  #f1f1f1;\n",
       "        }    #T_25f31862_0b31_11ea_b68f_e4f89c390f11row0_col1 {\n",
       "            background-color:  #ff2626;\n",
       "            color:  #f1f1f1;\n",
       "        }    #T_25f31862_0b31_11ea_b68f_e4f89c390f11row0_col2 {\n",
       "            background-color:  #ff7373;\n",
       "            color:  #000000;\n",
       "        }    #T_25f31862_0b31_11ea_b68f_e4f89c390f11row0_col3 {\n",
       "            background-color:  #ffe5e5;\n",
       "            color:  #000000;\n",
       "        }    #T_25f31862_0b31_11ea_b68f_e4f89c390f11row0_col4 {\n",
       "            background-color:  #ffe5e5;\n",
       "            color:  #000000;\n",
       "        }    #T_25f31862_0b31_11ea_b68f_e4f89c390f11row1_col0 {\n",
       "            background-color:  #ff5c5c;\n",
       "            color:  #000000;\n",
       "        }    #T_25f31862_0b31_11ea_b68f_e4f89c390f11row1_col1 {\n",
       "            background-color:  #ffe5e5;\n",
       "            color:  #000000;\n",
       "        }    #T_25f31862_0b31_11ea_b68f_e4f89c390f11row1_col2 {\n",
       "            background-color:  #ff7373;\n",
       "            color:  #000000;\n",
       "        }    #T_25f31862_0b31_11ea_b68f_e4f89c390f11row1_col3 {\n",
       "            background-color:  #ffe5e5;\n",
       "            color:  #000000;\n",
       "        }    #T_25f31862_0b31_11ea_b68f_e4f89c390f11row1_col4 {\n",
       "            background-color:  #ffe5e5;\n",
       "            color:  #000000;\n",
       "        }    #T_25f31862_0b31_11ea_b68f_e4f89c390f11row2_col0 {\n",
       "            background-color:  #ffb8b8;\n",
       "            color:  #000000;\n",
       "        }    #T_25f31862_0b31_11ea_b68f_e4f89c390f11row2_col1 {\n",
       "            background-color:  #ff9999;\n",
       "            color:  #000000;\n",
       "        }    #T_25f31862_0b31_11ea_b68f_e4f89c390f11row2_col2 {\n",
       "            background-color:  #ffe5e5;\n",
       "            color:  #000000;\n",
       "        }    #T_25f31862_0b31_11ea_b68f_e4f89c390f11row2_col3 {\n",
       "            background-color:  #ffe5e5;\n",
       "            color:  #000000;\n",
       "        }    #T_25f31862_0b31_11ea_b68f_e4f89c390f11row2_col4 {\n",
       "            background-color:  #ffe5e5;\n",
       "            color:  #000000;\n",
       "        }    #T_25f31862_0b31_11ea_b68f_e4f89c390f11row3_col0 {\n",
       "            background-color:  #ffe5e5;\n",
       "            color:  #000000;\n",
       "        }    #T_25f31862_0b31_11ea_b68f_e4f89c390f11row3_col1 {\n",
       "            background-color:  #ffc0c0;\n",
       "            color:  #000000;\n",
       "        }    #T_25f31862_0b31_11ea_b68f_e4f89c390f11row3_col2 {\n",
       "            background-color:  #ff0000;\n",
       "            color:  #f1f1f1;\n",
       "        }    #T_25f31862_0b31_11ea_b68f_e4f89c390f11row3_col3 {\n",
       "            background-color:  #ffe5e5;\n",
       "            color:  #000000;\n",
       "        }    #T_25f31862_0b31_11ea_b68f_e4f89c390f11row3_col4 {\n",
       "            background-color:  #ffe5e5;\n",
       "            color:  #000000;\n",
       "        }    #T_25f31862_0b31_11ea_b68f_e4f89c390f11row4_col0 {\n",
       "            background-color:  #ff2e2e;\n",
       "            color:  #f1f1f1;\n",
       "        }    #T_25f31862_0b31_11ea_b68f_e4f89c390f11row4_col1 {\n",
       "            background-color:  #ff0000;\n",
       "            color:  #f1f1f1;\n",
       "        }    #T_25f31862_0b31_11ea_b68f_e4f89c390f11row4_col2 {\n",
       "            background-color:  #ff7373;\n",
       "            color:  #000000;\n",
       "        }    #T_25f31862_0b31_11ea_b68f_e4f89c390f11row4_col3 {\n",
       "            background-color:  #ffe5e5;\n",
       "            color:  #000000;\n",
       "        }    #T_25f31862_0b31_11ea_b68f_e4f89c390f11row4_col4 {\n",
       "            background-color:  #ffe5e5;\n",
       "            color:  #000000;\n",
       "        }</style><table id=\"T_25f31862_0b31_11ea_b68f_e4f89c390f11\" ><thead>    <tr>        <th class=\"blank level0\" ></th>        <th class=\"col_heading level0 col0\" >sepal length (cm)</th>        <th class=\"col_heading level0 col1\" >sepal width (cm)</th>        <th class=\"col_heading level0 col2\" >petal length (cm)</th>        <th class=\"col_heading level0 col3\" >petal width (cm)</th>        <th class=\"col_heading level0 col4\" >class label</th>    </tr></thead><tbody>\n",
       "                <tr>\n",
       "                        <th id=\"T_25f31862_0b31_11ea_b68f_e4f89c390f11level0_row0\" class=\"row_heading level0 row0\" >0</th>\n",
       "                        <td id=\"T_25f31862_0b31_11ea_b68f_e4f89c390f11row0_col0\" class=\"data row0 col0\" >5.1</td>\n",
       "                        <td id=\"T_25f31862_0b31_11ea_b68f_e4f89c390f11row0_col1\" class=\"data row0 col1\" >3.5</td>\n",
       "                        <td id=\"T_25f31862_0b31_11ea_b68f_e4f89c390f11row0_col2\" class=\"data row0 col2\" >1.4</td>\n",
       "                        <td id=\"T_25f31862_0b31_11ea_b68f_e4f89c390f11row0_col3\" class=\"data row0 col3\" >0.2</td>\n",
       "                        <td id=\"T_25f31862_0b31_11ea_b68f_e4f89c390f11row0_col4\" class=\"data row0 col4\" >0</td>\n",
       "            </tr>\n",
       "            <tr>\n",
       "                        <th id=\"T_25f31862_0b31_11ea_b68f_e4f89c390f11level0_row1\" class=\"row_heading level0 row1\" >1</th>\n",
       "                        <td id=\"T_25f31862_0b31_11ea_b68f_e4f89c390f11row1_col0\" class=\"data row1 col0\" >4.9</td>\n",
       "                        <td id=\"T_25f31862_0b31_11ea_b68f_e4f89c390f11row1_col1\" class=\"data row1 col1\" >3</td>\n",
       "                        <td id=\"T_25f31862_0b31_11ea_b68f_e4f89c390f11row1_col2\" class=\"data row1 col2\" >1.4</td>\n",
       "                        <td id=\"T_25f31862_0b31_11ea_b68f_e4f89c390f11row1_col3\" class=\"data row1 col3\" >0.2</td>\n",
       "                        <td id=\"T_25f31862_0b31_11ea_b68f_e4f89c390f11row1_col4\" class=\"data row1 col4\" >0</td>\n",
       "            </tr>\n",
       "            <tr>\n",
       "                        <th id=\"T_25f31862_0b31_11ea_b68f_e4f89c390f11level0_row2\" class=\"row_heading level0 row2\" >2</th>\n",
       "                        <td id=\"T_25f31862_0b31_11ea_b68f_e4f89c390f11row2_col0\" class=\"data row2 col0\" >4.7</td>\n",
       "                        <td id=\"T_25f31862_0b31_11ea_b68f_e4f89c390f11row2_col1\" class=\"data row2 col1\" >3.2</td>\n",
       "                        <td id=\"T_25f31862_0b31_11ea_b68f_e4f89c390f11row2_col2\" class=\"data row2 col2\" >1.3</td>\n",
       "                        <td id=\"T_25f31862_0b31_11ea_b68f_e4f89c390f11row2_col3\" class=\"data row2 col3\" >0.2</td>\n",
       "                        <td id=\"T_25f31862_0b31_11ea_b68f_e4f89c390f11row2_col4\" class=\"data row2 col4\" >0</td>\n",
       "            </tr>\n",
       "            <tr>\n",
       "                        <th id=\"T_25f31862_0b31_11ea_b68f_e4f89c390f11level0_row3\" class=\"row_heading level0 row3\" >3</th>\n",
       "                        <td id=\"T_25f31862_0b31_11ea_b68f_e4f89c390f11row3_col0\" class=\"data row3 col0\" >4.6</td>\n",
       "                        <td id=\"T_25f31862_0b31_11ea_b68f_e4f89c390f11row3_col1\" class=\"data row3 col1\" >3.1</td>\n",
       "                        <td id=\"T_25f31862_0b31_11ea_b68f_e4f89c390f11row3_col2\" class=\"data row3 col2\" >1.5</td>\n",
       "                        <td id=\"T_25f31862_0b31_11ea_b68f_e4f89c390f11row3_col3\" class=\"data row3 col3\" >0.2</td>\n",
       "                        <td id=\"T_25f31862_0b31_11ea_b68f_e4f89c390f11row3_col4\" class=\"data row3 col4\" >0</td>\n",
       "            </tr>\n",
       "            <tr>\n",
       "                        <th id=\"T_25f31862_0b31_11ea_b68f_e4f89c390f11level0_row4\" class=\"row_heading level0 row4\" >4</th>\n",
       "                        <td id=\"T_25f31862_0b31_11ea_b68f_e4f89c390f11row4_col0\" class=\"data row4 col0\" >5</td>\n",
       "                        <td id=\"T_25f31862_0b31_11ea_b68f_e4f89c390f11row4_col1\" class=\"data row4 col1\" >3.6</td>\n",
       "                        <td id=\"T_25f31862_0b31_11ea_b68f_e4f89c390f11row4_col2\" class=\"data row4 col2\" >1.4</td>\n",
       "                        <td id=\"T_25f31862_0b31_11ea_b68f_e4f89c390f11row4_col3\" class=\"data row4 col3\" >0.2</td>\n",
       "                        <td id=\"T_25f31862_0b31_11ea_b68f_e4f89c390f11row4_col4\" class=\"data row4 col4\" >0</td>\n",
       "            </tr>\n",
       "    </tbody></table>"
      ],
      "text/plain": [
       "<pandas.io.formats.style.Styler at 0x1ee827c5b08>"
      ]
     },
     "execution_count": 26,
     "metadata": {},
     "output_type": "execute_result"
    }
   ],
   "source": [
    "import seaborn as sns\n",
    "\n",
    "cm = sns.light_palette(\"red\", as_cmap=True)\n",
    "\n",
    "s = df.head().style.background_gradient(cmap=cm)\n",
    "s"
   ]
  },
  {
   "cell_type": "markdown",
   "metadata": {},
   "source": [
    "## Little piece of code from Preface of the book"
   ]
  },
  {
   "cell_type": "code",
   "execution_count": 27,
   "metadata": {},
   "outputs": [
    {
     "data": {
      "image/png": "[encoded data removed]",
      "text/plain": [
       "<Figure size 432x288 with 1 Axes>"
      ]
     },
     "metadata": {
      "needs_background": "light"
     },
     "output_type": "display_data"
    }
   ],
   "source": [
    "y = df.iloc[0:100, 4].values\n",
    "y = np.where(y == 'Iris-setosa', -1, 1)\n",
    "X = df.iloc[0:100, [0, 2]].values\n",
    "plt.scatter(X[:50, 0], X[:50, 1],color='red', marker='x', label='setosa')\n",
    "plt.scatter(X[50:100, 0], X[50:100, 1],color='blue', marker='o', label='versicolor')\n",
    "plt.xlabel('petal length')\n",
    "plt.ylabel('sepal length')\n",
    "plt.legend(loc='upper left')\n",
    "plt.show()"
   ]
  },
  {
   "cell_type": "markdown",
   "metadata": {},
   "source": [
    "## My addition: A little introduction to seaborn"
   ]
  },
  {
   "cell_type": "code",
   "execution_count": 25,
   "metadata": {},
   "outputs": [
    {
     "data": {
      "image/png": "[encoded data removed]",
      "text/plain": [
       "<Figure size 360x360 with 1 Axes>"
      ]
     },
     "metadata": {
      "needs_background": "light"
     },
     "output_type": "display_data"
    }
   ],
   "source": [
    "# import seaborn library\n",
    "import seaborn as sns\n",
    "# Use the 'hue' argument to provide a categorical variable\n",
    "sns.lmplot( x=\"petal length (cm)\", y=\"petal width (cm)\", data=df, fit_reg=False, hue='class label', legend=False)\n",
    "# Move the legend to an empty part of the plot\n",
    "plt.legend(loc='upper left')\n",
    "plt.show()"
   ]
  },
  {
   "cell_type": "code",
   "execution_count": 21,
   "metadata": {},
   "outputs": [
    {
     "data": {
      "text/plain": [
       "<seaborn.axisgrid.FacetGrid at 0x1ee81de1f08>"
      ]
     },
     "execution_count": 21,
     "metadata": {},
     "output_type": "execute_result"
    },
    {
     "data": {
      "image/png": "[encoded data removed]",
      "text/plain": [
       "<Figure size 1080x360 with 3 Axes>"
      ]
     },
     "metadata": {
      "needs_background": "light"
     },
     "output_type": "display_data"
    }
   ],
   "source": [
    "#fit regression line for each class label\n",
    "sns.lmplot( x=\"petal length (cm)\", y=\"petal width (cm)\", data=df, fit_reg=True, col='class label',hue='class label')"
   ]
  },
  {
   "cell_type": "code",
   "execution_count": null,
   "metadata": {},
   "outputs": [],
   "source": []
  }
 ],
 "metadata": {
  "kernelspec": {
   "display_name": "Python 3",
   "language": "python",
   "name": "python3"
  },
  "language_info": {
   "codemirror_mode": {
    "name": "ipython",
    "version": 3
   },
   "file_extension": ".py",
   "mimetype": "text/x-python",
   "name": "python",
   "nbconvert_exporter": "python",
   "pygments_lexer": "ipython3",
   "version": "3.7.4"
  }
 },
 "nbformat": 4,
 "nbformat_minor": 2
}
